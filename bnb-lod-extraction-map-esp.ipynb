{
 "cells": [
  {
   "cell_type": "markdown",
   "metadata": {},
   "source": [
    "# Plataforma BNB Linked Data\n",
    "\n",
    "La [plataforma BNB Linked Data](https://bnb.data.bl.uk/) proporciona acceso a la [British National Bibliography (BNB)](http://www.bl.uk/bibliographic/natbib.html) a través de un punto de acceso SPARQL. \n",
    "\n",
    "Este notebook muestra cómo obtener obras relacionadas con un autor, así como también, los lugares de publicación (campos blt:publication y blt:projectedPublication) para crear un mapa interactivo. "
   ]
  },
  {
   "cell_type": "markdown",
   "metadata": {},
   "source": [
    "## Configuración global\n",
    "\n",
    "Damos valor al recurso de autoridad con el que trabajaremos para crear el mapa interactivo."
   ]
  },
  {
   "cell_type": "code",
   "execution_count": 5,
   "metadata": {},
   "outputs": [],
   "source": [
    "#bnbIdAutor = 'http://bnb.data.bl.uk/id/person/DickensCharles1812-1870'\n",
    "#bnbIdAutor = 'http://bnb.data.bl.uk/id/person/BlakeWilliam1757-1827'\n",
    "#bnbIdAutor = 'http://bnb.data.bl.uk/id/person/WoolfVirginia1882-1941'\n",
    "bnbIdAutor = 'http://bnb.data.bl.uk/id/person/ShakespeareWilliam1564-1616'"
   ]
  },
  {
   "cell_type": "markdown",
   "metadata": {},
   "source": [
    "## Importamos las librerías de software"
   ]
  },
  {
   "cell_type": "code",
   "execution_count": 6,
   "metadata": {},
   "outputs": [],
   "source": [
    "import folium\n",
    "import requests\n",
    "import pandas as pd\n",
    "import json\n",
    "import csv\n",
    "import matplotlib.pyplot as plt\n",
    "from pandas.io.json import json_normalize  "
   ]
  },
  {
   "cell_type": "markdown",
   "metadata": {},
   "source": [
    "## Obtenemos las obras relacionadas con el autor William Shakespeare"
   ]
  },
  {
   "cell_type": "code",
   "execution_count": 17,
   "metadata": {},
   "outputs": [
    {
     "name": "stdout",
     "output_type": "stream",
     "text": [
      "\n",
      "{ \"head\": { \"link\": [], \"vars\": [\"recurso\", \"titulo\", \"fecha\", \"lugar\"] },\n",
      "  \"results\": { \"distinct\": false, \"ordered\": true, \"bindings\": [\n",
      "    { \"recurso\": { \"type\": \"uri\", \"value\": \"http://bnb.data.bl.uk/id/resource/013310275\" }\t, \"titulo\": { \"type\": \"literal\", \"value\": \"Macbeth : teachit KS3 interactive pack\" }\t, \"fecha\": { \"type\": \"literal\", \"value\": \"2006-01\" }\t, \"lugar\": { \"type\": \"uri\", \"value\": \"http://sws.geonames.org/6269131/\" }},\n",
      "    { \"recurso\": { \"type\": \"uri\", \"value\": \"http://bnb.data.bl.uk/id/resource/013310276\" }\t, \"titulo\": { \"type\": \"literal\", \"value\": \"Much ado about nothing : teachit KS3 interactive pack\" }\t, \"fecha\": { \"type\": \"literal\", \"value\": \"2006-01\" }\t, \"lugar\": { \"type\": \"uri\", \"value\": \"http://sws.geonames.org/6269131/\" }},\n",
      "    { \"recurso\": { \"type\": \"uri\", \"value\": \"http://bnb.data.bl.uk/id/resource/013315368\" }\t, \"titulo\": { \"type\": \"literal\", \"value\": \"Hamlet\" }\t, \"fecha\": { \"type\": \"literal\", \"value\": \"2006-01\" }\t, \"lugar\": { \"type\": \"uri\", \"value\": \"http://sws.geonames.org/6269131/\" }},\n",
      "    { \"recurso\": { \"type\": \"uri\", \"value\": \"http://bnb.data.bl.uk/id/resource/019599478\" }\t, \"titulo\": { \"type\": \"literal\", \"value\": \"Twelfth night : the Alexander text\" }\t, \"fecha\": { \"type\": \"literal\", \"value\": \"2020-01\" }\t, \"lugar\": { \"type\": \"uri\", \"value\": \"http://sws.geonames.org/6269131/\" }},\n",
      "    { \"recurso\": { \"type\": \"uri\", \"value\": \"http://bnb.data.bl.uk/id/resource/019599479\" }\t, \"titulo\": { \"type\": \"literal\", \"value\": \"The tempest : the alexander text\" }\t, \"fecha\": { \"type\": \"literal\", \"value\": \"2019-11\" }\t, \"lugar\": { \"type\": \"uri\", \"value\": \"http://sws.geonames.org/6269131/\" }},\n",
      "    { \"recurso\": { \"type\": \"uri\", \"value\": \"http://bnb.data.bl.uk/id/resource/019833965\" }\t, \"titulo\": { \"type\": \"literal\", \"value\": \"Othello\" }\t, \"fecha\": { \"type\": \"literal\", \"value\": \"2020-09\" }\t, \"lugar\": { \"type\": \"uri\", \"value\": \"http://sws.geonames.org/6269131/\" }},\n",
      "    { \"recurso\": { \"type\": \"uri\", \"value\": \"http://bnb.data.bl.uk/id/resource/019833966\" }\t, \"titulo\": { \"type\": \"literal\", \"value\": \"King Lear : the Alexander text\" }\t, \"fecha\": { \"type\": \"literal\", \"value\": \"2020-09\" }\t, \"lugar\": { \"type\": \"uri\", \"value\": \"http://sws.geonames.org/6269131/\" }},\n",
      "    { \"recurso\": { \"type\": \"uri\", \"value\": \"http://bnb.data.bl.uk/id/resource/019833967\" }\t, \"titulo\": { \"type\": \"literal\", \"value\": \"Hamlet : the Alexander text\" }\t, \"fecha\": { \"type\": \"literal\", \"value\": \"2020-09\" }\t, \"lugar\": { \"type\": \"uri\", \"value\": \"http://sws.geonames.org/6269131/\" }},\n",
      "    { \"recurso\": { \"type\": \"uri\", \"value\": \"http://bnb.data.bl.uk/id/resource/006937440\" }\t, \"titulo\": { \"type\": \"literal\", \"value\": \"Timon of Athens\" }\t, \"fecha\": { \"type\": \"literal\", \"value\": \"2004-04\" }\t, \"lugar\": { \"type\": \"uri\", \"value\": \"http://sws.geonames.org/6269131/\" }},\n",
      "    { \"recurso\": { \"type\": \"uri\", \"value\": \"http://bnb.data.bl.uk/id/resource/006954359\" }\t, \"titulo\": { \"type\": \"literal\", \"value\": \"Peter Brook's Hamlet\" }\t, \"fecha\": { \"type\": \"literal\", \"value\": \"2001-08\" }\t, \"lugar\": { \"type\": \"uri\", \"value\": \"http://sws.geonames.org/6269131/\" }},\n",
      "    { \"recurso\": { \"type\": \"uri\", \"value\": \"http://bnb.data.bl.uk/id/resource/018234698\" }\t, \"titulo\": { \"type\": \"literal\", \"value\": \"A midsummer night's dream\" }\t, \"fecha\": { \"type\": \"literal\", \"value\": \"2017-03\" }\t, \"lugar\": { \"type\": \"uri\", \"value\": \"http://sws.geonames.org/6269131/\" }},\n",
      "    { \"recurso\": { \"type\": \"uri\", \"value\": \"http://bnb.data.bl.uk/id/resource/018234699\" }\t, \"titulo\": { \"type\": \"literal\", \"value\": \"Macbeth\" }\t, \"fecha\": { \"type\": \"literal\", \"value\": \"2017-03\" }\t, \"lugar\": { \"type\": \"uri\", \"value\": \"http://sws.geonames.org/6269131/\" }},\n",
      "    { \"recurso\": { \"type\": \"uri\", \"value\": \"http://bnb.data.bl.uk/id/resource/018915583\" }\t, \"titulo\": { \"type\": \"literal\", \"value\": \"Shakespeare's sonnets\" }\t, \"fecha\": { \"type\": \"literal\", \"value\": \"2018-07\" }\t, \"lugar\": { \"type\": \"uri\", \"value\": \"http://sws.geonames.org/6269131/\" }},\n",
      "    { \"recurso\": { \"type\": \"uri\", \"value\": \"http://bnb.data.bl.uk/id/resource/020000717\" }\t, \"titulo\": { \"type\": \"literal\", \"value\": \"Jamakespeare\" }\t, \"fecha\": { \"type\": \"literal\", \"value\": \"2020-10\" }\t, \"lugar\": { \"type\": \"uri\", \"value\": \"http://sws.geonames.org/6269131/\" }},\n",
      "    { \"recurso\": { \"type\": \"uri\", \"value\": \"http://bnb.data.bl.uk/id/resource/015739424\" }\t, \"titulo\": { \"type\": \"literal\", \"value\": \"Julius Caesar the graphic novel : original text\" }\t, \"fecha\": { \"type\": \"literal\", \"value\": \"2011-05\" }\t, \"lugar\": { \"type\": \"uri\", \"value\": \"http://sws.geonames.org/6269131/\" }},\n",
      "    { \"recurso\": { \"type\": \"uri\", \"value\": \"http://bnb.data.bl.uk/id/resource/015739425\" }\t, \"titulo\": { \"type\": \"literal\", \"value\": \"Julius Caesar the graphic novel : plain text\" }\t, \"fecha\": { \"type\": \"literal\", \"value\": \"2011-05\" }\t, \"lugar\": { \"type\": \"uri\", \"value\": \"http://sws.geonames.org/6269131/\" }},\n",
      "    { \"recurso\": { \"type\": \"uri\", \"value\": \"http://bnb.data.bl.uk/id/resource/015739426\" }\t, \"titulo\": { \"type\": \"literal\", \"value\": \"Julius Caesar the graphic novel : quick text\" }\t, \"fecha\": { \"type\": \"literal\", \"value\": \"2011-05\" }\t, \"lugar\": { \"type\": \"uri\", \"value\": \"http://sws.geonames.org/6269131/\" }},\n",
      "    { \"recurso\": { \"type\": \"uri\", \"value\": \"http://bnb.data.bl.uk/id/resource/017944371\" }\t, \"titulo\": { \"type\": \"literal\", \"value\": \"King Richard III\" }\t, \"fecha\": { \"type\": \"literal\", \"value\": \"2016-08\" }\t, \"lugar\": { \"type\": \"uri\", \"value\": \"http://sws.geonames.org/6269131/\" }},\n",
      "    { \"recurso\": { \"type\": \"uri\", \"value\": \"http://bnb.data.bl.uk/id/resource/017955874\" }\t, \"titulo\": { \"type\": \"literal\", \"value\": \"The best loved plays of Shakespeare\" }\t, \"fecha\": { \"type\": \"literal\", \"value\": \"2016-10\" }\t, \"lugar\": { \"type\": \"uri\", \"value\": \"http://sws.geonames.org/6269131/\" }},\n",
      "    { \"recurso\": { \"type\": \"uri\", \"value\": \"http://bnb.data.bl.uk/id/resource/019327483\" }\t, \"titulo\": { \"type\": \"literal\", \"value\": \"Hamlet, Prince of Denmark\" }\t, \"fecha\": { \"type\": \"literal\", \"value\": \"2019-03\" }\t, \"lugar\": { \"type\": \"uri\", \"value\": \"http://sws.geonames.org/6269131/\" }},\n",
      "    { \"recurso\": { \"type\": \"uri\", \"value\": \"http://bnb.data.bl.uk/id/resource/019327532\" }\t, \"titulo\": { \"type\": \"literal\", \"value\": \"As you like it\" }\t, \"fecha\": { \"type\": \"literal\", \"value\": \"2019-04\" }\t, \"lugar\": { \"type\": \"uri\", \"value\": \"http://sws.geonames.org/6269131/\" }},\n",
      "    { \"recurso\": { \"type\": \"uri\", \"value\": \"http://bnb.data.bl.uk/id/resource/019346509\" }\t, \"titulo\": { \"type\": \"literal\", \"value\": \"The tempest\" }\t, \"fecha\": { \"type\": \"literal\", \"value\": \"2019-06\" }\t, \"lugar\": { \"type\": \"uri\", \"value\": \"http://sws.geonames.org/6269131/\" }},\n",
      "    { \"recurso\": { \"type\": \"uri\", \"value\": \"http://bnb.data.bl.uk/id/resource/019346510\" }\t, \"titulo\": { \"type\": \"literal\", \"value\": \"Much ado about nothing\" }\t, \"fecha\": { \"type\": \"literal\", \"value\": \"2019-06\" }\t, \"lugar\": { \"type\": \"uri\", \"value\": \"http://sws.geonames.org/6269131/\" }},\n",
      "    { \"recurso\": { \"type\": \"uri\", \"value\": \"http://bnb.data.bl.uk/id/resource/019452404\" }\t, \"titulo\": { \"type\": \"literal\", \"value\": \"Macbeth\" }\t, \"fecha\": { \"type\": \"literal\", \"value\": \"2019-09\" }\t, \"lugar\": { \"type\": \"uri\", \"value\": \"http://sws.geonames.org/6269131/\" }},\n",
      "    { \"recurso\": { \"type\": \"uri\", \"value\": \"http://bnb.data.bl.uk/id/resource/019452405\" }\t, \"titulo\": { \"type\": \"literal\", \"value\": \"Romeo and Juliet\" }\t, \"fecha\": { \"type\": \"literal\", \"value\": \"2019-09\" }\t, \"lugar\": { \"type\": \"uri\", \"value\": \"http://sws.geonames.org/6269131/\" }},\n",
      "    { \"recurso\": { \"type\": \"uri\", \"value\": \"http://bnb.data.bl.uk/id/resource/019632971\" }\t, \"titulo\": { \"type\": \"literal\", \"value\": \"The merchant of Venice\" }\t, \"fecha\": { \"type\": \"literal\", \"value\": \"2020-02\" }\t, \"lugar\": { \"type\": \"uri\", \"value\": \"http://sws.geonames.org/6269131/\" }},\n",
      "    { \"recurso\": { \"type\": \"uri\", \"value\": \"http://bnb.data.bl.uk/id/resource/019700115\" }\t, \"titulo\": { \"type\": \"literal\", \"value\": \"Twelfth night\" }\t, \"fecha\": { \"type\": \"literal\", \"value\": \"2020-04\" }\t, \"lugar\": { \"type\": \"uri\", \"value\": \"http://sws.geonames.org/6269131/\" }},\n",
      "    { \"recurso\": { \"type\": \"uri\", \"value\": \"http://bnb.data.bl.uk/id/resource/019802164\" }\t, \"titulo\": { \"type\": \"literal\", \"value\": \"Henry IV, part 1\" }\t, \"fecha\": { \"type\": \"literal\", \"value\": \"2020-05\" }\t, \"lugar\": { \"type\": \"uri\", \"value\": \"http://sws.geonames.org/6252001/\" }},\n",
      "    { \"recurso\": { \"type\": \"uri\", \"value\": \"http://bnb.data.bl.uk/id/resource/019802165\" }\t, \"titulo\": { \"type\": \"literal\", \"value\": \"Coriolanus\" }\t, \"fecha\": { \"type\": \"literal\", \"value\": \"2020-05\" }\t, \"lugar\": { \"type\": \"uri\", \"value\": \"http://sws.geonames.org/6252001/\" }},\n",
      "    { \"recurso\": { \"type\": \"uri\", \"value\": \"http://bnb.data.bl.uk/id/resource/019802166\" }\t, \"titulo\": { \"type\": \"literal\", \"value\": \"King Lear\" }\t, \"fecha\": { \"type\": \"literal\", \"value\": \"2020-05\" }\t, \"lugar\": { \"type\": \"uri\", \"value\": \"http://sws.geonames.org/6252001/\" }},\n",
      "    { \"recurso\": { \"type\": \"uri\", \"value\": \"http://bnb.data.bl.uk/id/resource/019802167\" }\t, \"titulo\": { \"type\": \"literal\", \"value\": \"Julius Caesar\" }\t, \"fecha\": { \"type\": \"literal\", \"value\": \"2020-05\" }\t, \"lugar\": { \"type\": \"uri\", \"value\": \"http://sws.geonames.org/6252001/\" }},\n",
      "    { \"recurso\": { \"type\": \"uri\", \"value\": \"http://bnb.data.bl.uk/id/resource/019802168\" }\t, \"titulo\": { \"type\": \"literal\", \"value\": \"Richard III\" }\t, \"fecha\": { \"type\": \"literal\", \"value\": \"2020-05\" }\t, \"lugar\": { \"type\": \"uri\", \"value\": \"http://sws.geonames.org/6252001/\" }},\n",
      "    { \"recurso\": { \"type\": \"uri\", \"value\": \"http://bnb.data.bl.uk/id/resource/019802169\" }\t, \"titulo\": { \"type\": \"literal\", \"value\": \"A midsummer night's dream\" }\t, \"fecha\": { \"type\": \"literal\", \"value\": \"2020-05\" }\t, \"lugar\": { \"type\": \"uri\", \"value\": \"http://sws.geonames.org/6252001/\" }},\n",
      "    { \"recurso\": { \"type\": \"uri\", \"value\": \"http://bnb.data.bl.uk/id/resource/019802170\" }\t, \"titulo\": { \"type\": \"literal\", \"value\": \"Macbeth\" }\t, \"fecha\": { \"type\": \"literal\", \"value\": \"2020-05\" }\t, \"lugar\": { \"type\": \"uri\", \"value\": \"http://sws.geonames.org/6252001/\" }},\n",
      "    { \"recurso\": { \"type\": \"uri\", \"value\": \"http://bnb.data.bl.uk/id/resource/018150032\" }\t, \"titulo\": { \"type\": \"literal\", \"value\": \"Shakespeare's King Lear\" }\t, \"fecha\": { \"type\": \"literal\", \"value\": \"2017-01\" }\t, \"lugar\": { \"type\": \"uri\", \"value\": \"http://sws.geonames.org/6269131/\" }},\n",
      "    { \"recurso\": { \"type\": \"uri\", \"value\": \"http://bnb.data.bl.uk/id/resource/018499034\" }\t, \"titulo\": { \"type\": \"literal\", \"value\": \"The taming of the shrew\" }\t, \"fecha\": { \"type\": \"literal\", \"value\": \"2017-08\" }\t, \"lugar\": { \"type\": \"uri\", \"value\": \"http://sws.geonames.org/6269131/\" }},\n",
      "    { \"recurso\": { \"type\": \"uri\", \"value\": \"http://bnb.data.bl.uk/id/resource/018579480\" }\t, \"titulo\": { \"type\": \"literal\", \"value\": \"Mr. William Shakespeares comedies, histories, and tragedies : a facsimile of the first folio, 1623\" }\t, \"fecha\": { \"type\": \"literal\", \"value\": \"2017-10\" }\t, \"lugar\": { \"type\": \"uri\", \"value\": \"http://sws.geonames.org/6269131/\" }},\n",
      "    { \"recurso\": { \"type\": \"uri\", \"value\": \"http://bnb.data.bl.uk/id/resource/019251387\" }\t, \"titulo\": { \"type\": \"literal\", \"value\": \"The tempest : an authoritative text, sources and contexts, criticism, rewritings and appropriations\" }\t, \"fecha\": { \"type\": \"literal\", \"value\": \"2019-03\" }\t, \"lugar\": { \"type\": \"uri\", \"value\": \"http://sws.geonames.org/6252001/\" }},\n",
      "    { \"recurso\": { \"type\": \"uri\", \"value\": \"http://bnb.data.bl.uk/id/resource/019682367\" }\t, \"titulo\": { \"type\": \"literal\", \"value\": \"Romeo and Juliet & The merchant of Venice\" }\t, \"fecha\": { \"type\": \"literal\", \"value\": \"2020-01\" }\t, \"lugar\": { \"type\": \"uri\", \"value\": \"http://sws.geonames.org/6269131/\" }},\n",
      "    { \"recurso\": { \"type\": \"uri\", \"value\": \"http://bnb.data.bl.uk/id/resource/019978895\" }\t, \"titulo\": { \"type\": \"literal\", \"value\": \"Arden Shakespeare third series complete works\" }\t, \"fecha\": { \"type\": \"literal\", \"value\": \"2020-10\" }\t, \"lugar\": { \"type\": \"uri\", \"value\": \"http://sws.geonames.org/6269131/\" }},\n",
      "    { \"recurso\": { \"type\": \"uri\", \"value\": \"http://bnb.data.bl.uk/id/resource/020159700\" }\t, \"titulo\": { \"type\": \"literal\", \"value\": \"Antony and Cleopatra\" }\t, \"fecha\": { \"type\": \"literal\", \"value\": \"2021-03\" }\t, \"lugar\": { \"type\": \"uri\", \"value\": \"http://sws.geonames.org/6269131/\" }},\n",
      "    { \"recurso\": { \"type\": \"uri\", \"value\": \"http://bnb.data.bl.uk/id/resource/020163178\" }\t, \"titulo\": { \"type\": \"literal\", \"value\": \"That way madness lies : 15 of Shakespeare's most notable works reimagined\" }\t, \"fecha\": { \"type\": \"literal\", \"value\": \"2021-04\" }\t, \"lugar\": { \"type\": \"uri\", \"value\": \"http://sws.geonames.org/6252001/\" }},\n",
      "    { \"recurso\": { \"type\": \"uri\", \"value\": \"http://bnb.data.bl.uk/id/resource/009695262\" }\t, \"titulo\": { \"type\": \"literal\", \"value\": \"King Henry VIII\" }\t, \"fecha\": { \"type\": \"literal\", \"value\": \"2000-09\" }\t, \"lugar\": { \"type\": \"uri\", \"value\": \"http://sws.geonames.org/6269131/\" }},\n",
      "    { \"recurso\": { \"type\": \"uri\", \"value\": \"http://bnb.data.bl.uk/id/resource/009695263\" }\t, \"titulo\": { \"type\": \"literal\", \"value\": \"The tempest\" }\t, \"fecha\": { \"type\": \"literal\", \"value\": \"1999-06\" }\t, \"lugar\": { \"type\": \"uri\", \"value\": \"http://sws.geonames.org/6269131/\" }},\n",
      "    { \"recurso\": { \"type\": \"uri\", \"value\": \"http://bnb.data.bl.uk/id/resource/015265799\" }\t, \"titulo\": { \"type\": \"literal\", \"value\": \"Twelfth night\" }\t, \"fecha\": { \"type\": \"literal\", \"value\": \"2009-07\" }\t, \"lugar\": { \"type\": \"uri\", \"value\": \"http://sws.geonames.org/6269131/\" }},\n",
      "    { \"recurso\": { \"type\": \"uri\", \"value\": \"http://bnb.data.bl.uk/id/resource/015442991\" }\t, \"titulo\": { \"type\": \"literal\", \"value\": \"Romeo and Juliet\" }\t, \"fecha\": { \"type\": \"literal\", \"value\": \"2010-03\" }\t, \"lugar\": { \"type\": \"uri\", \"value\": \"http://sws.geonames.org/6269131/\" }},\n",
      "    { \"recurso\": { \"type\": \"uri\", \"value\": \"http://bnb.data.bl.uk/id/resource/018375593\" }\t, \"titulo\": { \"type\": \"literal\", \"value\": \"The new Oxford Shakespeare : the complete works\" }\t, \"fecha\": { \"type\": \"literal\", \"value\": \"2017-08\" }\t, \"lugar\": { \"type\": \"uri\", \"value\": \"http://sws.geonames.org/6269131/\" }},\n",
      "    { \"recurso\": { \"type\": \"uri\", \"value\": \"http://bnb.data.bl.uk/id/resource/018376622\" }\t, \"titulo\": { \"type\": \"literal\", \"value\": \"The first Hebrew Shakespeare translations : a bilingual edition and commentary\" }\t, \"fecha\": { \"type\": \"literal\", \"value\": \"2017-07\" }\t, \"lugar\": { \"type\": \"uri\", \"value\": \"http://sws.geonames.org/6269131/\" }},\n",
      "    { \"recurso\": { \"type\": \"uri\", \"value\": \"http://bnb.data.bl.uk/id/resource/018385705\" }\t, \"titulo\": { \"type\": \"literal\", \"value\": \"The new Oxford Shakespeare : critical reference edition. Vol. 1\" }\t, \"fecha\": { \"type\": \"literal\", \"value\": \"2017-06\" }\t, \"lugar\": { \"type\": \"uri\", \"value\": \"http://sws.geonames.org/6269131/\" }},\n",
      "    { \"recurso\": { \"type\": \"uri\", \"value\": \"http://bnb.data.bl.uk/id/resource/018385706\" }\t, \"titulo\": { \"type\": \"literal\", \"value\": \"The new Oxford Shakespeare : critical reference edition. Vol. 2\" }\t, \"fecha\": { \"type\": \"literal\", \"value\": \"2017-06\" }\t, \"lugar\": { \"type\": \"uri\", \"value\": \"http://sws.geonames.org/6269131/\" }},\n",
      "    { \"recurso\": { \"type\": \"uri\", \"value\": \"http://bnb.data.bl.uk/id/resource/018406911\" }\t, \"titulo\": { \"type\": \"literal\", \"value\": \"A midsummer night's dream\" }\t, \"fecha\": { \"type\": \"literal\", \"value\": \"2017-08\" }\t, \"lugar\": { \"type\": \"uri\", \"value\": \"http://sws.geonames.org/6252001/\" }},\n",
      "    { \"recurso\": { \"type\": \"uri\", \"value\": \"http://bnb.data.bl.uk/id/resource/018730225\" }\t, \"titulo\": { \"type\": \"literal\", \"value\": \"Love's labor's lost\" }\t, \"fecha\": { \"type\": \"literal\", \"value\": \"2018-04\" }\t, \"lugar\": { \"type\": \"uri\", \"value\": \"http://sws.geonames.org/6269131/\" }},\n",
      "    { \"recurso\": { \"type\": \"uri\", \"value\": \"http://bnb.data.bl.uk/id/resource/018730226\" }\t, \"titulo\": { \"type\": \"literal\", \"value\": \"The comedy of errors\" }\t, \"fecha\": { \"type\": \"literal\", \"value\": \"2018-04\" }\t, \"lugar\": { \"type\": \"uri\", \"value\": \"http://sws.geonames.org/6269131/\" }},\n",
      "    { \"recurso\": { \"type\": \"uri\", \"value\": \"http://bnb.data.bl.uk/id/resource/018730227\" }\t, \"titulo\": { \"type\": \"literal\", \"value\": \"The two gentlemen of Verona\" }\t, \"fecha\": { \"type\": \"literal\", \"value\": \"2018-04\" }\t, \"lugar\": { \"type\": \"uri\", \"value\": \"http://sws.geonames.org/6269131/\" }},\n",
      "    { \"recurso\": { \"type\": \"uri\", \"value\": \"http://bnb.data.bl.uk/id/resource/018730228\" }\t, \"titulo\": { \"type\": \"literal\", \"value\": \"Henry VI, part I\" }\t, \"fecha\": { \"type\": \"literal\", \"value\": \"2018-04\" }\t, \"lugar\": { \"type\": \"uri\", \"value\": \"http://sws.geonames.org/6269131/\" }},\n",
      "    { \"recurso\": { \"type\": \"uri\", \"value\": \"http://bnb.data.bl.uk/id/resource/018730229\" }\t, \"titulo\": { \"type\": \"literal\", \"value\": \"Henry VIII\" }\t, \"fecha\": { \"type\": \"literal\", \"value\": \"2018-04\" }\t, \"lugar\": { \"type\": \"uri\", \"value\": \"http://sws.geonames.org/6269131/\" }},\n",
      "    { \"recurso\": { \"type\": \"uri\", \"value\": \"http://bnb.data.bl.uk/id/resource/018730230\" }\t, \"titulo\": { \"type\": \"literal\", \"value\": \"Coriolanus\" }\t, \"fecha\": { \"type\": \"literal\", \"value\": \"2018-04\" }\t, \"lugar\": { \"type\": \"uri\", \"value\": \"http://sws.geonames.org/6269131/\" }},\n",
      "    { \"recurso\": { \"type\": \"uri\", \"value\": \"http://bnb.data.bl.uk/id/resource/018732367\" }\t, \"titulo\": { \"type\": \"literal\", \"value\": \"William Shakespeare\" }\t, \"fecha\": { \"type\": \"literal\", \"value\": \"2018-04\" }\t, \"lugar\": { \"type\": \"uri\", \"value\": \"http://sws.geonames.org/6252001/\" }},\n",
      "    { \"recurso\": { \"type\": \"uri\", \"value\": \"http://bnb.data.bl.uk/id/resource/018743722\" }\t, \"titulo\": { \"type\": \"literal\", \"value\": \"King John\" }\t, \"fecha\": { \"type\": \"literal\", \"value\": \"2018-02\" }\t, \"lugar\": { \"type\": \"uri\", \"value\": \"http://sws.geonames.org/6269131/\" }},\n",
      "    { \"recurso\": { \"type\": \"uri\", \"value\": \"http://bnb.data.bl.uk/id/resource/019010353\" }\t, \"titulo\": { \"type\": \"literal\", \"value\": \"Love's labour's lost\" }\t, \"fecha\": { \"type\": \"literal\", \"value\": \"2018-08\" }\t, \"lugar\": { \"type\": \"uri\", \"value\": \"http://sws.geonames.org/2921044/\" }},\n",
      "    { \"recurso\": { \"type\": \"uri\", \"value\": \"http://bnb.data.bl.uk/id/resource/019010354\" }\t, \"titulo\": { \"type\": \"literal\", \"value\": \"Love's labour's lost\" }\t, \"fecha\": { \"type\": \"literal\", \"value\": \"2018-08\" }\t, \"lugar\": { \"type\": \"uri\", \"value\": \"http://sws.geonames.org/2921044/\" }},\n",
      "    { \"recurso\": { \"type\": \"uri\", \"value\": \"http://bnb.data.bl.uk/id/resource/019011981\" }\t, \"titulo\": { \"type\": \"literal\", \"value\": \"Romeo and Juliet\" }\t, \"fecha\": { \"type\": \"literal\", \"value\": \"2018-07\" }\t, \"lugar\": { \"type\": \"uri\", \"value\": \"http://sws.geonames.org/6252001/\" }},\n",
      "    { \"recurso\": { \"type\": \"uri\", \"value\": \"http://bnb.data.bl.uk/id/resource/019011984\" }\t, \"titulo\": { \"type\": \"literal\", \"value\": \"Love's labour's lost\" }\t, \"fecha\": { \"type\": \"literal\", \"value\": \"2018-07\" }\t, \"lugar\": { \"type\": \"uri\", \"value\": \"http://sws.geonames.org/6252001/\" }},\n",
      "    { \"recurso\": { \"type\": \"uri\", \"value\": \"http://bnb.data.bl.uk/id/resource/019011985\" }\t, \"titulo\": { \"type\": \"literal\", \"value\": \"King Lear\" }\t, \"fecha\": { \"type\": \"literal\", \"value\": \"2018-07\" }\t, \"lugar\": { \"type\": \"uri\", \"value\": \"http://sws.geonames.org/6252001/\" }},\n",
      "    { \"recurso\": { \"type\": \"uri\", \"value\": \"http://bnb.data.bl.uk/id/resource/019284753\" }\t, \"titulo\": { \"type\": \"literal\", \"value\": \"Much ado about nothing\" }\t, \"fecha\": { \"type\": \"literal\", \"value\": \"2019-05\" }\t, \"lugar\": { \"type\": \"uri\", \"value\": \"http://sws.geonames.org/6269131/\" }},\n",
      "    { \"recurso\": { \"type\": \"uri\", \"value\": \"http://bnb.data.bl.uk/id/resource/019297191\" }\t, \"titulo\": { \"type\": \"literal\", \"value\": \"Venus & Adonis\" }\t, \"fecha\": { \"type\": \"literal\", \"value\": \"2019-02\" }\t, \"lugar\": { \"type\": \"uri\", \"value\": \"http://sws.geonames.org/6252001/\" }},\n",
      "    { \"recurso\": { \"type\": \"uri\", \"value\": \"http://bnb.data.bl.uk/id/resource/019484747\" }\t, \"titulo\": { \"type\": \"literal\", \"value\": \"Macbeth\" }\t, \"fecha\": { \"type\": \"literal\", \"value\": \"2019-07\" }\t, \"lugar\": { \"type\": \"uri\", \"value\": \"http://sws.geonames.org/6269131/\" }},\n",
      "    { \"recurso\": { \"type\": \"uri\", \"value\": \"http://bnb.data.bl.uk/id/resource/013656332\" }\t, \"titulo\": { \"type\": \"literal\", \"value\": \"The merchant of Venice\" }\t, \"fecha\": { \"type\": \"literal\", \"value\": \"2007-04\" }\t, \"lugar\": { \"type\": \"uri\", \"value\": \"http://sws.geonames.org/6269131/\" }},\n",
      "    { \"recurso\": { \"type\": \"uri\", \"value\": \"http://bnb.data.bl.uk/id/resource/019558259\" }\t, \"titulo\": { \"type\": \"literal\", \"value\": \"Much ado about nothing\" }\t, \"fecha\": { \"type\": \"literal\", \"value\": \"2019-11\" }\t, \"lugar\": { \"type\": \"uri\", \"value\": \"http://sws.geonames.org/6269131/\" }},\n",
      "    { \"recurso\": { \"type\": \"uri\", \"value\": \"http://bnb.data.bl.uk/id/resource/019575556\" }\t, \"titulo\": { \"type\": \"literal\", \"value\": \"The first quarto of the Merry wives of Windsor\" }\t, \"fecha\": { \"type\": \"literal\", \"value\": \"2019-11\" }\t, \"lugar\": { \"type\": \"uri\", \"value\": \"http://sws.geonames.org/6269131/\" }},\n",
      "    { \"recurso\": { \"type\": \"uri\", \"value\": \"http://bnb.data.bl.uk/id/resource/019576072\" }\t, \"titulo\": { \"type\": \"literal\", \"value\": \"The complete works of William Shakespeare\" }\t, \"fecha\": { \"type\": \"literal\", \"value\": \"2019-10\" }\t, \"lugar\": { \"type\": \"uri\", \"value\": \"http://sws.geonames.org/6252001/\" }},\n",
      "    { \"recurso\": { \"type\": \"uri\", \"value\": \"http://bnb.data.bl.uk/id/resource/019765921\" }\t, \"titulo\": { \"type\": \"literal\", \"value\": \"The Arden Shakespeare third series complete works\" }\t, \"fecha\": { \"type\": \"literal\", \"value\": \"2020-07\" }\t, \"lugar\": { \"type\": \"uri\", \"value\": \"http://sws.geonames.org/6269131/\" }},\n",
      "    { \"recurso\": { \"type\": \"uri\", \"value\": \"http://bnb.data.bl.uk/id/resource/019928106\" }\t, \"titulo\": { \"type\": \"literal\", \"value\": \"Monologues from Shakespeare's first folio for any gender. The comedies\" }\t, \"fecha\": { \"type\": \"literal\", \"value\": \"2020-11\" }\t, \"lugar\": { \"type\": \"uri\", \"value\": \"http://sws.geonames.org/6252001/\" }},\n",
      "    { \"recurso\": { \"type\": \"uri\", \"value\": \"http://bnb.data.bl.uk/id/resource/019928107\" }\t, \"titulo\": { \"type\": \"literal\", \"value\": \"Monologues from Shakespeare's first folio for any gender. The histories\" }\t, \"fecha\": { \"type\": \"literal\", \"value\": \"2020-11\" }\t, \"lugar\": { \"type\": \"uri\", \"value\": \"http://sws.geonames.org/6252001/\" }},\n",
      "    { \"recurso\": { \"type\": \"uri\", \"value\": \"http://bnb.data.bl.uk/id/resource/019928108\" }\t, \"titulo\": { \"type\": \"literal\", \"value\": \"Monologues from Shakespeare's first folio for any gender. The tragedies\" }\t, \"fecha\": { \"type\": \"literal\", \"value\": \"2020-11\" }\t, \"lugar\": { \"type\": \"uri\", \"value\": \"http://sws.geonames.org/6252001/\" }},\n",
      "    { \"recurso\": { \"type\": \"uri\", \"value\": \"http://bnb.data.bl.uk/id/resource/019928109\" }\t, \"titulo\": { \"type\": \"literal\", \"value\": \"Monologues from Shakespeare's first folio for women. The comedies\" }\t, \"fecha\": { \"type\": \"literal\", \"value\": \"2020-11\" }\t, \"lugar\": { \"type\": \"uri\", \"value\": \"http://sws.geonames.org/6252001/\" }},\n",
      "    { \"recurso\": { \"type\": \"uri\", \"value\": \"http://bnb.data.bl.uk/id/resource/019928110\" }\t, \"titulo\": { \"type\": \"literal\", \"value\": \"Monologues from Shakespeare's first folio for women. The histories\" }\t, \"fecha\": { \"type\": \"literal\", \"value\": \"2020-11\" }\t, \"lugar\": { \"type\": \"uri\", \"value\": \"http://sws.geonames.org/6252001/\" }},\n",
      "    { \"recurso\": { \"type\": \"uri\", \"value\": \"http://bnb.data.bl.uk/id/resource/019928111\" }\t, \"titulo\": { \"type\": \"literal\", \"value\": \"Monologues from Shakespeare's first folio for women. The tragedies\" }\t, \"fecha\": { \"type\": \"literal\", \"value\": \"2020-11\" }\t, \"lugar\": { \"type\": \"uri\", \"value\": \"http://sws.geonames.org/6252001/\" }},\n",
      "    { \"recurso\": { \"type\": \"uri\", \"value\": \"http://bnb.data.bl.uk/id/resource/019928112\" }\t, \"titulo\": { \"type\": \"literal\", \"value\": \"Monologues from Shakespeare's first folio for younger men. The comedies\" }\t, \"fecha\": { \"type\": \"literal\", \"value\": \"2020-11\" }\t, \"lugar\": { \"type\": \"uri\", \"value\": \"http://sws.geonames.org/6252001/\" }},\n",
      "    { \"recurso\": { \"type\": \"uri\", \"value\": \"http://bnb.data.bl.uk/id/resource/019928113\" }\t, \"titulo\": { \"type\": \"literal\", \"value\": \"Monologues from Shakespeare's first folio for younger men. The histories\" }\t, \"fecha\": { \"type\": \"literal\", \"value\": \"2020-11\" }\t, \"lugar\": { \"type\": \"uri\", \"value\": \"http://sws.geonames.org/6252001/\" }},\n",
      "    { \"recurso\": { \"type\": \"uri\", \"value\": \"http://bnb.data.bl.uk/id/resource/019928114\" }\t, \"titulo\": { \"type\": \"literal\", \"value\": \"Monologues from Shakespeare's first folio for younger men. The tragedies\" }\t, \"fecha\": { \"type\": \"literal\", \"value\": \"2020-11\" }\t, \"lugar\": { \"type\": \"uri\", \"value\": \"http://sws.geonames.org/6252001/\" }},\n",
      "    { \"recurso\": { \"type\": \"uri\", \"value\": \"http://bnb.data.bl.uk/id/resource/019928115\" }\t, \"titulo\": { \"type\": \"literal\", \"value\": \"Monologues from Shakespeare's first folio for older men. The comedies\" }\t, \"fecha\": { \"type\": \"literal\", \"value\": \"2020-11\" }\t, \"lugar\": { \"type\": \"uri\", \"value\": \"http://sws.geonames.org/6252001/\" }},\n",
      "    { \"recurso\": { \"type\": \"uri\", \"value\": \"http://bnb.data.bl.uk/id/resource/019928116\" }\t, \"titulo\": { \"type\": \"literal\", \"value\": \"Monologues from Shakespeare's first folio for older men. The histories\" }\t, \"fecha\": { \"type\": \"literal\", \"value\": \"2020-11\" }\t, \"lugar\": { \"type\": \"uri\", \"value\": \"http://sws.geonames.org/6252001/\" }},\n",
      "    { \"recurso\": { \"type\": \"uri\", \"value\": \"http://bnb.data.bl.uk/id/resource/019928117\" }\t, \"titulo\": { \"type\": \"literal\", \"value\": \"Monologues from Shakespeare's first folio for older men. The tragedies\" }\t, \"fecha\": { \"type\": \"literal\", \"value\": \"2020-11\" }\t, \"lugar\": { \"type\": \"uri\", \"value\": \"http://sws.geonames.org/6252001/\" }},\n",
      "    { \"recurso\": { \"type\": \"uri\", \"value\": \"http://bnb.data.bl.uk/id/resource/019937140\" }\t, \"titulo\": { \"type\": \"literal\", \"value\": \"All the sonnets of Shakespeare\" }\t, \"fecha\": { \"type\": \"literal\", \"value\": \"2020-09\" }\t, \"lugar\": { \"type\": \"uri\", \"value\": \"http://sws.geonames.org/6269131/\" }},\n",
      "    { \"recurso\": { \"type\": \"uri\", \"value\": \"http://bnb.data.bl.uk/id/resource/020174448\" }\t, \"titulo\": { \"type\": \"literal\", \"value\": \"Shakespeare's sonnets\" }\t, \"fecha\": { \"type\": \"literal\", \"value\": \"2021-01\" }\t, \"lugar\": { \"type\": \"uri\", \"value\": \"http://sws.geonames.org/2635167/\" }},\n",
      "    { \"recurso\": { \"type\": \"uri\", \"value\": \"http://bnb.data.bl.uk/id/resource/006916080\" }\t, \"titulo\": { \"type\": \"literal\", \"value\": \"Othello\" }\t, \"fecha\": { \"type\": \"literal\", \"value\": \"2002-02\" }\t, \"lugar\": { \"type\": \"uri\", \"value\": \"http://sws.geonames.org/6269131/\" }},\n",
      "    { \"recurso\": { \"type\": \"uri\", \"value\": \"http://bnb.data.bl.uk/id/resource/006916081\" }\t, \"titulo\": { \"type\": \"literal\", \"value\": \"As you like it\" }\t, \"fecha\": { \"type\": \"literal\", \"value\": \"2002-02\" }\t, \"lugar\": { \"type\": \"uri\", \"value\": \"http://sws.geonames.org/6269131/\" }},\n",
      "    { \"recurso\": { \"type\": \"uri\", \"value\": \"http://bnb.data.bl.uk/id/resource/009710922\" }\t, \"titulo\": { \"type\": \"literal\", \"value\": \"The wisdom of William Shakespeare\" }\t, \"fecha\": { \"type\": \"literal\", \"value\": \"2003-05\" }\t, \"lugar\": { \"type\": \"uri\", \"value\": \"http://sws.geonames.org/6252001/\" }},\n",
      "    { \"recurso\": { \"type\": \"uri\", \"value\": \"http://bnb.data.bl.uk/id/resource/013608360\" }\t, \"titulo\": { \"type\": \"literal\", \"value\": \"As you like it\" }\t, \"fecha\": { \"type\": \"literal\", \"value\": \"2007-03\" }\t, \"lugar\": { \"type\": \"uri\", \"value\": \"http://sws.geonames.org/6269131/\" }},\n",
      "    { \"recurso\": { \"type\": \"uri\", \"value\": \"http://bnb.data.bl.uk/id/resource/014235652\" }\t, \"titulo\": { \"type\": \"literal\", \"value\": \"The merchant of Venice\" }\t, \"fecha\": { \"type\": \"literal\", \"value\": \"2008-02\" }\t, \"lugar\": { \"type\": \"uri\", \"value\": \"http://sws.geonames.org/6269131/\" }},\n",
      "    { \"recurso\": { \"type\": \"uri\", \"value\": \"http://bnb.data.bl.uk/id/resource/014778208\" }\t, \"titulo\": { \"type\": \"literal\", \"value\": \"Romeo and Juliet : the graphic novel\" }\t, \"fecha\": { \"type\": \"literal\", \"value\": \"2009-01\" }\t, \"lugar\": { \"type\": \"uri\", \"value\": \"http://sws.geonames.org/6269131/\" }},\n",
      "    { \"recurso\": { \"type\": \"uri\", \"value\": \"http://bnb.data.bl.uk/id/resource/014778209\" }\t, \"titulo\": { \"type\": \"literal\", \"value\": \"Romeo and Juliet : the graphic novel\" }\t, \"fecha\": { \"type\": \"literal\", \"value\": \"2009-01\" }\t, \"lugar\": { \"type\": \"uri\", \"value\": \"http://sws.geonames.org/6269131/\" }},\n",
      "    { \"recurso\": { \"type\": \"uri\", \"value\": \"http://bnb.data.bl.uk/id/resource/014778210\" }\t, \"titulo\": { \"type\": \"literal\", \"value\": \"Romeo and Juliet : the graphic novel\" }\t, \"fecha\": { \"type\": \"literal\", \"value\": \"2009-01\" }\t, \"lugar\": { \"type\": \"uri\", \"value\": \"http://sws.geonames.org/6269131/\" }},\n",
      "    { \"recurso\": { \"type\": \"uri\", \"value\": \"http://bnb.data.bl.uk/id/resource/014800637\" }\t, \"titulo\": { \"type\": \"literal\", \"value\": \"Richard III : the graphic novel\" }\t, \"fecha\": { \"type\": \"literal\", \"value\": \"2009-02\" }\t, \"lugar\": { \"type\": \"uri\", \"value\": \"http://sws.geonames.org/6269131/\" }},\n",
      "    { \"recurso\": { \"type\": \"uri\", \"value\": \"http://bnb.data.bl.uk/id/resource/014800638\" }\t, \"titulo\": { \"type\": \"literal\", \"value\": \"Richard III : the graphic novel\" }\t, \"fecha\": { \"type\": \"literal\", \"value\": \"2009-02\" }\t, \"lugar\": { \"type\": \"uri\", \"value\": \"http://sws.geonames.org/6269131/\" }},\n",
      "    { \"recurso\": { \"type\": \"uri\", \"value\": \"http://bnb.data.bl.uk/id/resource/014800639\" }\t, \"titulo\": { \"type\": \"literal\", \"value\": \"Richard III : the graphic novel\" }\t, \"fecha\": { \"type\": \"literal\", \"value\": \"2009-02\" }\t, \"lugar\": { \"type\": \"uri\", \"value\": \"http://sws.geonames.org/6269131/\" }},\n",
      "    { \"recurso\": { \"type\": \"uri\", \"value\": \"http://bnb.data.bl.uk/id/resource/015978926\" }\t, \"titulo\": { \"type\": \"literal\", \"value\": \"The sonnets\" }\t, \"fecha\": { \"type\": \"literal\", \"value\": \"2012-05\" }\t, \"lugar\": { \"type\": \"uri\", \"value\": \"http://sws.geonames.org/6269131/\" }},\n",
      "    { \"recurso\": { \"type\": \"uri\", \"value\": \"http://bnb.data.bl.uk/id/resource/016048669\" }\t, \"titulo\": { \"type\": \"literal\", \"value\": \"Shakespeare's plays : the first folio\" }\t, \"fecha\": { \"type\": \"literal\", \"value\": \"2012-07\" }\t, \"lugar\": { \"type\": \"uri\", \"value\": \"http://sws.geonames.org/6269131/\" }},\n",
      "    { \"recurso\": { \"type\": \"uri\", \"value\": \"http://bnb.data.bl.uk/id/resource/016182883\" }\t, \"titulo\": { \"type\": \"literal\", \"value\": \"The tempest\" }\t, \"fecha\": { \"type\": \"literal\", \"value\": \"2013-01\" }\t, \"lugar\": { \"type\": \"uri\", \"value\": \"http://sws.geonames.org/1269750/\" }},\n",
      "    { \"recurso\": { \"type\": \"uri\", \"value\": \"http://bnb.data.bl.uk/id/resource/016813680\" }\t, \"titulo\": { \"type\": \"literal\", \"value\": \"Hamlet\" }\t, \"fecha\": { \"type\": \"literal\", \"value\": \"2014-08\" }\t, \"lugar\": { \"type\": \"uri\", \"value\": \"http://sws.geonames.org/6251999/\" }},\n",
      "    { \"recurso\": { \"type\": \"uri\", \"value\": \"http://bnb.data.bl.uk/id/resource/016813681\" }\t, \"titulo\": { \"type\": \"literal\", \"value\": \"Midsummer night's dream\" }\t, \"fecha\": { \"type\": \"literal\", \"value\": \"2014-08\" }\t, \"lugar\": { \"type\": \"uri\", \"value\": \"http://sws.geonames.org/6251999/\" }},\n",
      "    { \"recurso\": { \"type\": \"uri\", \"value\": \"http://bnb.data.bl.uk/id/resource/017655566\" }\t, \"titulo\": { \"type\": \"literal\", \"value\": \"Little book of Shakespeare\" }\t, \"fecha\": { \"type\": \"literal\", \"value\": \"2016-02\" }\t, \"lugar\": { \"type\": \"uri\", \"value\": \"http://sws.geonames.org/6269131/\" }},\n",
      "    { \"recurso\": { \"type\": \"uri\", \"value\": \"http://bnb.data.bl.uk/id/resource/017656754\" }\t, \"titulo\": { \"type\": \"literal\", \"value\": \"The winter's tale\" }\t, \"fecha\": { \"type\": \"literal\", \"value\": \"2015-11\" }\t, \"lugar\": { \"type\": \"uri\", \"value\": \"http://sws.geonames.org/6269131/\" }},\n",
      "    { \"recurso\": { \"type\": \"uri\", \"value\": \"http://bnb.data.bl.uk/id/resource/018275869\" }\t, \"titulo\": { \"type\": \"literal\", \"value\": \"Richard II\" }\t, \"fecha\": { \"type\": \"literal\", \"value\": \"2017-03\" }\t, \"lugar\": { \"type\": \"uri\", \"value\": \"http://sws.geonames.org/6252001/\" }},\n",
      "    { \"recurso\": { \"type\": \"uri\", \"value\": \"http://bnb.data.bl.uk/id/resource/018298302\" }\t, \"titulo\": { \"type\": \"literal\", \"value\": \"Much ado about nothing\" }\t, \"fecha\": { \"type\": \"literal\", \"value\": \"2017-04\" }\t, \"lugar\": { \"type\": \"uri\", \"value\": \"http://sws.geonames.org/6252001/\" }},\n",
      "    { \"recurso\": { \"type\": \"uri\", \"value\": \"http://bnb.data.bl.uk/id/resource/018298303\" }\t, \"titulo\": { \"type\": \"literal\", \"value\": \"Titus Andronicus\" }\t, \"fecha\": { \"type\": \"literal\", \"value\": \"2017-04\" }\t, \"lugar\": { \"type\": \"uri\", \"value\": \"http://sws.geonames.org/6252001/\" }},\n",
      "    { \"recurso\": { \"type\": \"uri\", \"value\": \"http://bnb.data.bl.uk/id/resource/018298304\" }\t, \"titulo\": { \"type\": \"literal\", \"value\": \"Henry IV, part 1\" }\t, \"fecha\": { \"type\": \"literal\", \"value\": \"2017-04\" }\t, \"lugar\": { \"type\": \"uri\", \"value\": \"http://sws.geonames.org/6252001/\" }},\n",
      "    { \"recurso\": { \"type\": \"uri\", \"value\": \"http://bnb.data.bl.uk/id/resource/018492926\" }\t, \"titulo\": { \"type\": \"literal\", \"value\": \"The sonnets\" }\t, \"fecha\": { \"type\": \"literal\", \"value\": \"2017-11\" }\t, \"lugar\": { \"type\": \"uri\", \"value\": \"http://sws.geonames.org/6252001/\" }},\n",
      "    { \"recurso\": { \"type\": \"uri\", \"value\": \"http://bnb.data.bl.uk/id/resource/018492927\" }\t, \"titulo\": { \"type\": \"literal\", \"value\": \"Antony and Cleopatra\" }\t, \"fecha\": { \"type\": \"literal\", \"value\": \"2017-11\" }\t, \"lugar\": { \"type\": \"uri\", \"value\": \"http://sws.geonames.org/6252001/\" }},\n",
      "    { \"recurso\": { \"type\": \"uri\", \"value\": \"http://bnb.data.bl.uk/id/resource/018492928\" }\t, \"titulo\": { \"type\": \"literal\", \"value\": \"The winter's tale\" }\t, \"fecha\": { \"type\": \"literal\", \"value\": \"2017-11\" }\t, \"lugar\": { \"type\": \"uri\", \"value\": \"http://sws.geonames.org/6252001/\" }},\n",
      "    { \"recurso\": { \"type\": \"uri\", \"value\": \"http://bnb.data.bl.uk/id/resource/018492929\" }\t, \"titulo\": { \"type\": \"literal\", \"value\": \"Troilus and Cressida\" }\t, \"fecha\": { \"type\": \"literal\", \"value\": \"2017-11\" }\t, \"lugar\": { \"type\": \"uri\", \"value\": \"http://sws.geonames.org/6252001/\" }},\n",
      "    { \"recurso\": { \"type\": \"uri\", \"value\": \"http://bnb.data.bl.uk/id/resource/018492930\" }\t, \"titulo\": { \"type\": \"literal\", \"value\": \"Henry IV. Part 2\" }\t, \"fecha\": { \"type\": \"literal\", \"value\": \"2017-11\" }\t, \"lugar\": { \"type\": \"uri\", \"value\": \"http://sws.geonames.org/6252001/\" }},\n",
      "    { \"recurso\": { \"type\": \"uri\", \"value\": \"http://bnb.data.bl.uk/id/resource/018543756\" }\t, \"titulo\": { \"type\": \"literal\", \"value\": \"Henry V - the quarto\" }\t, \"fecha\": { \"type\": \"literal\", \"value\": \"2017-09\" }\t, \"lugar\": { \"type\": \"uri\", \"value\": \"http://sws.geonames.org/6269131/\" }},\n",
      "    { \"recurso\": { \"type\": \"uri\", \"value\": \"http://bnb.data.bl.uk/id/resource/018543757\" }\t, \"titulo\": { \"type\": \"literal\", \"value\": \"Hamlet - the first quarto\" }\t, \"fecha\": { \"type\": \"literal\", \"value\": \"2017-09\" }\t, \"lugar\": { \"type\": \"uri\", \"value\": \"http://sws.geonames.org/6269131/\" }},\n",
      "    { \"recurso\": { \"type\": \"uri\", \"value\": \"http://bnb.data.bl.uk/id/resource/018543758\" }\t, \"titulo\": { \"type\": \"literal\", \"value\": \"The tragedie of Othello, the moor of Venice\" }\t, \"fecha\": { \"type\": \"literal\", \"value\": \"2017-09\" }\t, \"lugar\": { \"type\": \"uri\", \"value\": \"http://sws.geonames.org/6269131/\" }},\n",
      "    { \"recurso\": { \"type\": \"uri\", \"value\": \"http://bnb.data.bl.uk/id/resource/018973208\" }\t, \"titulo\": { \"type\": \"literal\", \"value\": \"The comedy of errors\" }\t, \"fecha\": { \"type\": \"literal\", \"value\": \"2018-09\" }\t, \"lugar\": { \"type\": \"uri\", \"value\": \"http://sws.geonames.org/1269750/\" }},\n",
      "    { \"recurso\": { \"type\": \"uri\", \"value\": \"http://bnb.data.bl.uk/id/resource/017992921\" }\t, \"titulo\": { \"type\": \"literal\", \"value\": \"Macbeth\" }\t, \"fecha\": { \"type\": \"literal\", \"value\": \"2016-08\" }\t, \"lugar\": { \"type\": \"uri\", \"value\": \"http://sws.geonames.org/6252001/\" }},\n",
      "    { \"recurso\": { \"type\": \"uri\", \"value\": \"http://bnb.data.bl.uk/id/resource/018001169\" }\t, \"titulo\": { \"type\": \"literal\", \"value\": \"Shakespeare's tragedies\" }\t, \"fecha\": { \"type\": \"literal\", \"value\": \"2016-09\" }\t, \"lugar\": { \"type\": \"uri\", \"value\": \"http://sws.geonames.org/6269131/\" }},\n",
      "    { \"recurso\": { \"type\": \"uri\", \"value\": \"http://bnb.data.bl.uk/id/resource/018339341\" }\t, \"titulo\": { \"type\": \"literal\", \"value\": \"Shakespeare's sonnets\" }\t, \"fecha\": { \"type\": \"literal\", \"value\": \"2017-07\" }\t, \"lugar\": { \"type\": \"uri\", \"value\": \"http://sws.geonames.org/6269131/\" }},\n",
      "    { \"recurso\": { \"type\": \"uri\", \"value\": \"http://bnb.data.bl.uk/id/resource/018646844\" }\t, \"titulo\": { \"type\": \"literal\", \"value\": \"Much ado about nothing\" }\t, \"fecha\": { \"type\": \"literal\", \"value\": \"2018-01\" }\t, \"lugar\": { \"type\": \"uri\", \"value\": \"http://sws.geonames.org/6269131/\" }},\n",
      "    { \"recurso\": { \"type\": \"uri\", \"value\": \"http://bnb.data.bl.uk/id/resource/018651788\" }\t, \"titulo\": { \"type\": \"literal\", \"value\": \"Measure for measure\" }\t, \"fecha\": { \"type\": \"literal\", \"value\": \"2017-12\" }\t, \"lugar\": { \"type\": \"uri\", \"value\": \"http://sws.geonames.org/6252001/\" }},\n",
      "    { \"recurso\": { \"type\": \"uri\", \"value\": \"http://bnb.data.bl.uk/id/resource/018651789\" }\t, \"titulo\": { \"type\": \"literal\", \"value\": \"Richard II\" }\t, \"fecha\": { \"type\": \"literal\", \"value\": \"2017-12\" }\t, \"lugar\": { \"type\": \"uri\", \"value\": \"http://sws.geonames.org/6252001/\" }},\n",
      "    { \"recurso\": { \"type\": \"uri\", \"value\": \"http://bnb.data.bl.uk/id/resource/018651790\" }\t, \"titulo\": { \"type\": \"literal\", \"value\": \"The winter's tale\" }\t, \"fecha\": { \"type\": \"literal\", \"value\": \"2017-12\" }\t, \"lugar\": { \"type\": \"uri\", \"value\": \"http://sws.geonames.org/6252001/\" }},\n",
      "    { \"recurso\": { \"type\": \"uri\", \"value\": \"http://bnb.data.bl.uk/id/resource/018870237\" }\t, \"titulo\": { \"type\": \"literal\", \"value\": \"The merchant of Venice\" }\t, \"fecha\": { \"type\": \"literal\", \"value\": \"2018-05\" }\t, \"lugar\": { \"type\": \"uri\", \"value\": \"http://sws.geonames.org/6269131/\" }},\n",
      "    { \"recurso\": { \"type\": \"uri\", \"value\": \"http://bnb.data.bl.uk/id/resource/019114765\" }\t, \"titulo\": { \"type\": \"literal\", \"value\": \"Macbeth\" }\t, \"fecha\": { \"type\": \"literal\", \"value\": \"2019-01\" }\t, \"lugar\": { \"type\": \"uri\", \"value\": \"http://sws.geonames.org/6269131/\" }},\n",
      "    { \"recurso\": { \"type\": \"uri\", \"value\": \"http://bnb.data.bl.uk/id/resource/019114766\" }\t, \"titulo\": { \"type\": \"literal\", \"value\": \"Romeo and Juliet\" }\t, \"fecha\": { \"type\": \"literal\", \"value\": \"2019-01\" }\t, \"lugar\": { \"type\": \"uri\", \"value\": \"http://sws.geonames.org/6269131/\" }},\n",
      "    { \"recurso\": { \"type\": \"uri\", \"value\": \"http://bnb.data.bl.uk/id/resource/019244120\" }\t, \"titulo\": { \"type\": \"literal\", \"value\": \"William Shakespeare's much ado about mean girls\" }\t, \"fecha\": { \"type\": \"literal\", \"value\": \"2019-04\" }\t, \"lugar\": { \"type\": \"uri\", \"value\": \"http://sws.geonames.org/6252001/\" }},\n",
      "    { \"recurso\": { \"type\": \"uri\", \"value\": \"http://bnb.data.bl.uk/id/resource/018768129\" }\t, \"titulo\": { \"type\": \"literal\", \"value\": \"The complete works of Shakespeare. Volume 3, The tragedies\" }\t, \"fecha\": { \"type\": \"literal\", \"value\": \"2018-04\" }\t, \"lugar\": { \"type\": \"uri\", \"value\": \"http://sws.geonames.org/6269131/\" }},\n",
      "    { \"recurso\": { \"type\": \"uri\", \"value\": \"http://bnb.data.bl.uk/id/resource/018768130\" }\t, \"titulo\": { \"type\": \"literal\", \"value\": \"Shakespeare : the complete works. Volume four, Poems & sonnets\" }\t, \"fecha\": { \"type\": \"literal\", \"value\": \"2018-04\" }\t, \"lugar\": { \"type\": \"uri\", \"value\": \"http://sws.geonames.org/6269131/\" }},\n",
      "    { \"recurso\": { \"type\": \"uri\", \"value\": \"http://bnb.data.bl.uk/id/resource/018768131\" }\t, \"titulo\": { \"type\": \"literal\", \"value\": \"Shakespeare : the complete works. Volume 1, The histories\" }\t, \"fecha\": { \"type\": \"literal\", \"value\": \"2018-04\" }\t, \"lugar\": { \"type\": \"uri\", \"value\": \"http://sws.geonames.org/6269131/\" }},\n",
      "    { \"recurso\": { \"type\": \"uri\", \"value\": \"http://bnb.data.bl.uk/id/resource/018768132\" }\t, \"titulo\": { \"type\": \"literal\", \"value\": \"Shakespeare : the complete works. Volume 2, The comedies\" }\t, \"fecha\": { \"type\": \"literal\", \"value\": \"2018-04\" }\t, \"lugar\": { \"type\": \"uri\", \"value\": \"http://sws.geonames.org/6269131/\" }},\n",
      "    { \"recurso\": { \"type\": \"uri\", \"value\": \"http://bnb.data.bl.uk/id/resource/018785329\" }\t, \"titulo\": { \"type\": \"literal\", \"value\": \"Shakespeare's The tempest : a graphic edition with CSEC study guide\" }\t, \"fecha\": { \"type\": \"literal\", \"value\": \"2018-05\" }\t, \"lugar\": { \"type\": \"uri\", \"value\": \"http://sws.geonames.org/6269131/\" }},\n",
      "    { \"recurso\": { \"type\": \"uri\", \"value\": \"http://bnb.data.bl.uk/id/resource/019033217\" }\t, \"titulo\": { \"type\": \"literal\", \"value\": \"Much ado about nothing\" }\t, \"fecha\": { \"type\": \"literal\", \"value\": \"2018-08\" }\t, \"lugar\": { \"type\": \"uri\", \"value\": \"http://sws.geonames.org/6269131/\" }},\n",
      "    { \"recurso\": { \"type\": \"uri\", \"value\": \"http://bnb.data.bl.uk/id/resource/019039939\" }\t, \"titulo\": { \"type\": \"literal\", \"value\": \"Tales from Shakespeare\" }\t, \"fecha\": { \"type\": \"literal\", \"value\": \"2018-11\" }\t, \"lugar\": { \"type\": \"uri\", \"value\": \"http://sws.geonames.org/6252001/\" }},\n",
      "    { \"recurso\": { \"type\": \"uri\", \"value\": \"http://bnb.data.bl.uk/id/resource/019040403\" }\t, \"titulo\": { \"type\": \"literal\", \"value\": \"Beautiful stories from Shakespeare for children\" }\t, \"fecha\": { \"type\": \"literal\", \"value\": \"2018-11\" }\t, \"lugar\": { \"type\": \"uri\", \"value\": \"http://sws.geonames.org/6252001/\" }},\n",
      "    { \"recurso\": { \"type\": \"uri\", \"value\": \"http://bnb.data.bl.uk/id/resource/019040979\" }\t, \"titulo\": { \"type\": \"literal\", \"value\": \"Queen Margaret\" }\t, \"fecha\": { \"type\": \"literal\", \"value\": \"2018-09\" }\t, \"lugar\": { \"type\": \"uri\", \"value\": \"http://sws.geonames.org/6269131/\" }},\n",
      "    { \"recurso\": { \"type\": \"uri\", \"value\": \"http://bnb.data.bl.uk/id/resource/019041710\" }\t, \"titulo\": { \"type\": \"literal\", \"value\": \"20 Shakespeare children's stories : the complete collection\" }\t, \"fecha\": { \"type\": \"literal\", \"value\": \"2018-08\" }\t, \"lugar\": { \"type\": \"uri\", \"value\": \"http://sws.geonames.org/6269131/\" }},\n",
      "    { \"recurso\": { \"type\": \"uri\", \"value\": \"http://bnb.data.bl.uk/id/resource/019041961\" }\t, \"titulo\": { \"type\": \"literal\", \"value\": \"The merry wives of Windsor\" }\t, \"fecha\": { \"type\": \"literal\", \"value\": \"2018-08\" }\t, \"lugar\": { \"type\": \"uri\", \"value\": \"http://sws.geonames.org/2921044/\" }},\n",
      "    { \"recurso\": { \"type\": \"uri\", \"value\": \"http://bnb.data.bl.uk/id/resource/019041962\" }\t, \"titulo\": { \"type\": \"literal\", \"value\": \"The merry wives of Windsor\" }\t, \"fecha\": { \"type\": \"literal\", \"value\": \"2018-08\" }\t, \"lugar\": { \"type\": \"uri\", \"value\": \"http://sws.geonames.org/2921044/\" }},\n",
      "    { \"recurso\": { \"type\": \"uri\", \"value\": \"http://bnb.data.bl.uk/id/resource/019041963\" }\t, \"titulo\": { \"type\": \"literal\", \"value\": \"King John\" }\t, \"fecha\": { \"type\": \"literal\", \"value\": \"2018-08\" }\t, \"lugar\": { \"type\": \"uri\", \"value\": \"http://sws.geonames.org/2921044/\" }},\n",
      "    { \"recurso\": { \"type\": \"uri\", \"value\": \"http://bnb.data.bl.uk/id/resource/019041964\" }\t, \"titulo\": { \"type\": \"literal\", \"value\": \"Othello\" }\t, \"fecha\": { \"type\": \"literal\", \"value\": \"2018-08\" }\t, \"lugar\": { \"type\": \"uri\", \"value\": \"http://sws.geonames.org/2921044/\" }},\n",
      "    { \"recurso\": { \"type\": \"uri\", \"value\": \"http://bnb.data.bl.uk/id/resource/019041965\" }\t, \"titulo\": { \"type\": \"literal\", \"value\": \"Othello\" }\t, \"fecha\": { \"type\": \"literal\", \"value\": \"2018-08\" }\t, \"lugar\": { \"type\": \"uri\", \"value\": \"http://sws.geonames.org/2921044/\" }},\n",
      "    { \"recurso\": { \"type\": \"uri\", \"value\": \"http://bnb.data.bl.uk/id/resource/019041966\" }\t, \"titulo\": { \"type\": \"literal\", \"value\": \"Winter's tale\" }\t, \"fecha\": { \"type\": \"literal\", \"value\": \"2018-08\" }\t, \"lugar\": { \"type\": \"uri\", \"value\": \"http://sws.geonames.org/2921044/\" }},\n",
      "    { \"recurso\": { \"type\": \"uri\", \"value\": \"http://bnb.data.bl.uk/id/resource/019041967\" }\t, \"titulo\": { \"type\": \"literal\", \"value\": \"Winter's tale\" }\t, \"fecha\": { \"type\": \"literal\", \"value\": \"2018-08\" }\t, \"lugar\": { \"type\": \"uri\", \"value\": \"http://sws.geonames.org/2921044/\" }},\n",
      "    { \"recurso\": { \"type\": \"uri\", \"value\": \"http://bnb.data.bl.uk/id/resource/019201544\" }\t, \"titulo\": { \"type\": \"literal\", \"value\": \"Hamlet\" }\t, \"fecha\": { \"type\": \"literal\", \"value\": \"2019-01\" }\t, \"lugar\": { \"type\": \"uri\", \"value\": \"http://sws.geonames.org/6252001/\" }},\n",
      "    { \"recurso\": { \"type\": \"uri\", \"value\": \"http://bnb.data.bl.uk/id/resource/019439765\" }\t, \"titulo\": { \"type\": \"literal\", \"value\": \"Shakespeare's sonnets\" }\t, \"fecha\": { \"type\": \"literal\", \"value\": \"2019-06\" }\t, \"lugar\": { \"type\": \"uri\", \"value\": \"http://sws.geonames.org/6252001/\" }},\n",
      "    { \"recurso\": { \"type\": \"uri\", \"value\": \"http://bnb.data.bl.uk/id/resource/013321292\" }\t, \"titulo\": { \"type\": \"literal\", \"value\": \"Othello\" }\t, \"fecha\": { \"type\": \"literal\", \"value\": \"2006-01\" }\t, \"lugar\": { \"type\": \"uri\", \"value\": \"http://sws.geonames.org/6252001/\" }},\n",
      "    { \"recurso\": { \"type\": \"uri\", \"value\": \"http://bnb.data.bl.uk/id/resource/015890186\" }\t, \"titulo\": { \"type\": \"literal\", \"value\": \"Best loved plays of Shakespeare\" }\t, \"fecha\": { \"type\": \"literal\", \"value\": \"2012-01\" }\t, \"lugar\": { \"type\": \"uri\", \"value\": \"http://sws.geonames.org/6269131/\" }},\n",
      "    { \"recurso\": { \"type\": \"uri\", \"value\": \"http://bnb.data.bl.uk/id/resource/019665745\" }\t, \"titulo\": { \"type\": \"literal\", \"value\": \"Power\" }\t, \"fecha\": { \"type\": \"literal\", \"value\": \"2020-03\" }\t, \"lugar\": { \"type\": \"uri\", \"value\": \"http://sws.geonames.org/6269131/\" }},\n",
      "    { \"recurso\": { \"type\": \"uri\", \"value\": \"http://bnb.data.bl.uk/id/resource/019702130\" }\t, \"titulo\": { \"type\": \"literal\", \"value\": \"The tragedies\" }\t, \"fecha\": { \"type\": \"literal\", \"value\": \"2020-01\" }\t, \"lugar\": { \"type\": \"uri\", \"value\": \"http://sws.geonames.org/6269131/\" }},\n",
      "    { \"recurso\": { \"type\": \"uri\", \"value\": \"http://bnb.data.bl.uk/id/resource/019702131\" }\t, \"titulo\": { \"type\": \"literal\", \"value\": \"The tragicomedies\" }\t, \"fecha\": { \"type\": \"literal\", \"value\": \"2020-01\" }\t, \"lugar\": { \"type\": \"uri\", \"value\": \"http://sws.geonames.org/6269131/\" }},\n",
      "    { \"recurso\": { \"type\": \"uri\", \"value\": \"http://bnb.data.bl.uk/id/resource/019755998\" }\t, \"titulo\": { \"type\": \"literal\", \"value\": \"A midsummer night's dream : the Alexander text\" }\t, \"fecha\": { \"type\": \"literal\", \"value\": \"2020-06\" }\t, \"lugar\": { \"type\": \"uri\", \"value\": \"http://sws.geonames.org/6269131/\" }},\n",
      "    { \"recurso\": { \"type\": \"uri\", \"value\": \"http://bnb.data.bl.uk/id/resource/019787205\" }\t, \"titulo\": { \"type\": \"literal\", \"value\": \"Twelfth night\" }\t, \"fecha\": { \"type\": \"literal\", \"value\": \"2020-04\" }\t, \"lugar\": { \"type\": \"uri\", \"value\": \"http://sws.geonames.org/6269131/\" }},\n",
      "    { \"recurso\": { \"type\": \"uri\", \"value\": \"http://bnb.data.bl.uk/id/resource/019898299\" }\t, \"titulo\": { \"type\": \"literal\", \"value\": \"Jamakespeare\" }\t, \"fecha\": { \"type\": \"literal\", \"value\": \"2020-10\" }\t, \"lugar\": { \"type\": \"uri\", \"value\": \"http://sws.geonames.org/6269131/\" }},\n",
      "    { \"recurso\": { \"type\": \"uri\", \"value\": \"http://bnb.data.bl.uk/id/resource/019899641\" }\t, \"titulo\": { \"type\": \"literal\", \"value\": \"Monologues from Shakespeare's first folio for any gender. The comedies\" }\t, \"fecha\": { \"type\": \"literal\", \"value\": \"2020-10\" }\t, \"lugar\": { \"type\": \"uri\", \"value\": \"http://sws.geonames.org/6252001/\" }},\n",
      "    { \"recurso\": { \"type\": \"uri\", \"value\": \"http://bnb.data.bl.uk/id/resource/019899642\" }\t, \"titulo\": { \"type\": \"literal\", \"value\": \"Monologues from Shakespeare's first folio for any gender. The histories\" }\t, \"fecha\": { \"type\": \"literal\", \"value\": \"2020-10\" }\t, \"lugar\": { \"type\": \"uri\", \"value\": \"http://sws.geonames.org/6252001/\" }},\n",
      "    { \"recurso\": { \"type\": \"uri\", \"value\": \"http://bnb.data.bl.uk/id/resource/019899643\" }\t, \"titulo\": { \"type\": \"literal\", \"value\": \"Monologues from Shakespeare's first folio for any gender. The tragedies\" }\t, \"fecha\": { \"type\": \"literal\", \"value\": \"2020-10\" }\t, \"lugar\": { \"type\": \"uri\", \"value\": \"http://sws.geonames.org/6252001/\" }},\n",
      "    { \"recurso\": { \"type\": \"uri\", \"value\": \"http://bnb.data.bl.uk/id/resource/019899644\" }\t, \"titulo\": { \"type\": \"literal\", \"value\": \"Monologues from Shakespeare's first folio for women. The comedies\" }\t, \"fecha\": { \"type\": \"literal\", \"value\": \"2020-10\" }\t, \"lugar\": { \"type\": \"uri\", \"value\": \"http://sws.geonames.org/6252001/\" }},\n",
      "    { \"recurso\": { \"type\": \"uri\", \"value\": \"http://bnb.data.bl.uk/id/resource/019899645\" }\t, \"titulo\": { \"type\": \"literal\", \"value\": \"Monologues from Shakespeare's first folio for women. The histories\" }\t, \"fecha\": { \"type\": \"literal\", \"value\": \"2020-10\" }\t, \"lugar\": { \"type\": \"uri\", \"value\": \"http://sws.geonames.org/6252001/\" }},\n",
      "    { \"recurso\": { \"type\": \"uri\", \"value\": \"http://bnb.data.bl.uk/id/resource/019899646\" }\t, \"titulo\": { \"type\": \"literal\", \"value\": \"Monologues from Shakespeare's first folio for women. The tragedies\" }\t, \"fecha\": { \"type\": \"literal\", \"value\": \"2020-10\" }\t, \"lugar\": { \"type\": \"uri\", \"value\": \"http://sws.geonames.org/6252001/\" }},\n",
      "    { \"recurso\": { \"type\": \"uri\", \"value\": \"http://bnb.data.bl.uk/id/resource/019899647\" }\t, \"titulo\": { \"type\": \"literal\", \"value\": \"Monologues from Shakespeare's first folio for younger men. The comedies\" }\t, \"fecha\": { \"type\": \"literal\", \"value\": \"2020-10\" }\t, \"lugar\": { \"type\": \"uri\", \"value\": \"http://sws.geonames.org/6252001/\" }},\n",
      "    { \"recurso\": { \"type\": \"uri\", \"value\": \"http://bnb.data.bl.uk/id/resource/019899648\" }\t, \"titulo\": { \"type\": \"literal\", \"value\": \"Monologues from Shakespeare's first folio for younger men. The histories\" }\t, \"fecha\": { \"type\": \"literal\", \"value\": \"2020-10\" }\t, \"lugar\": { \"type\": \"uri\", \"value\": \"http://sws.geonames.org/6252001/\" }},\n",
      "    { \"recurso\": { \"type\": \"uri\", \"value\": \"http://bnb.data.bl.uk/id/resource/019899649\" }\t, \"titulo\": { \"type\": \"literal\", \"value\": \"Monologues from Shakespeare's first folio for younger men. The tragedies\" }\t, \"fecha\": { \"type\": \"literal\", \"value\": \"2020-10\" }\t, \"lugar\": { \"type\": \"uri\", \"value\": \"http://sws.geonames.org/6252001/\" }},\n",
      "    { \"recurso\": { \"type\": \"uri\", \"value\": \"http://bnb.data.bl.uk/id/resource/019899650\" }\t, \"titulo\": { \"type\": \"literal\", \"value\": \"Monologues from Shakespeare's first folio for older men. The comedies\" }\t, \"fecha\": { \"type\": \"literal\", \"value\": \"2020-10\" }\t, \"lugar\": { \"type\": \"uri\", \"value\": \"http://sws.geonames.org/6252001/\" }},\n",
      "    { \"recurso\": { \"type\": \"uri\", \"value\": \"http://bnb.data.bl.uk/id/resource/019899651\" }\t, \"titulo\": { \"type\": \"literal\", \"value\": \"Monologues from Shakespeare's first folio for older men. The histories\" }\t, \"fecha\": { \"type\": \"literal\", \"value\": \"2020-10\" }\t, \"lugar\": { \"type\": \"uri\", \"value\": \"http://sws.geonames.org/6252001/\" }},\n",
      "    { \"recurso\": { \"type\": \"uri\", \"value\": \"http://bnb.data.bl.uk/id/resource/019899652\" }\t, \"titulo\": { \"type\": \"literal\", \"value\": \"Monologues from Shakespeare's first folio for older men. The tragedies\" }\t, \"fecha\": { \"type\": \"literal\", \"value\": \"2020-10\" }\t, \"lugar\": { \"type\": \"uri\", \"value\": \"http://sws.geonames.org/6252001/\" }},\n",
      "    { \"recurso\": { \"type\": \"uri\", \"value\": \"http://bnb.data.bl.uk/id/resource/019938737\" }\t, \"titulo\": { \"type\": \"literal\", \"value\": \"All the sonnets of Shakespeare\" }\t, \"fecha\": { \"type\": \"literal\", \"value\": \"2020-09\" }\t, \"lugar\": { \"type\": \"uri\", \"value\": \"http://sws.geonames.org/6269131/\" }},\n",
      "    { \"recurso\": { \"type\": \"uri\", \"value\": \"http://bnb.data.bl.uk/id/resource/020122310\" }\t, \"titulo\": { \"type\": \"literal\", \"value\": \"Othello\" }\t, \"fecha\": { \"type\": \"literal\", \"value\": \"2021-02\" }\t, \"lugar\": { \"type\": \"uri\", \"value\": \"http://sws.geonames.org/6252001/\" }},\n",
      "    { \"recurso\": { \"type\": \"uri\", \"value\": \"http://bnb.data.bl.uk/id/resource/020122311\" }\t, \"titulo\": { \"type\": \"literal\", \"value\": \"Macbeth\" }\t, \"fecha\": { \"type\": \"literal\", \"value\": \"2021-02\" }\t, \"lugar\": { \"type\": \"uri\", \"value\": \"http://sws.geonames.org/6252001/\" }},\n",
      "    { \"recurso\": { \"type\": \"uri\", \"value\": \"http://bnb.data.bl.uk/id/resource/020122312\" }\t, \"titulo\": { \"type\": \"literal\", \"value\": \"Julius Caesar\" }\t, \"fecha\": { \"type\": \"literal\", \"value\": \"2021-02\" }\t, \"lugar\": { \"type\": \"uri\", \"value\": \"http://sws.geonames.org/6252001/\" }},\n",
      "    { \"recurso\": { \"type\": \"uri\", \"value\": \"http://bnb.data.bl.uk/id/resource/020122313\" }\t, \"titulo\": { \"type\": \"literal\", \"value\": \"The tempest\" }\t, \"fecha\": { \"type\": \"literal\", \"value\": \"2021-02\" }\t, \"lugar\": { \"type\": \"uri\", \"value\": \"http://sws.geonames.org/6252001/\" }},\n",
      "    { \"recurso\": { \"type\": \"uri\", \"value\": \"http://bnb.data.bl.uk/id/resource/020122314\" }\t, \"titulo\": { \"type\": \"literal\", \"value\": \"The tragedy of King Lear\" }\t, \"fecha\": { \"type\": \"literal\", \"value\": \"2021-02\" }\t, \"lugar\": { \"type\": \"uri\", \"value\": \"http://sws.geonames.org/6252001/\" }},\n",
      "    { \"recurso\": { \"type\": \"uri\", \"value\": \"http://bnb.data.bl.uk/id/resource/020122315\" }\t, \"titulo\": { \"type\": \"literal\", \"value\": \"The comedy of errors\" }\t, \"fecha\": { \"type\": \"literal\", \"value\": \"2021-02\" }\t, \"lugar\": { \"type\": \"uri\", \"value\": \"http://sws.geonames.org/6252001/\" }},\n",
      "    { \"recurso\": { \"type\": \"uri\", \"value\": \"http://bnb.data.bl.uk/id/resource/020122316\" }\t, \"titulo\": { \"type\": \"literal\", \"value\": \"A midsummer night's dream\" }\t, \"fecha\": { \"type\": \"literal\", \"value\": \"2021-02\" }\t, \"lugar\": { \"type\": \"uri\", \"value\": \"http://sws.geonames.org/6252001/\" }},\n",
      "    { \"recurso\": { \"type\": \"uri\", \"value\": \"http://bnb.data.bl.uk/id/resource/020123790\" }\t, \"titulo\": { \"type\": \"literal\", \"value\": \"The first quarto of the Merry wives of Windsor\" }\t, \"fecha\": { \"type\": \"literal\", \"value\": \"2021-02\" }\t, \"lugar\": { \"type\": \"uri\", \"value\": \"http://sws.geonames.org/6269131/\" }},\n",
      "    { \"recurso\": { \"type\": \"uri\", \"value\": \"http://bnb.data.bl.uk/id/resource/020157401\" }\t, \"titulo\": { \"type\": \"literal\", \"value\": \"A midsummer night's dream\" }\t, \"fecha\": { \"type\": \"literal\", \"value\": \"2021-05\" }\t, \"lugar\": { \"type\": \"uri\", \"value\": \"http://sws.geonames.org/6252001/\" }},\n",
      "    { \"recurso\": { \"type\": \"uri\", \"value\": \"http://bnb.data.bl.uk/id/resource/020158325\" }\t, \"titulo\": { \"type\": \"literal\", \"value\": \"Macbeth\" }\t, \"fecha\": { \"type\": \"literal\", \"value\": \"2021-04\" }\t, \"lugar\": { \"type\": \"uri\", \"value\": \"http://sws.geonames.org/6269131/\" }},\n",
      "    { \"recurso\": { \"type\": \"uri\", \"value\": \"http://bnb.data.bl.uk/id/resource/020158327\" }\t, \"titulo\": { \"type\": \"literal\", \"value\": \"Much ado about nothing\" }\t, \"fecha\": { \"type\": \"literal\", \"value\": \"2021-04\" }\t, \"lugar\": { \"type\": \"uri\", \"value\": \"http://sws.geonames.org/6269131/\" }},\n",
      "    { \"recurso\": { \"type\": \"uri\", \"value\": \"http://bnb.data.bl.uk/id/resource/020158331\" }\t, \"titulo\": { \"type\": \"literal\", \"value\": \"The merchant of Venice\" }\t, \"fecha\": { \"type\": \"literal\", \"value\": \"2021-04\" }\t, \"lugar\": { \"type\": \"uri\", \"value\": \"http://sws.geonames.org/6269131/\" }},\n",
      "    { \"recurso\": { \"type\": \"uri\", \"value\": \"http://bnb.data.bl.uk/id/resource/020158334\" }\t, \"titulo\": { \"type\": \"literal\", \"value\": \"Twelfth night\" }\t, \"fecha\": { \"type\": \"literal\", \"value\": \"2021-04\" }\t, \"lugar\": { \"type\": \"uri\", \"value\": \"http://sws.geonames.org/6269131/\" }},\n",
      "    { \"recurso\": { \"type\": \"uri\", \"value\": \"http://bnb.data.bl.uk/id/resource/019736523\" }\t, \"titulo\": { \"type\": \"literal\", \"value\": \"William Shakespeare comedies\" }\t, \"fecha\": { \"type\": \"literal\", \"value\": \"2020-05\" }\t, \"lugar\": { \"type\": \"uri\", \"value\": \"http://sws.geonames.org/6252001/\" }},\n",
      "    { \"recurso\": { \"type\": \"uri\", \"value\": \"http://bnb.data.bl.uk/id/resource/019736524\" }\t, \"titulo\": { \"type\": \"literal\", \"value\": \"William Shakespeare tragedies\" }\t, \"fecha\": { \"type\": \"literal\", \"value\": \"2020-05\" }\t, \"lugar\": { \"type\": \"uri\", \"value\": \"http://sws.geonames.org/6252001/\" }},\n",
      "    { \"recurso\": { \"type\": \"uri\", \"value\": \"http://bnb.data.bl.uk/id/resource/019806992\" }\t, \"titulo\": { \"type\": \"literal\", \"value\": \"The taming of the shrew\" }\t, \"fecha\": { \"type\": \"literal\", \"value\": \"2020-05\" }\t, \"lugar\": { \"type\": \"uri\", \"value\": \"http://sws.geonames.org/6252001/\" }},\n",
      "    { \"recurso\": { \"type\": \"uri\", \"value\": \"http://bnb.data.bl.uk/id/resource/019806993\" }\t, \"titulo\": { \"type\": \"literal\", \"value\": \"The merchant of Venice\" }\t, \"fecha\": { \"type\": \"literal\", \"value\": \"2020-05\" }\t, \"lugar\": { \"type\": \"uri\", \"value\": \"http://sws.geonames.org/6252001/\" }},\n",
      "    { \"recurso\": { \"type\": \"uri\", \"value\": \"http://bnb.data.bl.uk/id/resource/019806994\" }\t, \"titulo\": { \"type\": \"literal\", \"value\": \"Sonnets\" }\t, \"fecha\": { \"type\": \"literal\", \"value\": \"2020-05\" }\t, \"lugar\": { \"type\": \"uri\", \"value\": \"http://sws.geonames.org/6252001/\" }},\n",
      "    { \"recurso\": { \"type\": \"uri\", \"value\": \"http://bnb.data.bl.uk/id/resource/019806995\" }\t, \"titulo\": { \"type\": \"literal\", \"value\": \"Twelfth night\" }\t, \"fecha\": { \"type\": \"literal\", \"value\": \"2020-05\" }\t, \"lugar\": { \"type\": \"uri\", \"value\": \"http://sws.geonames.org/6252001/\" }},\n",
      "    { \"recurso\": { \"type\": \"uri\", \"value\": \"http://bnb.data.bl.uk/id/resource/019806996\" }\t, \"titulo\": { \"type\": \"literal\", \"value\": \"Othello\" }\t, \"fecha\": { \"type\": \"literal\", \"value\": \"2020-05\" }\t, \"lugar\": { \"type\": \"uri\", \"value\": \"http://sws.geonames.org/6252001/\" }},\n",
      "    { \"recurso\": { \"type\": \"uri\", \"value\": \"http://bnb.data.bl.uk/id/resource/020080122\" }\t, \"titulo\": { \"type\": \"literal\", \"value\": \"The tragicomedies\" }\t, \"fecha\": { \"type\": \"literal\", \"value\": \"2021-01\" }\t, \"lugar\": { \"type\": \"uri\", \"value\": \"http://sws.geonames.org/6269131/\" }},\n",
      "    { \"recurso\": { \"type\": \"uri\", \"value\": \"http://bnb.data.bl.uk/id/resource/020103067\" }\t, \"titulo\": { \"type\": \"literal\", \"value\": \"As you like it\" }\t, \"fecha\": { \"type\": \"literal\", \"value\": \"2021-04\" }\t, \"lugar\": { \"type\": \"uri\", \"value\": \"http://sws.geonames.org/6269131/\" }},\n",
      "    { \"recurso\": { \"type\": \"uri\", \"value\": \"http://bnb.data.bl.uk/id/resource/020109015\" }\t, \"titulo\": { \"type\": \"literal\", \"value\": \"All the sonnets of Shakespeare\" }\t, \"fecha\": { \"type\": \"literal\", \"value\": \"2021-02\" }\t, \"lugar\": { \"type\": \"uri\", \"value\": \"http://sws.geonames.org/6269131/\" }},\n",
      "    { \"recurso\": { \"type\": \"uri\", \"value\": \"http://bnb.data.bl.uk/id/resource/020129365\" }\t, \"titulo\": { \"type\": \"literal\", \"value\": \"Manga classics Othello\" }\t, \"fecha\": { \"type\": \"literal\", \"value\": \"2021-05\" }\t, \"lugar\": { \"type\": \"uri\", \"value\": \"http://sws.geonames.org/6251999/\" }} ] } }\n"
     ]
    }
   ],
   "source": [
    "url = 'https://bnb.data.bl.uk/sparql'\n",
    "sentencia = \"\"\"\n",
    "PREFIX bibo: <http://purl.org/ontology/bibo/>\n",
    "PREFIX bio: <http://purl.org/vocab/bio/0.1/>\n",
    "PREFIX blt: <http://www.bl.uk/schemas/bibliographic/blterms#>\n",
    "PREFIX dct: <http://purl.org/dc/terms/>\n",
    "PREFIX event: <http://purl.org/NET/c4dm/event.owl#>\n",
    "PREFIX foaf: <http://xmlns.com/foaf/0.1/>\n",
    "PREFIX geo: <http://www.w3.org/2003/01/geo/wgs84_pos#>\n",
    "PREFIX isbd: <http://iflastandards.info/ns/isbd/elements/>\n",
    "PREFIX org: <http://www.w3.org/ns/org#>\n",
    "PREFIX owl: <http://www.w3.org/2002/07/owl#>\n",
    "PREFIX rdau: <http://rdaregistry.info/Elements/u/>\n",
    "PREFIX madsrdf: <http://www.loc.gov/mads/rdf/v1#>\n",
    "PREFIX rdf: <http://www.w3.org/1999/02/22-rdf-syntax-ns#>\n",
    "PREFIX rdfs: <http://www.w3.org/2000/01/rdf-schema#>\n",
    "PREFIX skos: <http://www.w3.org/2004/02/skos/core#>\n",
    "PREFIX void: <http://rdfs.org/ns/void#>\n",
    "PREFIX xsd: <http://www.w3.org/2001/XMLSchema#>\n",
    "PREFIX umbel: <http://umbel.org/umbel#>\n",
    "PREFIX schema: <http://schema.org/>\n",
    "PREFIX c4dm: <http://purl.org/NET/c4dm/event.owl#>\n",
    "\n",
    "SELECT DISTINCT ?recurso ?titulo ?fecha ?lugar WHERE {{\n",
    "    graph <http://bnb.data.bl.uk/id/graph/BNBCIP> {{\n",
    "      ?recurso ?p <{0}> ;\n",
    "         dct:title ?titulo ;\n",
    "         schema:datePublished ?fecha .\n",
    "      OPTIONAL {{\n",
    "          ?recurso blt:projectedPublication ?publicacion .\n",
    "          ?publicacion c4dm:place ?lugar .\n",
    "          FILTER regex(?lugar, \"geonames\", \"i\")        \n",
    "      }}\n",
    "      OPTIONAL {{\n",
    "          ?recurso blt:publication ?publicacion .\n",
    "          ?publicacion c4dm:place ?lugar .\n",
    "          FILTER regex(?lugar, \"geonames\", \"i\")        \n",
    "      }}\n",
    "    }}\n",
    "}} LIMIT 500\n",
    "\"\"\"\n",
    "\n",
    "sentencia = sentencia.format(bnbIdAuthor)\n",
    "\n",
    "# usamos json como resultado\n",
    "cabeceras = {'Accept': 'application/sparql-results+json'}\n",
    "r = requests.get(url, params = {'format': 'application/sparql-results+json', 'query': sentencia}, headers=cabeceras)\n",
    "\n",
    "print(r.text)"
   ]
  },
  {
   "cell_type": "markdown",
   "metadata": {},
   "source": [
    "## Guardamos el resultado como un fichero CSV "
   ]
  },
  {
   "cell_type": "code",
   "execution_count": 18,
   "metadata": {},
   "outputs": [],
   "source": [
    "bnbdatos = json.loads(r.text)\n",
    "\n",
    "with open('bnb_registros.csv', 'w', newline='') as fichero:\n",
    "    csv_salida = csv.writer(fichero, delimiter = ',', quotechar = '\"', quoting = csv.QUOTE_MINIMAL)    \n",
    "\n",
    "    csv_salida.writerow(['recurso', 'lugar', 'titulo', 'fecha'])\n",
    "\n",
    "    for i in bnbdatos['results']['bindings']:\n",
    "        recurso = lugar = titulo = fecha =''\n",
    "\n",
    "        recurso = i['recurso']['value']\n",
    "        #if \"lugar\" in i:\n",
    "        lugar = i['lugar']['value']\n",
    "        titulo = i['titulo']['value']\n",
    "        fecha = i['fecha']['value']\n",
    "\n",
    "        csv_salida.writerow([recurso,lugar,titulo,fecha])"
   ]
  },
  {
   "cell_type": "markdown",
   "metadata": {},
   "source": [
    "## Explorando los datos"
   ]
  },
  {
   "cell_type": "code",
   "execution_count": 19,
   "metadata": {},
   "outputs": [],
   "source": [
    "df = pd.read_csv('bnb_registros.csv')"
   ]
  },
  {
   "cell_type": "code",
   "execution_count": 20,
   "metadata": {},
   "outputs": [
    {
     "data": {
      "text/html": [
       "<div>\n",
       "<style scoped>\n",
       "    .dataframe tbody tr th:only-of-type {\n",
       "        vertical-align: middle;\n",
       "    }\n",
       "\n",
       "    .dataframe tbody tr th {\n",
       "        vertical-align: top;\n",
       "    }\n",
       "\n",
       "    .dataframe thead th {\n",
       "        text-align: right;\n",
       "    }\n",
       "</style>\n",
       "<table border=\"1\" class=\"dataframe\">\n",
       "  <thead>\n",
       "    <tr style=\"text-align: right;\">\n",
       "      <th></th>\n",
       "      <th>recurso</th>\n",
       "      <th>lugar</th>\n",
       "      <th>titulo</th>\n",
       "      <th>fecha</th>\n",
       "    </tr>\n",
       "  </thead>\n",
       "  <tbody>\n",
       "    <tr>\n",
       "      <th>0</th>\n",
       "      <td>http://bnb.data.bl.uk/id/resource/013310275</td>\n",
       "      <td>http://sws.geonames.org/6269131/</td>\n",
       "      <td>Macbeth : teachit KS3 interactive pack</td>\n",
       "      <td>2006-01</td>\n",
       "    </tr>\n",
       "    <tr>\n",
       "      <th>1</th>\n",
       "      <td>http://bnb.data.bl.uk/id/resource/013310276</td>\n",
       "      <td>http://sws.geonames.org/6269131/</td>\n",
       "      <td>Much ado about nothing : teachit KS3 interacti...</td>\n",
       "      <td>2006-01</td>\n",
       "    </tr>\n",
       "    <tr>\n",
       "      <th>2</th>\n",
       "      <td>http://bnb.data.bl.uk/id/resource/013315368</td>\n",
       "      <td>http://sws.geonames.org/6269131/</td>\n",
       "      <td>Hamlet</td>\n",
       "      <td>2006-01</td>\n",
       "    </tr>\n",
       "    <tr>\n",
       "      <th>3</th>\n",
       "      <td>http://bnb.data.bl.uk/id/resource/019599478</td>\n",
       "      <td>http://sws.geonames.org/6269131/</td>\n",
       "      <td>Twelfth night : the Alexander text</td>\n",
       "      <td>2020-01</td>\n",
       "    </tr>\n",
       "    <tr>\n",
       "      <th>4</th>\n",
       "      <td>http://bnb.data.bl.uk/id/resource/019599479</td>\n",
       "      <td>http://sws.geonames.org/6269131/</td>\n",
       "      <td>The tempest : the alexander text</td>\n",
       "      <td>2019-11</td>\n",
       "    </tr>\n",
       "    <tr>\n",
       "      <th>...</th>\n",
       "      <td>...</td>\n",
       "      <td>...</td>\n",
       "      <td>...</td>\n",
       "      <td>...</td>\n",
       "    </tr>\n",
       "    <tr>\n",
       "      <th>187</th>\n",
       "      <td>http://bnb.data.bl.uk/id/resource/019806996</td>\n",
       "      <td>http://sws.geonames.org/6252001/</td>\n",
       "      <td>Othello</td>\n",
       "      <td>2020-05</td>\n",
       "    </tr>\n",
       "    <tr>\n",
       "      <th>188</th>\n",
       "      <td>http://bnb.data.bl.uk/id/resource/020080122</td>\n",
       "      <td>http://sws.geonames.org/6269131/</td>\n",
       "      <td>The tragicomedies</td>\n",
       "      <td>2021-01</td>\n",
       "    </tr>\n",
       "    <tr>\n",
       "      <th>189</th>\n",
       "      <td>http://bnb.data.bl.uk/id/resource/020103067</td>\n",
       "      <td>http://sws.geonames.org/6269131/</td>\n",
       "      <td>As you like it</td>\n",
       "      <td>2021-04</td>\n",
       "    </tr>\n",
       "    <tr>\n",
       "      <th>190</th>\n",
       "      <td>http://bnb.data.bl.uk/id/resource/020109015</td>\n",
       "      <td>http://sws.geonames.org/6269131/</td>\n",
       "      <td>All the sonnets of Shakespeare</td>\n",
       "      <td>2021-02</td>\n",
       "    </tr>\n",
       "    <tr>\n",
       "      <th>191</th>\n",
       "      <td>http://bnb.data.bl.uk/id/resource/020129365</td>\n",
       "      <td>http://sws.geonames.org/6251999/</td>\n",
       "      <td>Manga classics Othello</td>\n",
       "      <td>2021-05</td>\n",
       "    </tr>\n",
       "  </tbody>\n",
       "</table>\n",
       "<p>192 rows × 4 columns</p>\n",
       "</div>"
      ],
      "text/plain": [
       "                                         recurso  \\\n",
       "0    http://bnb.data.bl.uk/id/resource/013310275   \n",
       "1    http://bnb.data.bl.uk/id/resource/013310276   \n",
       "2    http://bnb.data.bl.uk/id/resource/013315368   \n",
       "3    http://bnb.data.bl.uk/id/resource/019599478   \n",
       "4    http://bnb.data.bl.uk/id/resource/019599479   \n",
       "..                                           ...   \n",
       "187  http://bnb.data.bl.uk/id/resource/019806996   \n",
       "188  http://bnb.data.bl.uk/id/resource/020080122   \n",
       "189  http://bnb.data.bl.uk/id/resource/020103067   \n",
       "190  http://bnb.data.bl.uk/id/resource/020109015   \n",
       "191  http://bnb.data.bl.uk/id/resource/020129365   \n",
       "\n",
       "                                lugar  \\\n",
       "0    http://sws.geonames.org/6269131/   \n",
       "1    http://sws.geonames.org/6269131/   \n",
       "2    http://sws.geonames.org/6269131/   \n",
       "3    http://sws.geonames.org/6269131/   \n",
       "4    http://sws.geonames.org/6269131/   \n",
       "..                                ...   \n",
       "187  http://sws.geonames.org/6252001/   \n",
       "188  http://sws.geonames.org/6269131/   \n",
       "189  http://sws.geonames.org/6269131/   \n",
       "190  http://sws.geonames.org/6269131/   \n",
       "191  http://sws.geonames.org/6251999/   \n",
       "\n",
       "                                                titulo    fecha  \n",
       "0               Macbeth : teachit KS3 interactive pack  2006-01  \n",
       "1    Much ado about nothing : teachit KS3 interacti...  2006-01  \n",
       "2                                               Hamlet  2006-01  \n",
       "3                   Twelfth night : the Alexander text  2020-01  \n",
       "4                     The tempest : the alexander text  2019-11  \n",
       "..                                                 ...      ...  \n",
       "187                                            Othello  2020-05  \n",
       "188                                  The tragicomedies  2021-01  \n",
       "189                                     As you like it  2021-04  \n",
       "190                     All the sonnets of Shakespeare  2021-02  \n",
       "191                             Manga classics Othello  2021-05  \n",
       "\n",
       "[192 rows x 4 columns]"
      ]
     },
     "execution_count": 20,
     "metadata": {},
     "output_type": "execute_result"
    }
   ],
   "source": [
    "df"
   ]
  },
  {
   "cell_type": "markdown",
   "metadata": {},
   "source": [
    "## ¿Cuántos registros hemos recuperado?"
   ]
  },
  {
   "cell_type": "code",
   "execution_count": 21,
   "metadata": {},
   "outputs": [
    {
     "data": {
      "text/plain": [
       "192"
      ]
     },
     "execution_count": 21,
     "metadata": {},
     "output_type": "execute_result"
    }
   ],
   "source": [
    "len(df)"
   ]
  },
  {
   "cell_type": "markdown",
   "metadata": {},
   "source": [
    "### Vamos a contar el número de resultados por lugar"
   ]
  },
  {
   "cell_type": "code",
   "execution_count": 22,
   "metadata": {},
   "outputs": [],
   "source": [
    "lugares_por_recurso = df.groupby(\"lugar\")[\"recurso\"].count()"
   ]
  },
  {
   "cell_type": "code",
   "execution_count": 23,
   "metadata": {},
   "outputs": [
    {
     "data": {
      "text/plain": [
       "lugar\n",
       "http://sws.geonames.org/1269750/      2\n",
       "http://sws.geonames.org/2635167/      1\n",
       "http://sws.geonames.org/2921044/      9\n",
       "http://sws.geonames.org/6251999/      3\n",
       "http://sws.geonames.org/6252001/     75\n",
       "http://sws.geonames.org/6269131/    102\n",
       "Name: recurso, dtype: int64"
      ]
     },
     "execution_count": 23,
     "metadata": {},
     "output_type": "execute_result"
    }
   ],
   "source": [
    "lugares_por_recurso"
   ]
  },
  {
   "cell_type": "markdown",
   "metadata": {},
   "source": [
    "### Creamos una gráfica para visualizar los recursos por fecha"
   ]
  },
  {
   "cell_type": "code",
   "execution_count": 24,
   "metadata": {},
   "outputs": [
    {
     "data": {
      "image/png": "[encoded data removed]",
      "text/plain": [
       "<Figure size 1008x576 with 1 Axes>"
      ]
     },
     "metadata": {
      "needs_background": "light"
     },
     "output_type": "display_data"
    }
   ],
   "source": [
    "ax = df['fecha'].value_counts().plot(kind='bar',\n",
    "                                    figsize=(14,8),\n",
    "                                    title=\"Número de recursos por fecha\")\n",
    "ax.set_xlabel(\"Fechas\")\n",
    "ax.set_ylabel(\"Recursos\")\n",
    "plt.show()"
   ]
  },
  {
   "cell_type": "markdown",
   "metadata": {},
   "source": [
    "### Agrupamos los elementos por año"
   ]
  },
  {
   "cell_type": "code",
   "execution_count": 25,
   "metadata": {},
   "outputs": [],
   "source": [
    "df['año'] = pd.DatetimeIndex(df['fecha']).year"
   ]
  },
  {
   "cell_type": "code",
   "execution_count": 26,
   "metadata": {},
   "outputs": [
    {
     "data": {
      "text/plain": [
       "0      2006\n",
       "1      2006\n",
       "2      2006\n",
       "3      2020\n",
       "4      2019\n",
       "       ... \n",
       "187    2020\n",
       "188    2021\n",
       "189    2021\n",
       "190    2021\n",
       "191    2021\n",
       "Name: año, Length: 192, dtype: int64"
      ]
     },
     "execution_count": 26,
     "metadata": {},
     "output_type": "execute_result"
    }
   ],
   "source": [
    "df['año']"
   ]
  },
  {
   "cell_type": "markdown",
   "metadata": {},
   "source": [
    "### Creamos una gráfica por año"
   ]
  },
  {
   "cell_type": "code",
   "execution_count": 27,
   "metadata": {},
   "outputs": [
    {
     "data": {
      "image/png": "[encoded data removed]",
      "text/plain": [
       "<Figure size 1008x576 with 1 Axes>"
      ]
     },
     "metadata": {
      "needs_background": "light"
     },
     "output_type": "display_data"
    }
   ],
   "source": [
    "ax = df['año'].value_counts().plot(kind='bar',\n",
    "                                    figsize=(14,8),\n",
    "                                    title=\"Número de recursos por año\")\n",
    "ax.set_xlabel(\"Fechas\")\n",
    "ax.set_ylabel(\"Recursos\")\n",
    "plt.show()"
   ]
  },
  {
   "cell_type": "markdown",
   "metadata": {},
   "source": [
    "## Explorando los lugares"
   ]
  },
  {
   "cell_type": "code",
   "execution_count": 29,
   "metadata": {},
   "outputs": [
    {
     "name": "stdout",
     "output_type": "stream",
     "text": [
      "http://sws.geonames.org/1269750/\n",
      "http://sws.geonames.org/2635167/\n",
      "http://sws.geonames.org/2921044/\n",
      "http://sws.geonames.org/6251999/\n",
      "http://sws.geonames.org/6252001/\n",
      "http://sws.geonames.org/6269131/\n"
     ]
    }
   ],
   "source": [
    "lugares = pd.unique(df['lugar']).tolist()\n",
    "cadena_lugares = ''\n",
    "for a in sorted(lugares):\n",
    "    print(a)\n",
    "    cadena_lugares = cadena_lugares + ' \\\"' + a.replace(\"http://sws.geonames.org/\", \"\").replace(\"/\", \"\") + '\\\"'"
   ]
  },
  {
   "cell_type": "markdown",
   "metadata": {},
   "source": [
    "### Obtenemos la latitud y la longitud de Wikidata"
   ]
  },
  {
   "cell_type": "code",
   "execution_count": 30,
   "metadata": {},
   "outputs": [
    {
     "name": "stdout",
     "output_type": "stream",
     "text": [
      "\n",
      "PREFIX bibo: <http://purl.org/ontology/bibo/>\n",
      "SELECT ?idgeonames ?lat ?lon ?x ?xLabel \n",
      "WHERE { \n",
      "  values ?idgeonames {  \"1269750\" \"2635167\" \"2921044\" \"6251999\" \"6252001\" \"6269131\" } \n",
      "  ?x wdt:P1566 ?idgeonames ; \n",
      "   p:P625 [\n",
      "     psv:P625 [\n",
      "       wikibase:geoLatitude ?lat ;\n",
      "       wikibase:geoLongitude ?lon ;\n",
      "       wikibase:geoGlobe ?globe ;\n",
      "     ];\n",
      "     ps:P625 ?coord\n",
      "   ]\n",
      "   SERVICE wikibase:label { bd:serviceParam wikibase:language \"[AUTO_LANGUAGE],en\". }\n",
      "}\n",
      "\n"
     ]
    }
   ],
   "source": [
    "url = 'https://query.wikidata.org/sparql'\n",
    "sentencia = \"\"\"\n",
    "PREFIX bibo: <http://purl.org/ontology/bibo/>\n",
    "SELECT ?idgeonames ?lat ?lon ?x ?xLabel \n",
    "WHERE {{ \n",
    "  values ?idgeonames {{ {0} }} \n",
    "  ?x wdt:P1566 ?idgeonames ; \n",
    "   p:P625 [\n",
    "     psv:P625 [\n",
    "       wikibase:geoLatitude ?lat ;\n",
    "       wikibase:geoLongitude ?lon ;\n",
    "       wikibase:geoGlobe ?globe ;\n",
    "     ];\n",
    "     ps:P625 ?coord\n",
    "   ]\n",
    "   SERVICE wikibase:label {{ bd:serviceParam wikibase:language \"[AUTO_LANGUAGE],en\". }}\n",
    "}}\n",
    "\"\"\"\n",
    "\n",
    "sentencia = sentencia.format(cadena_lugares)\n",
    "print(sentencia)\n",
    "\n",
    "r = requests.get(url, params = {'format': 'json', 'query': sentencia})\n",
    "puntos_geo = r.json()"
   ]
  },
  {
   "cell_type": "markdown",
   "metadata": {},
   "source": [
    "### Finalmente, añadimos los marcadores al mapa"
   ]
  },
  {
   "cell_type": "code",
   "execution_count": 33,
   "metadata": {},
   "outputs": [
    {
     "name": "stdout",
     "output_type": "stream",
     "text": [
      "51.0 10.0\n",
      "39.828175 -98.5795\n",
      "22.8 83.0\n",
      "54.6 -2.0\n",
      "53.0 -1.0\n",
      "56.0 -109.0\n"
     ]
    }
   ],
   "source": [
    "mapa = folium.Map(location=[0,0], zoom_start=1.5)\n",
    "\n",
    "for geo in puntos_geo['results']['bindings']:\n",
    "    idwikidata = geo['x']['value']\n",
    "    lat = geo['lat']['value']\n",
    "    lon = geo['lon']['value']\n",
    "    idgeonames = geo['idgeonames']['value']\n",
    "    etiqueta = geo['xLabel']['value']\n",
    "    print(lat, lon)\n",
    "    \n",
    "    # adding a text to the popup\n",
    "    count = lugares_por_recurso[['http://sws.geonames.org/' + idgeonames + '/']][0]\n",
    "    texto_popup = str(count) + \" registros publicados en <a hreh='\" + str(idwikidata) + \"'>\" + etiqueta + \"</a>\"\n",
    "    \n",
    "    folium.Marker([lat,lon], popup= texto_popup).add_to(mapa)"
   ]
  },
  {
   "cell_type": "code",
   "execution_count": 34,
   "metadata": {},
   "outputs": [
    {
     "data": {
      "text/html": [
       "<div style=\"width:100%;\"><div style=\"position:relative;width:100%;height:0;padding-bottom:60%;\"><iframe src=\"about:blank\" style=\"position:absolute;width:100%;height:100%;left:0;top:0;border:none !important;\" data-html=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 onload=\"this.contentDocument.open();this.contentDocument.write(atob(this.getAttribute('data-html')));this.contentDocument.close();\" allowfullscreen webkitallowfullscreen mozallowfullscreen></iframe></div></div>"
      ],
      "text/plain": [
       "<folium.folium.Map at 0x7f674918b048>"
      ]
     },
     "execution_count": 34,
     "metadata": {},
     "output_type": "execute_result"
    }
   ],
   "source": [
    "mapa"
   ]
  },
  {
   "cell_type": "code",
   "execution_count": null,
   "metadata": {},
   "outputs": [],
   "source": []
  }
 ],
 "metadata": {
  "kernelspec": {
   "display_name": "Python 3",
   "language": "python",
   "name": "python3"
  },
  "language_info": {
   "codemirror_mode": {
    "name": "ipython",
    "version": 3
   },
   "file_extension": ".py",
   "mimetype": "text/x-python",
   "name": "python",
   "nbconvert_exporter": "python",
   "pygments_lexer": "ipython3",
   "version": "3.6.9"
  }
 },
 "nbformat": 4,
 "nbformat_minor": 2
}
