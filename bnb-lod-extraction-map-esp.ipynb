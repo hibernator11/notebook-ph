{
 "cells": [
  {
   "cell_type": "markdown",
   "metadata": {},
   "source": [
    "# BNB Linked Data Platform\n",
    "\n",
    "The [BNB Linked Data Platform](https://bnb.data.bl.uk/) provides access to the [British National Bibliography (BNB)](http://www.bl.uk/bibliographic/natbib.html) published as linked open data and made available through SPARQL services. \n",
    "\n",
    "This notebook explains how to query the repository and obtain places of publication (fields blt:publication and blt:projectedPublication ) to show an interactive map. Thanks that the works are linked to [GeoNames](https://www.geonames.org/), the records can be linked to external repositories. This notebook  obtains information from [Wikidata](https://www.wikidata.org), showing the benefits of Linked Open Data."
   ]
  },
  {
   "cell_type": "markdown",
   "metadata": {},
   "source": [
    "## Global configuration\n",
    "\n",
    "In this section, you can set the author from the BNB by using its identifier. "
   ]
  },
  {
   "cell_type": "code",
   "execution_count": 1,
   "metadata": {},
   "outputs": [],
   "source": [
    "#bnbIdAuthor = 'http://bnb.data.bl.uk/id/person/DickensCharles1812-1870'\n",
    "#bnbIdAuthor = 'http://bnb.data.bl.uk/id/person/BlakeWilliam1757-1827'\n",
    "bnbIdAuthor = 'http://bnb.data.bl.uk/id/person/WoolfVirginia1882-1941'\n",
    "#bnbIdAuthor = 'http://bnb.data.bl.uk/id/person/ShakespeareWilliam1564-1616'"
   ]
  },
  {
   "cell_type": "markdown",
   "metadata": {},
   "source": [
    "## Setting up things"
   ]
  },
  {
   "cell_type": "code",
   "execution_count": 2,
   "metadata": {},
   "outputs": [],
   "source": [
    "import folium\n",
    "import requests\n",
    "import pandas as pd\n",
    "import json\n",
    "import csv\n",
    "import matplotlib.pyplot as plt\n",
    "from pandas.io.json import json_normalize  "
   ]
  },
  {
   "cell_type": "markdown",
   "metadata": {},
   "source": [
    "## Let's query the repository by asking the publications related to William Shakespeare\n",
    "We will use the [SPARQL endpoint](https://bnb.data.bl.uk/flint-sparql) to create the query and configure the request to retrieve json as a result."
   ]
  },
  {
   "cell_type": "code",
   "execution_count": 3,
   "metadata": {},
   "outputs": [
    {
     "name": "stdout",
     "output_type": "stream",
     "text": [
      "Elements retrieved!\n",
      "\n",
      "{ \"head\": { \"link\": [], \"vars\": [\"resource\", \"title\", \"date\", \"place\"] },\n",
      "  \"results\": { \"distinct\": false, \"ordered\": true, \"bindings\": [\n",
      "    { \"resource\": { \"type\": \"uri\", \"value\": \"http://bnb.data.bl.uk/id/resource/013001764\" }\t, \"title\": { \"type\": \"literal\", \"value\": \"The years\" }\t, \"date\": { \"type\": \"literal\", \"value\": \"2004-12\" }\t, \"place\": { \"type\": \"uri\", \"value\": \"http://sws.geonames.org/6269131/\" }},\n",
      "    { \"resource\": { \"type\": \"uri\", \"value\": \"http://bnb.data.bl.uk/id/resource/019599487\" }\t, \"title\": { \"type\": \"literal\", \"value\": \"Mrs Dalloway\" }\t, \"date\": { \"type\": \"literal\", \"value\": \"2020-01\" }\t, \"place\": { \"type\": \"uri\", \"value\": \"http://sws.geonames.org/6269131/\" }},\n",
      "    { \"resource\": { \"type\": \"uri\", \"value\": \"http://bnb.data.bl.uk/id/resource/017816985\" }\t, \"title\": { \"type\": \"literal\", \"value\": \"Mrs Dalloway\" }\t, \"date\": { \"type\": \"literal\", \"value\": \"2016-05\" }\t, \"place\": { \"type\": \"uri\", \"value\": \"http://sws.geonames.org/6269131/\" }},\n",
      "    { \"resource\": { \"type\": \"uri\", \"value\": \"http://bnb.data.bl.uk/id/resource/015711457\" }\t, \"title\": { \"type\": \"literal\", \"value\": \"Mrs Dalloway\" }\t, \"date\": { \"type\": \"literal\", \"value\": \"2011-04\" }\t, \"place\": { \"type\": \"uri\", \"value\": \"http://sws.geonames.org/6252001/\" }},\n",
      "    { \"resource\": { \"type\": \"uri\", \"value\": \"http://bnb.data.bl.uk/id/resource/018460540\" }\t, \"title\": { \"type\": \"literal\", \"value\": \"Orlando\" }\t, \"date\": { \"type\": \"literal\", \"value\": \"2017-10\" }\t, \"place\": { \"type\": \"uri\", \"value\": \"http://sws.geonames.org/6269131/\" }},\n",
      "    { \"resource\": { \"type\": \"uri\", \"value\": \"http://bnb.data.bl.uk/id/resource/018460544\" }\t, \"title\": { \"type\": \"literal\", \"value\": \"A room of one's own\" }\t, \"date\": { \"type\": \"literal\", \"value\": \"2017-10\" }\t, \"place\": { \"type\": \"uri\", \"value\": \"http://sws.geonames.org/6269131/\" }},\n",
      "    { \"resource\": { \"type\": \"uri\", \"value\": \"http://bnb.data.bl.uk/id/resource/018460549\" }\t, \"title\": { \"type\": \"literal\", \"value\": \"Mrs Dalloway\" }\t, \"date\": { \"type\": \"literal\", \"value\": \"2017-10\" }\t, \"place\": { \"type\": \"uri\", \"value\": \"http://sws.geonames.org/6269131/\" }},\n",
      "    { \"resource\": { \"type\": \"uri\", \"value\": \"http://bnb.data.bl.uk/id/resource/018460551\" }\t, \"title\": { \"type\": \"literal\", \"value\": \"To the lighthouse\" }\t, \"date\": { \"type\": \"literal\", \"value\": \"2017-10\" }\t, \"place\": { \"type\": \"uri\", \"value\": \"http://sws.geonames.org/6269131/\" }},\n",
      "    { \"resource\": { \"type\": \"uri\", \"value\": \"http://bnb.data.bl.uk/id/resource/018462175\" }\t, \"title\": { \"type\": \"literal\", \"value\": \"The illustrated letters of Virginia Woolf\" }\t, \"date\": { \"type\": \"literal\", \"value\": \"2017-10\" }\t, \"place\": { \"type\": \"uri\", \"value\": \"http://sws.geonames.org/6269131/\" }},\n",
      "    { \"resource\": { \"type\": \"uri\", \"value\": \"http://bnb.data.bl.uk/id/resource/018463437\" }\t, \"title\": { \"type\": \"literal\", \"value\": \"Monday or Tuesday\" }\t, \"date\": { \"type\": \"literal\", \"value\": \"2017-08\" }\t, \"place\": { \"type\": \"uri\", \"value\": \"http://sws.geonames.org/6252001/\" }},\n",
      "    { \"resource\": { \"type\": \"uri\", \"value\": \"http://bnb.data.bl.uk/id/resource/019345275\" }\t, \"title\": { \"type\": \"literal\", \"value\": \"A room of one's own\" }\t, \"date\": { \"type\": \"literal\", \"value\": \"2019-06\" }\t, \"place\": { \"type\": \"uri\", \"value\": \"http://sws.geonames.org/6269131/\" }},\n",
      "    { \"resource\": { \"type\": \"uri\", \"value\": \"http://bnb.data.bl.uk/id/resource/019428998\" }\t, \"title\": { \"type\": \"literal\", \"value\": \"Flush\" }\t, \"date\": { \"type\": \"literal\", \"value\": \"2019-08\" }\t, \"place\": { \"type\": \"uri\", \"value\": \"http://sws.geonames.org/6269131/\" }},\n",
      "    { \"resource\": { \"type\": \"uri\", \"value\": \"http://bnb.data.bl.uk/id/resource/019701723\" }\t, \"title\": { \"type\": \"literal\", \"value\": \"Jacob's room\" }\t, \"date\": { \"type\": \"literal\", \"value\": \"2020-04\" }\t, \"place\": { \"type\": \"uri\", \"value\": \"http://sws.geonames.org/6269131/\" }},\n",
      "    { \"resource\": { \"type\": \"uri\", \"value\": \"http://bnb.data.bl.uk/id/resource/018827821\" }\t, \"title\": { \"type\": \"literal\", \"value\": \"Mrs Dalloway\" }\t, \"date\": { \"type\": \"literal\", \"value\": \"2018-06\" }\t, \"place\": { \"type\": \"uri\", \"value\": \"http://sws.geonames.org/6269131/\" }},\n",
      "    { \"resource\": { \"type\": \"uri\", \"value\": \"http://bnb.data.bl.uk/id/resource/018827843\" }\t, \"title\": { \"type\": \"literal\", \"value\": \"To the lighthouse\" }\t, \"date\": { \"type\": \"literal\", \"value\": \"2018-06\" }\t, \"place\": { \"type\": \"uri\", \"value\": \"http://sws.geonames.org/6269131/\" }},\n",
      "    { \"resource\": { \"type\": \"uri\", \"value\": \"http://bnb.data.bl.uk/id/resource/018832597\" }\t, \"title\": { \"type\": \"literal\", \"value\": \"A room of one's own\" }\t, \"date\": { \"type\": \"literal\", \"value\": \"2018-06\" }\t, \"place\": { \"type\": \"uri\", \"value\": \"http://sws.geonames.org/6269131/\" }},\n",
      "    { \"resource\": { \"type\": \"uri\", \"value\": \"http://bnb.data.bl.uk/id/resource/012936730\" }\t, \"title\": { \"type\": \"literal\", \"value\": \"A room of one's own\" }\t, \"date\": { \"type\": \"literal\", \"value\": \"2004-09\" }\t, \"place\": { \"type\": \"uri\", \"value\": \"http://sws.geonames.org/6269131/\" }},\n",
      "    { \"resource\": { \"type\": \"uri\", \"value\": \"http://bnb.data.bl.uk/id/resource/016530866\" }\t, \"title\": { \"type\": \"literal\", \"value\": \"Virginia Woolf : selected novels\" }\t, \"date\": { \"type\": \"literal\", \"value\": \"2014-01\" }\t, \"place\": { \"type\": \"uri\", \"value\": \"http://sws.geonames.org/6269131/\" }},\n",
      "    { \"resource\": { \"type\": \"uri\", \"value\": \"http://bnb.data.bl.uk/id/resource/006890884\" }\t, \"title\": { \"type\": \"literal\", \"value\": \"Night and day\" }\t, \"date\": { \"type\": \"literal\", \"value\": \"2002-06\" }\t, \"place\": { \"type\": \"uri\", \"value\": \"http://sws.geonames.org/6252001/\" }},\n",
      "    { \"resource\": { \"type\": \"uri\", \"value\": \"http://bnb.data.bl.uk/id/resource/016094837\" }\t, \"title\": { \"type\": \"literal\", \"value\": \"Virginia Woolf : selected novels\" }\t, \"date\": { \"type\": \"literal\", \"value\": \"2012-09\" }\t, \"place\": { \"type\": \"uri\", \"value\": \"http://sws.geonames.org/6269131/\" }},\n",
      "    { \"resource\": { \"type\": \"uri\", \"value\": \"http://bnb.data.bl.uk/id/resource/018519568\" }\t, \"title\": { \"type\": \"literal\", \"value\": \"Between the acts\" }\t, \"date\": { \"type\": \"literal\", \"value\": \"2017-07\" }\t, \"place\": { \"type\": \"uri\", \"value\": \"http://sws.geonames.org/6269131/\" }},\n",
      "    { \"resource\": { \"type\": \"uri\", \"value\": \"http://bnb.data.bl.uk/id/resource/018934357\" }\t, \"title\": { \"type\": \"literal\", \"value\": \"Virginia Woolf in Richmond\" }\t, \"date\": { \"type\": \"literal\", \"value\": \"2018-09\" }\t, \"place\": { \"type\": \"uri\", \"value\": \"http://sws.geonames.org/6269131/\" }},\n",
      "    { \"resource\": { \"type\": \"uri\", \"value\": \"http://bnb.data.bl.uk/id/resource/018009117\" }\t, \"title\": { \"type\": \"literal\", \"value\": \"Selected diaries\" }\t, \"date\": { \"type\": \"literal\", \"value\": \"2016-10\" }\t, \"place\": { \"type\": \"uri\", \"value\": \"http://sws.geonames.org/6269131/\" }},\n",
      "    { \"resource\": { \"type\": \"uri\", \"value\": \"http://bnb.data.bl.uk/id/resource/019242375\" }\t, \"title\": { \"type\": \"literal\", \"value\": \"The years\" }\t, \"date\": { \"type\": \"literal\", \"value\": \"2019-04\" }\t, \"place\": { \"type\": \"uri\", \"value\": \"http://sws.geonames.org/6269131/\" }},\n",
      "    { \"resource\": { \"type\": \"uri\", \"value\": \"http://bnb.data.bl.uk/id/resource/019280192\" }\t, \"title\": { \"type\": \"literal\", \"value\": \"Between the acts\" }\t, \"date\": { \"type\": \"literal\", \"value\": \"2019-05\" }\t, \"place\": { \"type\": \"uri\", \"value\": \"http://sws.geonames.org/6269131/\" }},\n",
      "    { \"resource\": { \"type\": \"uri\", \"value\": \"http://bnb.data.bl.uk/id/resource/019280193\" }\t, \"title\": { \"type\": \"literal\", \"value\": \"Selected short stories\" }\t, \"date\": { \"type\": \"literal\", \"value\": \"2019-05\" }\t, \"place\": { \"type\": \"uri\", \"value\": \"http://sws.geonames.org/6269131/\" }},\n",
      "    { \"resource\": { \"type\": \"uri\", \"value\": \"http://bnb.data.bl.uk/id/resource/019242373\" }\t, \"title\": { \"type\": \"literal\", \"value\": \"Mrs Dalloway\" }\t, \"date\": { \"type\": \"literal\", \"value\": \"2019-04\" }\t, \"place\": { \"type\": \"uri\", \"value\": \"http://sws.geonames.org/6269131/\" }},\n",
      "    { \"resource\": { \"type\": \"uri\", \"value\": \"http://bnb.data.bl.uk/id/resource/019635379\" }\t, \"title\": { \"type\": \"literal\", \"value\": \"Mrs. Dalloway\" }\t, \"date\": { \"type\": \"literal\", \"value\": \"2020-02\" }\t, \"place\": { \"type\": \"uri\", \"value\": \"http://sws.geonames.org/6252001/\" }},\n",
      "    { \"resource\": { \"type\": \"uri\", \"value\": \"http://bnb.data.bl.uk/id/resource/019049782\" }\t, \"title\": { \"type\": \"literal\", \"value\": \"A passionate apprentice : the early journals 1897-1909\" }\t, \"date\": { \"type\": \"literal\", \"value\": \"2018-11\" }\t, \"place\": { \"type\": \"uri\", \"value\": \"http://sws.geonames.org/6269131/\" }},\n",
      "    { \"resource\": { \"type\": \"uri\", \"value\": \"http://bnb.data.bl.uk/id/resource/019394492\" }\t, \"title\": { \"type\": \"literal\", \"value\": \"Night and day\" }\t, \"date\": { \"type\": \"literal\", \"value\": \"2019-07\" }\t, \"place\": { \"type\": \"uri\", \"value\": \"http://sws.geonames.org/6252001/\" }},\n",
      "    { \"resource\": { \"type\": \"uri\", \"value\": \"http://bnb.data.bl.uk/id/resource/019201393\" }\t, \"title\": { \"type\": \"literal\", \"value\": \"Orlando\" }\t, \"date\": { \"type\": \"literal\", \"value\": \"2019-03\" }\t, \"place\": { \"type\": \"uri\", \"value\": \"http://sws.geonames.org/6269131/\" }},\n",
      "    { \"resource\": { \"type\": \"uri\", \"value\": \"http://bnb.data.bl.uk/id/resource/019201394\" }\t, \"title\": { \"type\": \"literal\", \"value\": \"A room of one's own ; and, Three guineas\" }\t, \"date\": { \"type\": \"literal\", \"value\": \"2019-03\" }\t, \"place\": { \"type\": \"uri\", \"value\": \"http://sws.geonames.org/6269131/\" }},\n",
      "    { \"resource\": { \"type\": \"uri\", \"value\": \"http://bnb.data.bl.uk/id/resource/019529568\" }\t, \"title\": { \"type\": \"literal\", \"value\": \"Genius and ink : Virginia Woolf on how to read\" }\t, \"date\": { \"type\": \"literal\", \"value\": \"2019-11\" }\t, \"place\": { \"type\": \"uri\", \"value\": \"http://sws.geonames.org/6269131/\" }},\n",
      "    { \"resource\": { \"type\": \"uri\", \"value\": \"http://bnb.data.bl.uk/id/resource/019664287\" }\t, \"title\": { \"type\": \"literal\", \"value\": \"Mrs Dalloway\" }\t, \"date\": { \"type\": \"literal\", \"value\": \"2020-03\" }\t, \"place\": { \"type\": \"uri\", \"value\": \"http://sws.geonames.org/6269131/\" }},\n",
      "    { \"resource\": { \"type\": \"uri\", \"value\": \"http://bnb.data.bl.uk/id/resource/019664288\" }\t, \"title\": { \"type\": \"literal\", \"value\": \"A room of one's own\" }\t, \"date\": { \"type\": \"literal\", \"value\": \"2020-03\" }\t, \"place\": { \"type\": \"uri\", \"value\": \"http://sws.geonames.org/6269131/\" }},\n",
      "    { \"resource\": { \"type\": \"uri\", \"value\": \"http://bnb.data.bl.uk/id/resource/019664289\" }\t, \"title\": { \"type\": \"literal\", \"value\": \"Orlando\" }\t, \"date\": { \"type\": \"literal\", \"value\": \"2020-03\" }\t, \"place\": { \"type\": \"uri\", \"value\": \"http://sws.geonames.org/6269131/\" }} ] } }\n"
     ]
    }
   ],
   "source": [
    "url = 'https://bnb.data.bl.uk/sparql'\n",
    "query = \"\"\"\n",
    "PREFIX bibo: <http://purl.org/ontology/bibo/>\n",
    "PREFIX bio: <http://purl.org/vocab/bio/0.1/>\n",
    "PREFIX blt: <http://www.bl.uk/schemas/bibliographic/blterms#>\n",
    "PREFIX dct: <http://purl.org/dc/terms/>\n",
    "PREFIX event: <http://purl.org/NET/c4dm/event.owl#>\n",
    "PREFIX foaf: <http://xmlns.com/foaf/0.1/>\n",
    "PREFIX geo: <http://www.w3.org/2003/01/geo/wgs84_pos#>\n",
    "PREFIX isbd: <http://iflastandards.info/ns/isbd/elements/>\n",
    "PREFIX org: <http://www.w3.org/ns/org#>\n",
    "PREFIX owl: <http://www.w3.org/2002/07/owl#>\n",
    "PREFIX rdau: <http://rdaregistry.info/Elements/u/>\n",
    "PREFIX madsrdf: <http://www.loc.gov/mads/rdf/v1#>\n",
    "PREFIX rdf: <http://www.w3.org/1999/02/22-rdf-syntax-ns#>\n",
    "PREFIX rdfs: <http://www.w3.org/2000/01/rdf-schema#>\n",
    "PREFIX skos: <http://www.w3.org/2004/02/skos/core#>\n",
    "PREFIX void: <http://rdfs.org/ns/void#>\n",
    "PREFIX xsd: <http://www.w3.org/2001/XMLSchema#>\n",
    "PREFIX umbel: <http://umbel.org/umbel#>\n",
    "PREFIX schema: <http://schema.org/>\n",
    "PREFIX c4dm: <http://purl.org/NET/c4dm/event.owl#>\n",
    "\n",
    "SELECT DISTINCT ?resource ?title ?date ?place WHERE {{\n",
    "    graph <http://bnb.data.bl.uk/id/graph/BNBCIP> {{\n",
    "      ?resource ?p <{0}> ;\n",
    "         dct:title ?title ;\n",
    "         schema:datePublished ?date .\n",
    "      OPTIONAL {{\n",
    "          ?resource blt:projectedPublication ?publication .\n",
    "          ?publication c4dm:place ?place .\n",
    "          FILTER regex(?place, \"geonames\", \"i\")        \n",
    "      }}\n",
    "      OPTIONAL {{\n",
    "          ?resource blt:publication ?publication .\n",
    "          ?publication c4dm:place ?place .\n",
    "          FILTER regex(?place, \"geonames\", \"i\")        \n",
    "      }}\n",
    "    }}\n",
    "}} LIMIT 500\n",
    "\"\"\"\n",
    "\n",
    "query = query.format(bnbIdAuthor)\n",
    "\n",
    "# use json as a result\n",
    "headers = {'Accept': 'application/sparql-results+json'}\n",
    "r = requests.get(url, params = {'format': 'application/sparql-results+json', 'query': query}, headers=headers)\n",
    "print('Elements retrieved!')\n",
    "print(r.text)"
   ]
  },
  {
   "cell_type": "markdown",
   "metadata": {},
   "source": [
    "## Save as a CSV "
   ]
  },
  {
   "cell_type": "code",
   "execution_count": 4,
   "metadata": {},
   "outputs": [],
   "source": [
    "bnbdata = json.loads(r.text)\n",
    "\n",
    "with open('bnb_records.csv', 'w', newline='') as file:\n",
    "    csv_out = csv.writer(file, delimiter = ',', quotechar = '\"', quoting = csv.QUOTE_MINIMAL)    \n",
    "\n",
    "    #csv_out = csv.writer(open('bnb_records.csv', 'w'), delimiter = ',', quotechar = '\"', quoting = csv.QUOTE_MINIMAL)\n",
    "    csv_out.writerow(['resource', 'place', 'title', 'date'])\n",
    "\n",
    "    for i in bnbdata['results']['bindings']:\n",
    "        resource = place = title = date =''\n",
    "\n",
    "        resource = i['resource']['value']\n",
    "        #if \"place\" in i:\n",
    "        place = i['place']['value']\n",
    "        title = i['title']['value']\n",
    "        date = i['date']['value']\n",
    "\n",
    "        csv_out.writerow([resource,place,title,date])"
   ]
  },
  {
   "cell_type": "markdown",
   "metadata": {},
   "source": [
    "## Exploring the data"
   ]
  },
  {
   "cell_type": "code",
   "execution_count": 5,
   "metadata": {},
   "outputs": [],
   "source": [
    "# Load the CSV file from GitHub.\n",
    "# This puts the data in a Pandas DataFrame\n",
    "df = pd.read_csv('bnb_records.csv')"
   ]
  },
  {
   "cell_type": "code",
   "execution_count": 6,
   "metadata": {},
   "outputs": [
    {
     "data": {
      "text/html": [
       "<div>\n",
       "<style scoped>\n",
       "    .dataframe tbody tr th:only-of-type {\n",
       "        vertical-align: middle;\n",
       "    }\n",
       "\n",
       "    .dataframe tbody tr th {\n",
       "        vertical-align: top;\n",
       "    }\n",
       "\n",
       "    .dataframe thead th {\n",
       "        text-align: right;\n",
       "    }\n",
       "</style>\n",
       "<table border=\"1\" class=\"dataframe\">\n",
       "  <thead>\n",
       "    <tr style=\"text-align: right;\">\n",
       "      <th></th>\n",
       "      <th>resource</th>\n",
       "      <th>place</th>\n",
       "      <th>title</th>\n",
       "      <th>date</th>\n",
       "    </tr>\n",
       "  </thead>\n",
       "  <tbody>\n",
       "    <tr>\n",
       "      <th>0</th>\n",
       "      <td>http://bnb.data.bl.uk/id/resource/013001764</td>\n",
       "      <td>http://sws.geonames.org/6269131/</td>\n",
       "      <td>The years</td>\n",
       "      <td>2004-12</td>\n",
       "    </tr>\n",
       "    <tr>\n",
       "      <th>1</th>\n",
       "      <td>http://bnb.data.bl.uk/id/resource/019599487</td>\n",
       "      <td>http://sws.geonames.org/6269131/</td>\n",
       "      <td>Mrs Dalloway</td>\n",
       "      <td>2020-01</td>\n",
       "    </tr>\n",
       "    <tr>\n",
       "      <th>2</th>\n",
       "      <td>http://bnb.data.bl.uk/id/resource/017816985</td>\n",
       "      <td>http://sws.geonames.org/6269131/</td>\n",
       "      <td>Mrs Dalloway</td>\n",
       "      <td>2016-05</td>\n",
       "    </tr>\n",
       "    <tr>\n",
       "      <th>3</th>\n",
       "      <td>http://bnb.data.bl.uk/id/resource/015711457</td>\n",
       "      <td>http://sws.geonames.org/6252001/</td>\n",
       "      <td>Mrs Dalloway</td>\n",
       "      <td>2011-04</td>\n",
       "    </tr>\n",
       "    <tr>\n",
       "      <th>4</th>\n",
       "      <td>http://bnb.data.bl.uk/id/resource/018460540</td>\n",
       "      <td>http://sws.geonames.org/6269131/</td>\n",
       "      <td>Orlando</td>\n",
       "      <td>2017-10</td>\n",
       "    </tr>\n",
       "    <tr>\n",
       "      <th>5</th>\n",
       "      <td>http://bnb.data.bl.uk/id/resource/018460544</td>\n",
       "      <td>http://sws.geonames.org/6269131/</td>\n",
       "      <td>A room of one's own</td>\n",
       "      <td>2017-10</td>\n",
       "    </tr>\n",
       "    <tr>\n",
       "      <th>6</th>\n",
       "      <td>http://bnb.data.bl.uk/id/resource/018460549</td>\n",
       "      <td>http://sws.geonames.org/6269131/</td>\n",
       "      <td>Mrs Dalloway</td>\n",
       "      <td>2017-10</td>\n",
       "    </tr>\n",
       "    <tr>\n",
       "      <th>7</th>\n",
       "      <td>http://bnb.data.bl.uk/id/resource/018460551</td>\n",
       "      <td>http://sws.geonames.org/6269131/</td>\n",
       "      <td>To the lighthouse</td>\n",
       "      <td>2017-10</td>\n",
       "    </tr>\n",
       "    <tr>\n",
       "      <th>8</th>\n",
       "      <td>http://bnb.data.bl.uk/id/resource/018462175</td>\n",
       "      <td>http://sws.geonames.org/6269131/</td>\n",
       "      <td>The illustrated letters of Virginia Woolf</td>\n",
       "      <td>2017-10</td>\n",
       "    </tr>\n",
       "    <tr>\n",
       "      <th>9</th>\n",
       "      <td>http://bnb.data.bl.uk/id/resource/018463437</td>\n",
       "      <td>http://sws.geonames.org/6252001/</td>\n",
       "      <td>Monday or Tuesday</td>\n",
       "      <td>2017-08</td>\n",
       "    </tr>\n",
       "    <tr>\n",
       "      <th>10</th>\n",
       "      <td>http://bnb.data.bl.uk/id/resource/019345275</td>\n",
       "      <td>http://sws.geonames.org/6269131/</td>\n",
       "      <td>A room of one's own</td>\n",
       "      <td>2019-06</td>\n",
       "    </tr>\n",
       "    <tr>\n",
       "      <th>11</th>\n",
       "      <td>http://bnb.data.bl.uk/id/resource/019428998</td>\n",
       "      <td>http://sws.geonames.org/6269131/</td>\n",
       "      <td>Flush</td>\n",
       "      <td>2019-08</td>\n",
       "    </tr>\n",
       "    <tr>\n",
       "      <th>12</th>\n",
       "      <td>http://bnb.data.bl.uk/id/resource/019701723</td>\n",
       "      <td>http://sws.geonames.org/6269131/</td>\n",
       "      <td>Jacob's room</td>\n",
       "      <td>2020-04</td>\n",
       "    </tr>\n",
       "    <tr>\n",
       "      <th>13</th>\n",
       "      <td>http://bnb.data.bl.uk/id/resource/018827821</td>\n",
       "      <td>http://sws.geonames.org/6269131/</td>\n",
       "      <td>Mrs Dalloway</td>\n",
       "      <td>2018-06</td>\n",
       "    </tr>\n",
       "    <tr>\n",
       "      <th>14</th>\n",
       "      <td>http://bnb.data.bl.uk/id/resource/018827843</td>\n",
       "      <td>http://sws.geonames.org/6269131/</td>\n",
       "      <td>To the lighthouse</td>\n",
       "      <td>2018-06</td>\n",
       "    </tr>\n",
       "    <tr>\n",
       "      <th>15</th>\n",
       "      <td>http://bnb.data.bl.uk/id/resource/018832597</td>\n",
       "      <td>http://sws.geonames.org/6269131/</td>\n",
       "      <td>A room of one's own</td>\n",
       "      <td>2018-06</td>\n",
       "    </tr>\n",
       "    <tr>\n",
       "      <th>16</th>\n",
       "      <td>http://bnb.data.bl.uk/id/resource/012936730</td>\n",
       "      <td>http://sws.geonames.org/6269131/</td>\n",
       "      <td>A room of one's own</td>\n",
       "      <td>2004-09</td>\n",
       "    </tr>\n",
       "    <tr>\n",
       "      <th>17</th>\n",
       "      <td>http://bnb.data.bl.uk/id/resource/016530866</td>\n",
       "      <td>http://sws.geonames.org/6269131/</td>\n",
       "      <td>Virginia Woolf : selected novels</td>\n",
       "      <td>2014-01</td>\n",
       "    </tr>\n",
       "    <tr>\n",
       "      <th>18</th>\n",
       "      <td>http://bnb.data.bl.uk/id/resource/006890884</td>\n",
       "      <td>http://sws.geonames.org/6252001/</td>\n",
       "      <td>Night and day</td>\n",
       "      <td>2002-06</td>\n",
       "    </tr>\n",
       "    <tr>\n",
       "      <th>19</th>\n",
       "      <td>http://bnb.data.bl.uk/id/resource/016094837</td>\n",
       "      <td>http://sws.geonames.org/6269131/</td>\n",
       "      <td>Virginia Woolf : selected novels</td>\n",
       "      <td>2012-09</td>\n",
       "    </tr>\n",
       "    <tr>\n",
       "      <th>20</th>\n",
       "      <td>http://bnb.data.bl.uk/id/resource/018519568</td>\n",
       "      <td>http://sws.geonames.org/6269131/</td>\n",
       "      <td>Between the acts</td>\n",
       "      <td>2017-07</td>\n",
       "    </tr>\n",
       "    <tr>\n",
       "      <th>21</th>\n",
       "      <td>http://bnb.data.bl.uk/id/resource/018934357</td>\n",
       "      <td>http://sws.geonames.org/6269131/</td>\n",
       "      <td>Virginia Woolf in Richmond</td>\n",
       "      <td>2018-09</td>\n",
       "    </tr>\n",
       "    <tr>\n",
       "      <th>22</th>\n",
       "      <td>http://bnb.data.bl.uk/id/resource/018009117</td>\n",
       "      <td>http://sws.geonames.org/6269131/</td>\n",
       "      <td>Selected diaries</td>\n",
       "      <td>2016-10</td>\n",
       "    </tr>\n",
       "    <tr>\n",
       "      <th>23</th>\n",
       "      <td>http://bnb.data.bl.uk/id/resource/019242375</td>\n",
       "      <td>http://sws.geonames.org/6269131/</td>\n",
       "      <td>The years</td>\n",
       "      <td>2019-04</td>\n",
       "    </tr>\n",
       "    <tr>\n",
       "      <th>24</th>\n",
       "      <td>http://bnb.data.bl.uk/id/resource/019280192</td>\n",
       "      <td>http://sws.geonames.org/6269131/</td>\n",
       "      <td>Between the acts</td>\n",
       "      <td>2019-05</td>\n",
       "    </tr>\n",
       "    <tr>\n",
       "      <th>25</th>\n",
       "      <td>http://bnb.data.bl.uk/id/resource/019280193</td>\n",
       "      <td>http://sws.geonames.org/6269131/</td>\n",
       "      <td>Selected short stories</td>\n",
       "      <td>2019-05</td>\n",
       "    </tr>\n",
       "    <tr>\n",
       "      <th>26</th>\n",
       "      <td>http://bnb.data.bl.uk/id/resource/019242373</td>\n",
       "      <td>http://sws.geonames.org/6269131/</td>\n",
       "      <td>Mrs Dalloway</td>\n",
       "      <td>2019-04</td>\n",
       "    </tr>\n",
       "    <tr>\n",
       "      <th>27</th>\n",
       "      <td>http://bnb.data.bl.uk/id/resource/019635379</td>\n",
       "      <td>http://sws.geonames.org/6252001/</td>\n",
       "      <td>Mrs. Dalloway</td>\n",
       "      <td>2020-02</td>\n",
       "    </tr>\n",
       "    <tr>\n",
       "      <th>28</th>\n",
       "      <td>http://bnb.data.bl.uk/id/resource/019049782</td>\n",
       "      <td>http://sws.geonames.org/6269131/</td>\n",
       "      <td>A passionate apprentice : the early journals 1...</td>\n",
       "      <td>2018-11</td>\n",
       "    </tr>\n",
       "    <tr>\n",
       "      <th>29</th>\n",
       "      <td>http://bnb.data.bl.uk/id/resource/019394492</td>\n",
       "      <td>http://sws.geonames.org/6252001/</td>\n",
       "      <td>Night and day</td>\n",
       "      <td>2019-07</td>\n",
       "    </tr>\n",
       "    <tr>\n",
       "      <th>30</th>\n",
       "      <td>http://bnb.data.bl.uk/id/resource/019201393</td>\n",
       "      <td>http://sws.geonames.org/6269131/</td>\n",
       "      <td>Orlando</td>\n",
       "      <td>2019-03</td>\n",
       "    </tr>\n",
       "    <tr>\n",
       "      <th>31</th>\n",
       "      <td>http://bnb.data.bl.uk/id/resource/019201394</td>\n",
       "      <td>http://sws.geonames.org/6269131/</td>\n",
       "      <td>A room of one's own ; and, Three guineas</td>\n",
       "      <td>2019-03</td>\n",
       "    </tr>\n",
       "    <tr>\n",
       "      <th>32</th>\n",
       "      <td>http://bnb.data.bl.uk/id/resource/019529568</td>\n",
       "      <td>http://sws.geonames.org/6269131/</td>\n",
       "      <td>Genius and ink : Virginia Woolf on how to read</td>\n",
       "      <td>2019-11</td>\n",
       "    </tr>\n",
       "    <tr>\n",
       "      <th>33</th>\n",
       "      <td>http://bnb.data.bl.uk/id/resource/019664287</td>\n",
       "      <td>http://sws.geonames.org/6269131/</td>\n",
       "      <td>Mrs Dalloway</td>\n",
       "      <td>2020-03</td>\n",
       "    </tr>\n",
       "    <tr>\n",
       "      <th>34</th>\n",
       "      <td>http://bnb.data.bl.uk/id/resource/019664288</td>\n",
       "      <td>http://sws.geonames.org/6269131/</td>\n",
       "      <td>A room of one's own</td>\n",
       "      <td>2020-03</td>\n",
       "    </tr>\n",
       "    <tr>\n",
       "      <th>35</th>\n",
       "      <td>http://bnb.data.bl.uk/id/resource/019664289</td>\n",
       "      <td>http://sws.geonames.org/6269131/</td>\n",
       "      <td>Orlando</td>\n",
       "      <td>2020-03</td>\n",
       "    </tr>\n",
       "  </tbody>\n",
       "</table>\n",
       "</div>"
      ],
      "text/plain": [
       "                                       resource  \\\n",
       "0   http://bnb.data.bl.uk/id/resource/013001764   \n",
       "1   http://bnb.data.bl.uk/id/resource/019599487   \n",
       "2   http://bnb.data.bl.uk/id/resource/017816985   \n",
       "3   http://bnb.data.bl.uk/id/resource/015711457   \n",
       "4   http://bnb.data.bl.uk/id/resource/018460540   \n",
       "5   http://bnb.data.bl.uk/id/resource/018460544   \n",
       "6   http://bnb.data.bl.uk/id/resource/018460549   \n",
       "7   http://bnb.data.bl.uk/id/resource/018460551   \n",
       "8   http://bnb.data.bl.uk/id/resource/018462175   \n",
       "9   http://bnb.data.bl.uk/id/resource/018463437   \n",
       "10  http://bnb.data.bl.uk/id/resource/019345275   \n",
       "11  http://bnb.data.bl.uk/id/resource/019428998   \n",
       "12  http://bnb.data.bl.uk/id/resource/019701723   \n",
       "13  http://bnb.data.bl.uk/id/resource/018827821   \n",
       "14  http://bnb.data.bl.uk/id/resource/018827843   \n",
       "15  http://bnb.data.bl.uk/id/resource/018832597   \n",
       "16  http://bnb.data.bl.uk/id/resource/012936730   \n",
       "17  http://bnb.data.bl.uk/id/resource/016530866   \n",
       "18  http://bnb.data.bl.uk/id/resource/006890884   \n",
       "19  http://bnb.data.bl.uk/id/resource/016094837   \n",
       "20  http://bnb.data.bl.uk/id/resource/018519568   \n",
       "21  http://bnb.data.bl.uk/id/resource/018934357   \n",
       "22  http://bnb.data.bl.uk/id/resource/018009117   \n",
       "23  http://bnb.data.bl.uk/id/resource/019242375   \n",
       "24  http://bnb.data.bl.uk/id/resource/019280192   \n",
       "25  http://bnb.data.bl.uk/id/resource/019280193   \n",
       "26  http://bnb.data.bl.uk/id/resource/019242373   \n",
       "27  http://bnb.data.bl.uk/id/resource/019635379   \n",
       "28  http://bnb.data.bl.uk/id/resource/019049782   \n",
       "29  http://bnb.data.bl.uk/id/resource/019394492   \n",
       "30  http://bnb.data.bl.uk/id/resource/019201393   \n",
       "31  http://bnb.data.bl.uk/id/resource/019201394   \n",
       "32  http://bnb.data.bl.uk/id/resource/019529568   \n",
       "33  http://bnb.data.bl.uk/id/resource/019664287   \n",
       "34  http://bnb.data.bl.uk/id/resource/019664288   \n",
       "35  http://bnb.data.bl.uk/id/resource/019664289   \n",
       "\n",
       "                               place  \\\n",
       "0   http://sws.geonames.org/6269131/   \n",
       "1   http://sws.geonames.org/6269131/   \n",
       "2   http://sws.geonames.org/6269131/   \n",
       "3   http://sws.geonames.org/6252001/   \n",
       "4   http://sws.geonames.org/6269131/   \n",
       "5   http://sws.geonames.org/6269131/   \n",
       "6   http://sws.geonames.org/6269131/   \n",
       "7   http://sws.geonames.org/6269131/   \n",
       "8   http://sws.geonames.org/6269131/   \n",
       "9   http://sws.geonames.org/6252001/   \n",
       "10  http://sws.geonames.org/6269131/   \n",
       "11  http://sws.geonames.org/6269131/   \n",
       "12  http://sws.geonames.org/6269131/   \n",
       "13  http://sws.geonames.org/6269131/   \n",
       "14  http://sws.geonames.org/6269131/   \n",
       "15  http://sws.geonames.org/6269131/   \n",
       "16  http://sws.geonames.org/6269131/   \n",
       "17  http://sws.geonames.org/6269131/   \n",
       "18  http://sws.geonames.org/6252001/   \n",
       "19  http://sws.geonames.org/6269131/   \n",
       "20  http://sws.geonames.org/6269131/   \n",
       "21  http://sws.geonames.org/6269131/   \n",
       "22  http://sws.geonames.org/6269131/   \n",
       "23  http://sws.geonames.org/6269131/   \n",
       "24  http://sws.geonames.org/6269131/   \n",
       "25  http://sws.geonames.org/6269131/   \n",
       "26  http://sws.geonames.org/6269131/   \n",
       "27  http://sws.geonames.org/6252001/   \n",
       "28  http://sws.geonames.org/6269131/   \n",
       "29  http://sws.geonames.org/6252001/   \n",
       "30  http://sws.geonames.org/6269131/   \n",
       "31  http://sws.geonames.org/6269131/   \n",
       "32  http://sws.geonames.org/6269131/   \n",
       "33  http://sws.geonames.org/6269131/   \n",
       "34  http://sws.geonames.org/6269131/   \n",
       "35  http://sws.geonames.org/6269131/   \n",
       "\n",
       "                                                title     date  \n",
       "0                                           The years  2004-12  \n",
       "1                                        Mrs Dalloway  2020-01  \n",
       "2                                        Mrs Dalloway  2016-05  \n",
       "3                                        Mrs Dalloway  2011-04  \n",
       "4                                             Orlando  2017-10  \n",
       "5                                 A room of one's own  2017-10  \n",
       "6                                        Mrs Dalloway  2017-10  \n",
       "7                                   To the lighthouse  2017-10  \n",
       "8           The illustrated letters of Virginia Woolf  2017-10  \n",
       "9                                   Monday or Tuesday  2017-08  \n",
       "10                                A room of one's own  2019-06  \n",
       "11                                              Flush  2019-08  \n",
       "12                                       Jacob's room  2020-04  \n",
       "13                                       Mrs Dalloway  2018-06  \n",
       "14                                  To the lighthouse  2018-06  \n",
       "15                                A room of one's own  2018-06  \n",
       "16                                A room of one's own  2004-09  \n",
       "17                   Virginia Woolf : selected novels  2014-01  \n",
       "18                                      Night and day  2002-06  \n",
       "19                   Virginia Woolf : selected novels  2012-09  \n",
       "20                                   Between the acts  2017-07  \n",
       "21                         Virginia Woolf in Richmond  2018-09  \n",
       "22                                   Selected diaries  2016-10  \n",
       "23                                          The years  2019-04  \n",
       "24                                   Between the acts  2019-05  \n",
       "25                             Selected short stories  2019-05  \n",
       "26                                       Mrs Dalloway  2019-04  \n",
       "27                                      Mrs. Dalloway  2020-02  \n",
       "28  A passionate apprentice : the early journals 1...  2018-11  \n",
       "29                                      Night and day  2019-07  \n",
       "30                                            Orlando  2019-03  \n",
       "31           A room of one's own ; and, Three guineas  2019-03  \n",
       "32     Genius and ink : Virginia Woolf on how to read  2019-11  \n",
       "33                                       Mrs Dalloway  2020-03  \n",
       "34                                A room of one's own  2020-03  \n",
       "35                                            Orlando  2020-03  "
      ]
     },
     "execution_count": 6,
     "metadata": {},
     "output_type": "execute_result"
    }
   ],
   "source": [
    "df"
   ]
  },
  {
   "cell_type": "markdown",
   "metadata": {},
   "source": [
    "## How many items?"
   ]
  },
  {
   "cell_type": "code",
   "execution_count": 7,
   "metadata": {},
   "outputs": [
    {
     "data": {
      "text/plain": [
       "36"
      ]
     },
     "execution_count": 7,
     "metadata": {},
     "output_type": "execute_result"
    }
   ],
   "source": [
    "# How many items?\n",
    "len(df)"
   ]
  },
  {
   "cell_type": "markdown",
   "metadata": {},
   "source": [
    "### Let's count the number of resources per place"
   ]
  },
  {
   "cell_type": "code",
   "execution_count": 8,
   "metadata": {},
   "outputs": [],
   "source": [
    "places_by_number = df.groupby(\"place\")[\"resource\"].count()"
   ]
  },
  {
   "cell_type": "code",
   "execution_count": 9,
   "metadata": {},
   "outputs": [
    {
     "data": {
      "text/plain": [
       "place\n",
       "http://sws.geonames.org/6252001/     5\n",
       "http://sws.geonames.org/6269131/    31\n",
       "Name: resource, dtype: int64"
      ]
     },
     "execution_count": 9,
     "metadata": {},
     "output_type": "execute_result"
    }
   ],
   "source": [
    "places_by_number"
   ]
  },
  {
   "cell_type": "code",
   "execution_count": 10,
   "metadata": {},
   "outputs": [],
   "source": [
    "### We can access the count of each place"
   ]
  },
  {
   "cell_type": "code",
   "execution_count": 11,
   "metadata": {},
   "outputs": [
    {
     "data": {
      "text/plain": [
       "31"
      ]
     },
     "execution_count": 11,
     "metadata": {},
     "output_type": "execute_result"
    }
   ],
   "source": [
    "places_by_number[['http://sws.geonames.org/6269131/']][0]"
   ]
  },
  {
   "cell_type": "markdown",
   "metadata": {},
   "source": [
    "### Create a chart to visualize the results\n",
    "This chart shows the number of resources by date."
   ]
  },
  {
   "cell_type": "code",
   "execution_count": 12,
   "metadata": {},
   "outputs": [
    {
     "data": {
      "image/png": "[encoded data removed]",
      "text/plain": [
       "<Figure size 1008x576 with 1 Axes>"
      ]
     },
     "metadata": {
      "needs_background": "light"
     },
     "output_type": "display_data"
    }
   ],
   "source": [
    "ax = df['date'].value_counts().plot(kind='bar',\n",
    "                                    figsize=(14,8),\n",
    "                                    title=\"Number of resources per date\")\n",
    "ax.set_xlabel(\"Dates\")\n",
    "ax.set_ylabel(\"Resources\")\n",
    "plt.show()"
   ]
  },
  {
   "cell_type": "markdown",
   "metadata": {},
   "source": [
    "### Let's group the items by year"
   ]
  },
  {
   "cell_type": "code",
   "execution_count": 13,
   "metadata": {},
   "outputs": [],
   "source": [
    "# First we create a new column in pandas with the year\n",
    "df['year'] = pd.DatetimeIndex(df['date']).year"
   ]
  },
  {
   "cell_type": "code",
   "execution_count": 14,
   "metadata": {},
   "outputs": [
    {
     "data": {
      "text/plain": [
       "0     2004\n",
       "1     2020\n",
       "2     2016\n",
       "3     2011\n",
       "4     2017\n",
       "5     2017\n",
       "6     2017\n",
       "7     2017\n",
       "8     2017\n",
       "9     2017\n",
       "10    2019\n",
       "11    2019\n",
       "12    2020\n",
       "13    2018\n",
       "14    2018\n",
       "15    2018\n",
       "16    2004\n",
       "17    2014\n",
       "18    2002\n",
       "19    2012\n",
       "20    2017\n",
       "21    2018\n",
       "22    2016\n",
       "23    2019\n",
       "24    2019\n",
       "25    2019\n",
       "26    2019\n",
       "27    2020\n",
       "28    2018\n",
       "29    2019\n",
       "30    2019\n",
       "31    2019\n",
       "32    2019\n",
       "33    2020\n",
       "34    2020\n",
       "35    2020\n",
       "Name: year, dtype: int64"
      ]
     },
     "execution_count": 14,
     "metadata": {},
     "output_type": "execute_result"
    }
   ],
   "source": [
    "df['year']"
   ]
  },
  {
   "cell_type": "markdown",
   "metadata": {},
   "source": [
    "### Creating the chart by year"
   ]
  },
  {
   "cell_type": "code",
   "execution_count": 15,
   "metadata": {},
   "outputs": [
    {
     "data": {
      "image/png": "[encoded data removed]",
      "text/plain": [
       "<Figure size 1008x576 with 1 Axes>"
      ]
     },
     "metadata": {
      "needs_background": "light"
     },
     "output_type": "display_data"
    }
   ],
   "source": [
    "ax = df['year'].value_counts().plot(kind='bar',\n",
    "                                    figsize=(14,8),\n",
    "                                    title=\"Number of resources per year\")\n",
    "ax.set_xlabel(\"Dates\")\n",
    "ax.set_ylabel(\"Resources\")\n",
    "plt.show()"
   ]
  },
  {
   "cell_type": "markdown",
   "metadata": {},
   "source": [
    "## Exploring the places"
   ]
  },
  {
   "cell_type": "code",
   "execution_count": 16,
   "metadata": {},
   "outputs": [
    {
     "name": "stdout",
     "output_type": "stream",
     "text": [
      "http://sws.geonames.org/6252001/\n",
      "http://sws.geonames.org/6269131/\n"
     ]
    }
   ],
   "source": [
    "# Get unique values\n",
    "places = pd.unique(df['place']).tolist()\n",
    "strplaces = ''\n",
    "for a in sorted(places):\n",
    "    print(a)\n",
    "    strplaces = strplaces + ' \\\"' + a.replace(\"http://sws.geonames.org/\", \"\").replace(\"/\", \"\") + '\\\"'"
   ]
  },
  {
   "cell_type": "markdown",
   "metadata": {},
   "source": [
    "### Getting latitude and longitude from Wikidata"
   ]
  },
  {
   "cell_type": "code",
   "execution_count": 17,
   "metadata": {},
   "outputs": [
    {
     "name": "stdout",
     "output_type": "stream",
     "text": [
      "\n",
      "PREFIX bibo: <http://purl.org/ontology/bibo/>\n",
      "SELECT ?idgeonames ?lat ?lon ?x ?xLabel \n",
      "WHERE { \n",
      "  values ?idgeonames {  \"6252001\" \"6269131\" } \n",
      "  ?x wdt:P1566 ?idgeonames ; \n",
      "   p:P625 [\n",
      "     psv:P625 [\n",
      "       wikibase:geoLatitude ?lat ;\n",
      "       wikibase:geoLongitude ?lon ;\n",
      "       wikibase:geoGlobe ?globe ;\n",
      "     ];\n",
      "     ps:P625 ?coord\n",
      "   ]\n",
      "   SERVICE wikibase:label { bd:serviceParam wikibase:language \"[AUTO_LANGUAGE],en\". }\n",
      "}\n",
      "\n"
     ]
    }
   ],
   "source": [
    "url = 'https://query.wikidata.org/sparql'\n",
    "query = \"\"\"\n",
    "PREFIX bibo: <http://purl.org/ontology/bibo/>\n",
    "SELECT ?idgeonames ?lat ?lon ?x ?xLabel \n",
    "WHERE {{ \n",
    "  values ?idgeonames {{ {0} }} \n",
    "  ?x wdt:P1566 ?idgeonames ; \n",
    "   p:P625 [\n",
    "     psv:P625 [\n",
    "       wikibase:geoLatitude ?lat ;\n",
    "       wikibase:geoLongitude ?lon ;\n",
    "       wikibase:geoGlobe ?globe ;\n",
    "     ];\n",
    "     ps:P625 ?coord\n",
    "   ]\n",
    "   SERVICE wikibase:label {{ bd:serviceParam wikibase:language \"[AUTO_LANGUAGE],en\". }}\n",
    "}}\n",
    "\"\"\"\n",
    "\n",
    "query = query.format(strplaces)\n",
    "print(query)\n",
    "\n",
    "# use json as a result\n",
    "r = requests.get(url, params = {'format': 'json', 'query': query})\n",
    "geopoints = r.json()"
   ]
  },
  {
   "cell_type": "markdown",
   "metadata": {},
   "source": [
    "### Finally, we add the markers to the map"
   ]
  },
  {
   "cell_type": "code",
   "execution_count": 18,
   "metadata": {},
   "outputs": [
    {
     "name": "stdout",
     "output_type": "stream",
     "text": [
      "38.895 -77.036666666667\n",
      "53.0 -1.0\n"
     ]
    }
   ],
   "source": [
    "map = folium.Map(location=[0,0], zoom_start=1.5)\n",
    "\n",
    "for geo in geopoints['results']['bindings']:\n",
    "    idwikidata = geo['x']['value']\n",
    "    lat = geo['lat']['value']\n",
    "    lon = geo['lon']['value']\n",
    "    idgeonames = geo['idgeonames']['value']\n",
    "    label = geo['xLabel']['value']\n",
    "    print(lat, lon)\n",
    "    \n",
    "    # adding a text to the popup\n",
    "    count = places_by_number[['http://sws.geonames.org/' + idgeonames + '/']][0]\n",
    "    popup = str(count) + \" records published in <a hreh='\" + str(idwikidata) + \"'>\" + label + \"</a>\"\n",
    "    \n",
    "    folium.Marker([lat,lon], popup= popup).add_to(map)"
   ]
  },
  {
   "cell_type": "code",
   "execution_count": 19,
   "metadata": {},
   "outputs": [
    {
     "data": {
      "text/html": [
       "<div style=\"width:100%;\"><div style=\"position:relative;width:100%;height:0;padding-bottom:60%;\"><iframe src=\"about:blank\" style=\"position:absolute;width:100%;height:100%;left:0;top:0;border:none !important;\" data-html=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 onload=\"this.contentDocument.open();this.contentDocument.write(atob(this.getAttribute('data-html')));this.contentDocument.close();\" allowfullscreen webkitallowfullscreen mozallowfullscreen></iframe></div></div>"
      ],
      "text/plain": [
       "<folium.folium.Map at 0x7fefc7d9f5f8>"
      ]
     },
     "execution_count": 19,
     "metadata": {},
     "output_type": "execute_result"
    }
   ],
   "source": [
    "map"
   ]
  },
  {
   "cell_type": "code",
   "execution_count": null,
   "metadata": {},
   "outputs": [],
   "source": []
  },
  {
   "cell_type": "code",
   "execution_count": null,
   "metadata": {},
   "outputs": [],
   "source": []
  }
 ],
 "metadata": {
  "kernelspec": {
   "display_name": "Python 3",
   "language": "python",
   "name": "python3"
  },
  "language_info": {
   "codemirror_mode": {
    "name": "ipython",
    "version": 3
   },
   "file_extension": ".py",
   "mimetype": "text/x-python",
   "name": "python",
   "nbconvert_exporter": "python",
   "pygments_lexer": "ipython3",
   "version": "3.6.9"
  }
 },
 "nbformat": 4,
 "nbformat_minor": 2
}
