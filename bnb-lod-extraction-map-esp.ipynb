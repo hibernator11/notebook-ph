{
 "cells": [
  {
   "cell_type": "markdown",
   "metadata": {},
   "source": [
    "# Plataforma BNB Linked Data\n",
    "\n",
    "La [plataforma BNB Linked Data](https://bnb.data.bl.uk/) proporciona acceso a la [British National Bibliography (BNB)](http://www.bl.uk/bibliographic/natbib.html) a través de un punto de acceso SPARQL. \n",
    "\n",
    "Este notebook muestra cómo obtener obras relacionadas con un autor, así como también, los lugares de publicación (campos blt:publication y blt:projectedPublication) para crear un mapa interactivo. "
   ]
  },
  {
   "cell_type": "markdown",
   "metadata": {},
   "source": [
    "## Configuración global\n",
    "\n",
    "Damos valor al recurso de autoridad con el que trabajaremos para crear el mapa interactivo."
   ]
  },
  {
   "cell_type": "code",
   "execution_count": 1,
   "metadata": {},
   "outputs": [],
   "source": [
    "#bnbIdAutor = 'http://bnb.data.bl.uk/id/person/DickensCharles1812-1870'\n",
    "#bnbIdAutor = 'http://bnb.data.bl.uk/id/person/BlakeWilliam1757-1827'\n",
    "#bnbIdAutor = 'http://bnb.data.bl.uk/id/person/WoolfVirginia1882-1941'\n",
    "#bnbIdAutor = 'http://bnb.data.bl.uk/id/person/ShakespeareWilliam1564-1616'\n",
    "bnbIdAutor = 'http://bnb.data.bl.uk/id/person/CervantesSaavedraMiguelde1547-1616'"
   ]
  },
  {
   "cell_type": "markdown",
   "metadata": {},
   "source": [
    "## Importamos las librerías de software"
   ]
  },
  {
   "cell_type": "code",
   "execution_count": 2,
   "metadata": {},
   "outputs": [],
   "source": [
    "import folium\n",
    "import requests\n",
    "import pandas as pd\n",
    "import json\n",
    "import csv\n",
    "import matplotlib.pyplot as plt\n",
    "from pandas.io.json import json_normalize  "
   ]
  },
  {
   "cell_type": "markdown",
   "metadata": {},
   "source": [
    "## Obtenemos las obras relacionadas con el autor William Shakespeare"
   ]
  },
  {
   "cell_type": "code",
   "execution_count": 3,
   "metadata": {},
   "outputs": [
    {
     "name": "stdout",
     "output_type": "stream",
     "text": [
      "\n",
      "{ \"head\": { \"link\": [], \"vars\": [\"recurso\", \"titulo\", \"fecha\", \"lugar\"] },\n",
      "  \"results\": { \"distinct\": false, \"ordered\": true, \"bindings\": [\n",
      "    { \"recurso\": { \"type\": \"uri\", \"value\": \"http://bnb.data.bl.uk/id/resource/019800347\" }\t, \"titulo\": { \"type\": \"literal\", \"value\": \"Exemplary stories\" }\t, \"fecha\": { \"type\": \"literal\", \"value\": \"2020-05\" }\t, \"lugar\": { \"type\": \"uri\", \"value\": \"http://sws.geonames.org/6252001/\" }},\n",
      "    { \"recurso\": { \"type\": \"uri\", \"value\": \"http://bnb.data.bl.uk/id/resource/018557368\" }\t, \"titulo\": { \"type\": \"literal\", \"value\": \"The history and adventures of the renowned Don Quixote\" }\t, \"fecha\": { \"type\": \"literal\", \"value\": \"2017-10\" }\t, \"lugar\": { \"type\": \"uri\", \"value\": \"http://sws.geonames.org/6252001/\" }},\n",
      "    { \"recurso\": { \"type\": \"uri\", \"value\": \"http://bnb.data.bl.uk/id/resource/019553770\" }\t, \"titulo\": { \"type\": \"literal\", \"value\": \"The complete Don Quixote of La Mancha\" }\t, \"fecha\": { \"type\": \"literal\", \"value\": \"2019-09\" }\t, \"lugar\": { \"type\": \"uri\", \"value\": \"http://sws.geonames.org/6252001/\" }},\n",
      "    { \"recurso\": { \"type\": \"uri\", \"value\": \"http://bnb.data.bl.uk/id/resource/019559061\" }\t, \"titulo\": { \"type\": \"literal\", \"value\": \"Don Quixote\" }\t, \"fecha\": { \"type\": \"literal\", \"value\": \"2019-10\" }\t, \"lugar\": { \"type\": \"uri\", \"value\": \"http://sws.geonames.org/6269131/\" }},\n",
      "    { \"recurso\": { \"type\": \"uri\", \"value\": \"http://bnb.data.bl.uk/id/resource/014926909\" }\t, \"titulo\": { \"type\": \"literal\", \"value\": \"Don Quixote\" }\t, \"fecha\": { \"type\": \"literal\", \"value\": \"2009-05\" }\t, \"lugar\": { \"type\": \"uri\", \"value\": \"http://sws.geonames.org/6252001/\" }},\n",
      "    { \"recurso\": { \"type\": \"uri\", \"value\": \"http://bnb.data.bl.uk/id/resource/018299510\" }\t, \"titulo\": { \"type\": \"literal\", \"value\": \"Don Quixote\" }\t, \"fecha\": { \"type\": \"literal\", \"value\": \"2017-04\" }\t, \"lugar\": { \"type\": \"uri\", \"value\": \"http://sws.geonames.org/6252001/\" }},\n",
      "    { \"recurso\": { \"type\": \"uri\", \"value\": \"http://bnb.data.bl.uk/id/resource/018812620\" }\t, \"titulo\": { \"type\": \"literal\", \"value\": \"Don Quixote\" }\t, \"fecha\": { \"type\": \"literal\", \"value\": \"2018-04\" }\t, \"lugar\": { \"type\": \"uri\", \"value\": \"http://sws.geonames.org/6252001/\" }},\n",
      "    { \"recurso\": { \"type\": \"uri\", \"value\": \"http://bnb.data.bl.uk/id/resource/018861452\" }\t, \"titulo\": { \"type\": \"literal\", \"value\": \"Don Quixote\" }\t, \"fecha\": { \"type\": \"literal\", \"value\": \"2018-07\" }\t, \"lugar\": { \"type\": \"uri\", \"value\": \"http://sws.geonames.org/6269131/\" }},\n",
      "    { \"recurso\": { \"type\": \"uri\", \"value\": \"http://bnb.data.bl.uk/id/resource/018419681\" }\t, \"titulo\": { \"type\": \"literal\", \"value\": \"Don Quixote\" }\t, \"fecha\": { \"type\": \"literal\", \"value\": \"2017-09\" }\t, \"lugar\": { \"type\": \"uri\", \"value\": \"http://sws.geonames.org/6269131/\" }},\n",
      "    { \"recurso\": { \"type\": \"uri\", \"value\": \"http://bnb.data.bl.uk/id/resource/020025106\" }\t, \"titulo\": { \"type\": \"literal\", \"value\": \"Don Quixote\" }\t, \"fecha\": { \"type\": \"literal\", \"value\": \"2020-11\" }\t, \"lugar\": { \"type\": \"uri\", \"value\": \"http://sws.geonames.org/6252001/\" }},\n",
      "    { \"recurso\": { \"type\": \"uri\", \"value\": \"http://bnb.data.bl.uk/id/resource/018717214\" }\t, \"titulo\": { \"type\": \"literal\", \"value\": \"The complete exemplary novels\" }\t, \"fecha\": { \"type\": \"literal\", \"value\": \"2018-03\" }\t, \"lugar\": { \"type\": \"uri\", \"value\": \"http://sws.geonames.org/6252001/\" }} ] } }\n"
     ]
    }
   ],
   "source": [
    "url = 'https://bnb.data.bl.uk/sparql'\n",
    "sentencia = \"\"\"\n",
    "PREFIX blt: <http://www.bl.uk/schemas/bibliographic/blterms#>\n",
    "PREFIX dct: <http://purl.org/dc/terms/>\n",
    "PREFIX schema: <http://schema.org/>\n",
    "PREFIX c4dm: <http://purl.org/NET/c4dm/event.owl#>\n",
    "\n",
    "SELECT DISTINCT ?recurso ?titulo ?fecha ?lugar WHERE {{\n",
    "    graph <http://bnb.data.bl.uk/id/graph/BNBCIP> {{\n",
    "      ?recurso ?p <{0}> ;\n",
    "         dct:title ?titulo ;\n",
    "         schema:datePublished ?fecha .\n",
    "      OPTIONAL {{\n",
    "          ?recurso blt:projectedPublication ?publicacion .\n",
    "          ?publicacion c4dm:place ?lugar .\n",
    "          FILTER regex(?lugar, \"geonames\", \"i\")        \n",
    "      }}\n",
    "      OPTIONAL {{\n",
    "          ?recurso blt:publication ?publicacion .\n",
    "          ?publicacion c4dm:place ?lugar .\n",
    "          FILTER regex(?lugar, \"geonames\", \"i\")        \n",
    "      }}\n",
    "    }}\n",
    "}} LIMIT 500\n",
    "\"\"\"\n",
    "\n",
    "sentencia = sentencia.format(bnbIdAutor)\n",
    "\n",
    "# usamos json como resultado\n",
    "cabeceras = {'Accept': 'application/sparql-results+json'}\n",
    "r = requests.get(url, params = {'format': 'application/sparql-results+json', 'query': sentencia}, headers=cabeceras)\n",
    "\n",
    "print(r.text)"
   ]
  },
  {
   "cell_type": "markdown",
   "metadata": {},
   "source": [
    "## Guardamos el resultado como un fichero CSV "
   ]
  },
  {
   "cell_type": "code",
   "execution_count": 4,
   "metadata": {},
   "outputs": [],
   "source": [
    "bnbdatos = json.loads(r.text)\n",
    "\n",
    "with open('bnb_registros.csv', 'w', newline='') as fichero:\n",
    "    csv_salida = csv.writer(fichero, delimiter = ',', quotechar = '\"', quoting = csv.QUOTE_MINIMAL)    \n",
    "\n",
    "    csv_salida.writerow(['recurso', 'lugar', 'titulo', 'fecha'])\n",
    "\n",
    "    for i in bnbdatos['results']['bindings']:\n",
    "        recurso = lugar = titulo = fecha =''\n",
    "\n",
    "        recurso = i['recurso']['value']\n",
    "        #if \"lugar\" in i:\n",
    "        lugar = i['lugar']['value']\n",
    "        titulo = i['titulo']['value']\n",
    "        fecha = i['fecha']['value']\n",
    "\n",
    "        csv_salida.writerow([recurso,lugar,titulo,fecha])"
   ]
  },
  {
   "cell_type": "markdown",
   "metadata": {},
   "source": [
    "## Explorando los datos"
   ]
  },
  {
   "cell_type": "code",
   "execution_count": 5,
   "metadata": {},
   "outputs": [],
   "source": [
    "df = pd.read_csv('bnb_registros.csv')"
   ]
  },
  {
   "cell_type": "code",
   "execution_count": 6,
   "metadata": {},
   "outputs": [
    {
     "data": {
      "text/html": [
       "<div>\n",
       "<style scoped>\n",
       "    .dataframe tbody tr th:only-of-type {\n",
       "        vertical-align: middle;\n",
       "    }\n",
       "\n",
       "    .dataframe tbody tr th {\n",
       "        vertical-align: top;\n",
       "    }\n",
       "\n",
       "    .dataframe thead th {\n",
       "        text-align: right;\n",
       "    }\n",
       "</style>\n",
       "<table border=\"1\" class=\"dataframe\">\n",
       "  <thead>\n",
       "    <tr style=\"text-align: right;\">\n",
       "      <th></th>\n",
       "      <th>recurso</th>\n",
       "      <th>lugar</th>\n",
       "      <th>titulo</th>\n",
       "      <th>fecha</th>\n",
       "    </tr>\n",
       "  </thead>\n",
       "  <tbody>\n",
       "    <tr>\n",
       "      <th>0</th>\n",
       "      <td>http://bnb.data.bl.uk/id/resource/019800347</td>\n",
       "      <td>http://sws.geonames.org/6252001/</td>\n",
       "      <td>Exemplary stories</td>\n",
       "      <td>2020-05</td>\n",
       "    </tr>\n",
       "    <tr>\n",
       "      <th>1</th>\n",
       "      <td>http://bnb.data.bl.uk/id/resource/018557368</td>\n",
       "      <td>http://sws.geonames.org/6252001/</td>\n",
       "      <td>The history and adventures of the renowned Don...</td>\n",
       "      <td>2017-10</td>\n",
       "    </tr>\n",
       "    <tr>\n",
       "      <th>2</th>\n",
       "      <td>http://bnb.data.bl.uk/id/resource/019553770</td>\n",
       "      <td>http://sws.geonames.org/6252001/</td>\n",
       "      <td>The complete Don Quixote of La Mancha</td>\n",
       "      <td>2019-09</td>\n",
       "    </tr>\n",
       "    <tr>\n",
       "      <th>3</th>\n",
       "      <td>http://bnb.data.bl.uk/id/resource/019559061</td>\n",
       "      <td>http://sws.geonames.org/6269131/</td>\n",
       "      <td>Don Quixote</td>\n",
       "      <td>2019-10</td>\n",
       "    </tr>\n",
       "    <tr>\n",
       "      <th>4</th>\n",
       "      <td>http://bnb.data.bl.uk/id/resource/014926909</td>\n",
       "      <td>http://sws.geonames.org/6252001/</td>\n",
       "      <td>Don Quixote</td>\n",
       "      <td>2009-05</td>\n",
       "    </tr>\n",
       "    <tr>\n",
       "      <th>5</th>\n",
       "      <td>http://bnb.data.bl.uk/id/resource/018299510</td>\n",
       "      <td>http://sws.geonames.org/6252001/</td>\n",
       "      <td>Don Quixote</td>\n",
       "      <td>2017-04</td>\n",
       "    </tr>\n",
       "    <tr>\n",
       "      <th>6</th>\n",
       "      <td>http://bnb.data.bl.uk/id/resource/018812620</td>\n",
       "      <td>http://sws.geonames.org/6252001/</td>\n",
       "      <td>Don Quixote</td>\n",
       "      <td>2018-04</td>\n",
       "    </tr>\n",
       "    <tr>\n",
       "      <th>7</th>\n",
       "      <td>http://bnb.data.bl.uk/id/resource/018861452</td>\n",
       "      <td>http://sws.geonames.org/6269131/</td>\n",
       "      <td>Don Quixote</td>\n",
       "      <td>2018-07</td>\n",
       "    </tr>\n",
       "    <tr>\n",
       "      <th>8</th>\n",
       "      <td>http://bnb.data.bl.uk/id/resource/018419681</td>\n",
       "      <td>http://sws.geonames.org/6269131/</td>\n",
       "      <td>Don Quixote</td>\n",
       "      <td>2017-09</td>\n",
       "    </tr>\n",
       "    <tr>\n",
       "      <th>9</th>\n",
       "      <td>http://bnb.data.bl.uk/id/resource/020025106</td>\n",
       "      <td>http://sws.geonames.org/6252001/</td>\n",
       "      <td>Don Quixote</td>\n",
       "      <td>2020-11</td>\n",
       "    </tr>\n",
       "    <tr>\n",
       "      <th>10</th>\n",
       "      <td>http://bnb.data.bl.uk/id/resource/018717214</td>\n",
       "      <td>http://sws.geonames.org/6252001/</td>\n",
       "      <td>The complete exemplary novels</td>\n",
       "      <td>2018-03</td>\n",
       "    </tr>\n",
       "  </tbody>\n",
       "</table>\n",
       "</div>"
      ],
      "text/plain": [
       "                                        recurso  \\\n",
       "0   http://bnb.data.bl.uk/id/resource/019800347   \n",
       "1   http://bnb.data.bl.uk/id/resource/018557368   \n",
       "2   http://bnb.data.bl.uk/id/resource/019553770   \n",
       "3   http://bnb.data.bl.uk/id/resource/019559061   \n",
       "4   http://bnb.data.bl.uk/id/resource/014926909   \n",
       "5   http://bnb.data.bl.uk/id/resource/018299510   \n",
       "6   http://bnb.data.bl.uk/id/resource/018812620   \n",
       "7   http://bnb.data.bl.uk/id/resource/018861452   \n",
       "8   http://bnb.data.bl.uk/id/resource/018419681   \n",
       "9   http://bnb.data.bl.uk/id/resource/020025106   \n",
       "10  http://bnb.data.bl.uk/id/resource/018717214   \n",
       "\n",
       "                               lugar  \\\n",
       "0   http://sws.geonames.org/6252001/   \n",
       "1   http://sws.geonames.org/6252001/   \n",
       "2   http://sws.geonames.org/6252001/   \n",
       "3   http://sws.geonames.org/6269131/   \n",
       "4   http://sws.geonames.org/6252001/   \n",
       "5   http://sws.geonames.org/6252001/   \n",
       "6   http://sws.geonames.org/6252001/   \n",
       "7   http://sws.geonames.org/6269131/   \n",
       "8   http://sws.geonames.org/6269131/   \n",
       "9   http://sws.geonames.org/6252001/   \n",
       "10  http://sws.geonames.org/6252001/   \n",
       "\n",
       "                                               titulo    fecha  \n",
       "0                                   Exemplary stories  2020-05  \n",
       "1   The history and adventures of the renowned Don...  2017-10  \n",
       "2               The complete Don Quixote of La Mancha  2019-09  \n",
       "3                                         Don Quixote  2019-10  \n",
       "4                                         Don Quixote  2009-05  \n",
       "5                                         Don Quixote  2017-04  \n",
       "6                                         Don Quixote  2018-04  \n",
       "7                                         Don Quixote  2018-07  \n",
       "8                                         Don Quixote  2017-09  \n",
       "9                                         Don Quixote  2020-11  \n",
       "10                      The complete exemplary novels  2018-03  "
      ]
     },
     "execution_count": 6,
     "metadata": {},
     "output_type": "execute_result"
    }
   ],
   "source": [
    "df"
   ]
  },
  {
   "cell_type": "markdown",
   "metadata": {},
   "source": [
    "## ¿Cuántos registros hemos recuperado?"
   ]
  },
  {
   "cell_type": "code",
   "execution_count": 7,
   "metadata": {},
   "outputs": [
    {
     "data": {
      "text/plain": [
       "11"
      ]
     },
     "execution_count": 7,
     "metadata": {},
     "output_type": "execute_result"
    }
   ],
   "source": [
    "len(df)"
   ]
  },
  {
   "cell_type": "markdown",
   "metadata": {},
   "source": [
    "### Vamos a contar el número de resultados por lugar"
   ]
  },
  {
   "cell_type": "code",
   "execution_count": 8,
   "metadata": {},
   "outputs": [],
   "source": [
    "lugares_por_recurso = df.groupby(\"lugar\")[\"recurso\"].count()"
   ]
  },
  {
   "cell_type": "code",
   "execution_count": 9,
   "metadata": {},
   "outputs": [
    {
     "data": {
      "text/plain": [
       "lugar\n",
       "http://sws.geonames.org/6252001/    8\n",
       "http://sws.geonames.org/6269131/    3\n",
       "Name: recurso, dtype: int64"
      ]
     },
     "execution_count": 9,
     "metadata": {},
     "output_type": "execute_result"
    }
   ],
   "source": [
    "lugares_por_recurso"
   ]
  },
  {
   "cell_type": "markdown",
   "metadata": {},
   "source": [
    "### Creamos una gráfica para visualizar los recursos por fecha"
   ]
  },
  {
   "cell_type": "code",
   "execution_count": 10,
   "metadata": {},
   "outputs": [
    {
     "data": {
      "image/png": "[encoded data removed]",
      "text/plain": [
       "<Figure size 1008x576 with 1 Axes>"
      ]
     },
     "metadata": {
      "needs_background": "light"
     },
     "output_type": "display_data"
    }
   ],
   "source": [
    "ax = df['fecha'].value_counts().plot(kind='bar',\n",
    "                                    figsize=(14,8),\n",
    "                                    title=\"Número de recursos por fecha\")\n",
    "ax.set_xlabel(\"Fechas\")\n",
    "ax.set_ylabel(\"Recursos\")\n",
    "plt.show()"
   ]
  },
  {
   "cell_type": "markdown",
   "metadata": {},
   "source": [
    "### Agrupamos los elementos por año"
   ]
  },
  {
   "cell_type": "code",
   "execution_count": 11,
   "metadata": {},
   "outputs": [],
   "source": [
    "df['año'] = pd.DatetimeIndex(df['fecha']).year"
   ]
  },
  {
   "cell_type": "code",
   "execution_count": 12,
   "metadata": {},
   "outputs": [
    {
     "data": {
      "text/plain": [
       "0     2020\n",
       "1     2017\n",
       "2     2019\n",
       "3     2019\n",
       "4     2009\n",
       "5     2017\n",
       "6     2018\n",
       "7     2018\n",
       "8     2017\n",
       "9     2020\n",
       "10    2018\n",
       "Name: año, dtype: int64"
      ]
     },
     "execution_count": 12,
     "metadata": {},
     "output_type": "execute_result"
    }
   ],
   "source": [
    "df['año']"
   ]
  },
  {
   "cell_type": "markdown",
   "metadata": {},
   "source": [
    "### Creamos una gráfica por año"
   ]
  },
  {
   "cell_type": "code",
   "execution_count": 13,
   "metadata": {},
   "outputs": [
    {
     "data": {
      "image/png": "[encoded data removed]",
      "text/plain": [
       "<Figure size 1008x576 with 1 Axes>"
      ]
     },
     "metadata": {
      "needs_background": "light"
     },
     "output_type": "display_data"
    }
   ],
   "source": [
    "ax = df['año'].value_counts().plot(kind='bar',\n",
    "                                    figsize=(14,8),\n",
    "                                    title=\"Número de recursos por año\")\n",
    "ax.set_xlabel(\"Fechas\")\n",
    "ax.set_ylabel(\"Recursos\")\n",
    "plt.show()"
   ]
  },
  {
   "cell_type": "markdown",
   "metadata": {},
   "source": [
    "## Explorando los lugares"
   ]
  },
  {
   "cell_type": "code",
   "execution_count": 14,
   "metadata": {},
   "outputs": [
    {
     "name": "stdout",
     "output_type": "stream",
     "text": [
      "http://sws.geonames.org/6252001/\n",
      "http://sws.geonames.org/6269131/\n"
     ]
    }
   ],
   "source": [
    "lugares = pd.unique(df['lugar']).tolist()\n",
    "cadena_lugares = ''\n",
    "for a in sorted(lugares):\n",
    "    print(a)\n",
    "    cadena_lugares = cadena_lugares + ' \\\"' + a.replace(\"http://sws.geonames.org/\", \"\").replace(\"/\", \"\") + '\\\"'"
   ]
  },
  {
   "cell_type": "markdown",
   "metadata": {},
   "source": [
    "### Obtenemos la latitud y la longitud de Wikidata"
   ]
  },
  {
   "cell_type": "code",
   "execution_count": 15,
   "metadata": {},
   "outputs": [
    {
     "name": "stdout",
     "output_type": "stream",
     "text": [
      "\n",
      "PREFIX bibo: <http://purl.org/ontology/bibo/>\n",
      "SELECT ?idgeonames ?lat ?lon ?x ?xLabel \n",
      "WHERE { \n",
      "  values ?idgeonames {  \"6252001\" \"6269131\" } \n",
      "  ?x wdt:P1566 ?idgeonames ; \n",
      "   p:P625 [\n",
      "     psv:P625 [\n",
      "       wikibase:geoLatitude ?lat ;\n",
      "       wikibase:geoLongitude ?lon ;\n",
      "       wikibase:geoGlobe ?globe ;\n",
      "     ];\n",
      "     ps:P625 ?coord\n",
      "   ]\n",
      "   SERVICE wikibase:label { bd:serviceParam wikibase:language \"[AUTO_LANGUAGE],en\". }\n",
      "}\n",
      "\n"
     ]
    }
   ],
   "source": [
    "url = 'https://query.wikidata.org/sparql'\n",
    "sentencia = \"\"\"\n",
    "PREFIX bibo: <http://purl.org/ontology/bibo/>\n",
    "SELECT ?idgeonames ?lat ?lon ?x ?xLabel \n",
    "WHERE {{ \n",
    "  values ?idgeonames {{ {0} }} \n",
    "  ?x wdt:P1566 ?idgeonames ; \n",
    "   p:P625 [\n",
    "     psv:P625 [\n",
    "       wikibase:geoLatitude ?lat ;\n",
    "       wikibase:geoLongitude ?lon ;\n",
    "       wikibase:geoGlobe ?globe ;\n",
    "     ];\n",
    "     ps:P625 ?coord\n",
    "   ]\n",
    "   SERVICE wikibase:label {{ bd:serviceParam wikibase:language \"[AUTO_LANGUAGE],en\". }}\n",
    "}}\n",
    "\"\"\"\n",
    "\n",
    "sentencia = sentencia.format(cadena_lugares)\n",
    "print(sentencia)\n",
    "\n",
    "r = requests.get(url, params = {'format': 'json', 'query': sentencia})\n",
    "puntos_geo = r.json()"
   ]
  },
  {
   "cell_type": "markdown",
   "metadata": {},
   "source": [
    "### Finalmente, añadimos los marcadores al mapa"
   ]
  },
  {
   "cell_type": "code",
   "execution_count": 17,
   "metadata": {},
   "outputs": [
    {
     "name": "stdout",
     "output_type": "stream",
     "text": [
      "39.828175 -98.5795\n",
      "53.0 -1.0\n"
     ]
    }
   ],
   "source": [
    "mapa = folium.Map(location=[0,0], zoom_start=1.5)\n",
    "\n",
    "for geo in puntos_geo['results']['bindings']:\n",
    "    idwikidata = geo['x']['value']\n",
    "    lat = geo['lat']['value']\n",
    "    lon = geo['lon']['value']\n",
    "    idgeonames = geo['idgeonames']['value']\n",
    "    etiqueta = geo['xLabel']['value']\n",
    "    print(lat, lon)\n",
    "    \n",
    "    # adding a text to the popup\n",
    "    count = lugares_por_recurso[['http://sws.geonames.org/' + idgeonames + '/']][0]\n",
    "    texto_popup = str(count) + \" registros publicados en <a hreh='\" + str(idwikidata) + \"'>\" + etiqueta + \"</a>\"\n",
    "    \n",
    "    folium.Marker([lat,lon], popup= texto_popup).add_to(mapa)"
   ]
  },
  {
   "cell_type": "code",
   "execution_count": 18,
   "metadata": {},
   "outputs": [
    {
     "data": {
      "text/html": [
       "<div style=\"width:100%;\"><div style=\"position:relative;width:100%;height:0;padding-bottom:60%;\"><iframe src=\"about:blank\" style=\"position:absolute;width:100%;height:100%;left:0;top:0;border:none !important;\" data-html=PCFET0NUWVBFIGh0bWw+CjxoZWFkPiAgICAKICAgIDxtZXRhIGh0dHAtZXF1aXY9ImNvbnRlbnQtdHlwZSIgY29udGVudD0idGV4dC9odG1sOyBjaGFyc2V0PVVURi04IiAvPgogICAgCiAgICAgICAgPHNjcmlwdD4KICAgICAgICAgICAgTF9OT19UT1VDSCA9IGZhbHNlOwogICAgICAgICAgICBMX0RJU0FCTEVfM0QgPSBmYWxzZTsKICAgICAgICA8L3NjcmlwdD4KICAgIAogICAgPHNjcmlwdCBzcmM9Imh0dHBzOi8vY2RuLmpzZGVsaXZyLm5ldC9ucG0vbGVhZmxldEAxLjUuMS9kaXN0L2xlYWZsZXQuanMiPjwvc2NyaXB0PgogICAgPHNjcmlwdCBzcmM9Imh0dHBzOi8vY29kZS5qcXVlcnkuY29tL2pxdWVyeS0xLjEyLjQubWluLmpzIj48L3NjcmlwdD4KICAgIDxzY3JpcHQgc3JjPSJodHRwczovL21heGNkbi5ib290c3RyYXBjZG4uY29tL2Jvb3RzdHJhcC8zLjIuMC9qcy9ib290c3RyYXAubWluLmpzIj48L3NjcmlwdD4KICAgIDxzY3JpcHQgc3JjPSJodHRwczovL2NkbmpzLmNsb3VkZmxhcmUuY29tL2FqYXgvbGlicy9MZWFmbGV0LmF3ZXNvbWUtbWFya2Vycy8yLjAuMi9sZWFmbGV0LmF3ZXNvbWUtbWFya2Vycy5qcyI+PC9zY3JpcHQ+CiAgICA8bGluayByZWw9InN0eWxlc2hlZXQiIGhyZWY9Imh0dHBzOi8vY2RuLmpzZGVsaXZyLm5ldC9ucG0vbGVhZmxldEAxLjUuMS9kaXN0L2xlYWZsZXQuY3NzIi8+CiAgICA8bGluayByZWw9InN0eWxlc2hlZXQiIGhyZWY9Imh0dHBzOi8vbWF4Y2RuLmJvb3RzdHJhcGNkbi5jb20vYm9vdHN0cmFwLzMuMi4wL2Nzcy9ib290c3RyYXAubWluLmNzcyIvPgogICAgPGxpbmsgcmVsPSJzdHlsZXNoZWV0IiBocmVmPSJodHRwczovL21heGNkbi5ib290c3RyYXBjZG4uY29tL2Jvb3RzdHJhcC8zLjIuMC9jc3MvYm9vdHN0cmFwLXRoZW1lLm1pbi5jc3MiLz4KICAgIDxsaW5rIHJlbD0ic3R5bGVzaGVldCIgaHJlZj0iaHR0cHM6Ly9tYXhjZG4uYm9vdHN0cmFwY2RuLmNvbS9mb250LWF3ZXNvbWUvNC42LjMvY3NzL2ZvbnQtYXdlc29tZS5taW4uY3NzIi8+CiAgICA8bGluayByZWw9InN0eWxlc2hlZXQiIGhyZWY9Imh0dHBzOi8vY2RuanMuY2xvdWRmbGFyZS5jb20vYWpheC9saWJzL0xlYWZsZXQuYXdlc29tZS1tYXJrZXJzLzIuMC4yL2xlYWZsZXQuYXdlc29tZS1tYXJrZXJzLmNzcyIvPgogICAgPGxpbmsgcmVsPSJzdHlsZXNoZWV0IiBocmVmPSJodHRwczovL3Jhd2Nkbi5naXRoYWNrLmNvbS9weXRob24tdmlzdWFsaXphdGlvbi9mb2xpdW0vbWFzdGVyL2ZvbGl1bS90ZW1wbGF0ZXMvbGVhZmxldC5hd2Vzb21lLnJvdGF0ZS5jc3MiLz4KICAgIDxzdHlsZT5odG1sLCBib2R5IHt3aWR0aDogMTAwJTtoZWlnaHQ6IDEwMCU7bWFyZ2luOiAwO3BhZGRpbmc6IDA7fTwvc3R5bGU+CiAgICA8c3R5bGU+I21hcCB7cG9zaXRpb246YWJzb2x1dGU7dG9wOjA7Ym90dG9tOjA7cmlnaHQ6MDtsZWZ0OjA7fTwvc3R5bGU+CiAgICAKICAgICAgICAgICAgPG1ldGEgbmFtZT0idmlld3BvcnQiIGNvbnRlbnQ9IndpZHRoPWRldmljZS13aWR0aCwKICAgICAgICAgICAgICAgIGluaXRpYWwtc2NhbGU9MS4wLCBtYXhpbXVtLXNjYWxlPTEuMCwgdXNlci1zY2FsYWJsZT1ubyIgLz4KICAgICAgICAgICAgPHN0eWxlPgogICAgICAgICAgICAgICAgI21hcF8xOGQyMTkwZGFkOTk0ZGFmYjNjNGJjNzRhNTc3YTYzOSB7CiAgICAgICAgICAgICAgICAgICAgcG9zaXRpb246IHJlbGF0aXZlOwogICAgICAgICAgICAgICAgICAgIHdpZHRoOiAxMDAuMCU7CiAgICAgICAgICAgICAgICAgICAgaGVpZ2h0OiAxMDAuMCU7CiAgICAgICAgICAgICAgICAgICAgbGVmdDogMC4wJTsKICAgICAgICAgICAgICAgICAgICB0b3A6IDAuMCU7CiAgICAgICAgICAgICAgICB9CiAgICAgICAgICAgIDwvc3R5bGU+CiAgICAgICAgCjwvaGVhZD4KPGJvZHk+ICAgIAogICAgCiAgICAgICAgICAgIDxkaXYgY2xhc3M9ImZvbGl1bS1tYXAiIGlkPSJtYXBfMThkMjE5MGRhZDk5NGRhZmIzYzRiYzc0YTU3N2E2MzkiID48L2Rpdj4KICAgICAgICAKPC9ib2R5Pgo8c2NyaXB0PiAgICAKICAgIAogICAgICAgICAgICB2YXIgbWFwXzE4ZDIxOTBkYWQ5OTRkYWZiM2M0YmM3NGE1NzdhNjM5ID0gTC5tYXAoCiAgICAgICAgICAgICAgICAibWFwXzE4ZDIxOTBkYWQ5OTRkYWZiM2M0YmM3NGE1NzdhNjM5IiwKICAgICAgICAgICAgICAgIHsKICAgICAgICAgICAgICAgICAgICBjZW50ZXI6IFswLjAsIDAuMF0sCiAgICAgICAgICAgICAgICAgICAgY3JzOiBMLkNSUy5FUFNHMzg1NywKICAgICAgICAgICAgICAgICAgICB6b29tOiAxLjUsCiAgICAgICAgICAgICAgICAgICAgem9vbUNvbnRyb2w6IHRydWUsCiAgICAgICAgICAgICAgICAgICAgcHJlZmVyQ2FudmFzOiBmYWxzZSwKICAgICAgICAgICAgICAgIH0KICAgICAgICAgICAgKTsKCiAgICAgICAgICAgIAoKICAgICAgICAKICAgIAogICAgICAgICAgICB2YXIgdGlsZV9sYXllcl9hZWMwODAyYzNiMWU0YzgyYWRlMjNmYjkxOTIwNjg2OCA9IEwudGlsZUxheWVyKAogICAgICAgICAgICAgICAgImh0dHBzOi8ve3N9LnRpbGUub3BlbnN0cmVldG1hcC5vcmcve3p9L3t4fS97eX0ucG5nIiwKICAgICAgICAgICAgICAgIHsiYXR0cmlidXRpb24iOiAiRGF0YSBieSBcdTAwMjZjb3B5OyBcdTAwM2NhIGhyZWY9XCJodHRwOi8vb3BlbnN0cmVldG1hcC5vcmdcIlx1MDAzZU9wZW5TdHJlZXRNYXBcdTAwM2MvYVx1MDAzZSwgdW5kZXIgXHUwMDNjYSBocmVmPVwiaHR0cDovL3d3dy5vcGVuc3RyZWV0bWFwLm9yZy9jb3B5cmlnaHRcIlx1MDAzZU9EYkxcdTAwM2MvYVx1MDAzZS4iLCAiZGV0ZWN0UmV0aW5hIjogZmFsc2UsICJtYXhOYXRpdmVab29tIjogMTgsICJtYXhab29tIjogMTgsICJtaW5ab29tIjogMCwgIm5vV3JhcCI6IGZhbHNlLCAib3BhY2l0eSI6IDEsICJzdWJkb21haW5zIjogImFiYyIsICJ0bXMiOiBmYWxzZX0KICAgICAgICAgICAgKS5hZGRUbyhtYXBfMThkMjE5MGRhZDk5NGRhZmIzYzRiYzc0YTU3N2E2MzkpOwogICAgICAgIAogICAgCiAgICAgICAgICAgIHZhciBtYXJrZXJfZTkzZTY0NGYwZmFmNGQ5YTk3YWIzOTBhZWExNGQwOTkgPSBMLm1hcmtlcigKICAgICAgICAgICAgICAgIFszOS44MjgxNzUsIC05OC41Nzk1XSwKICAgICAgICAgICAgICAgIHt9CiAgICAgICAgICAgICkuYWRkVG8obWFwXzE4ZDIxOTBkYWQ5OTRkYWZiM2M0YmM3NGE1NzdhNjM5KTsKICAgICAgICAKICAgIAogICAgICAgIHZhciBwb3B1cF85YzRmYjgxZWUyZGI0NjdiOGQ1NzFhYzdiY2Q3YjY4ZiA9IEwucG9wdXAoeyJtYXhXaWR0aCI6ICIxMDAlIn0pOwoKICAgICAgICAKICAgICAgICAgICAgdmFyIGh0bWxfOTM0NDk5N2U3ZTg1NDY0NGEwMWE2NTg2NzU4OTk4NzAgPSAkKGA8ZGl2IGlkPSJodG1sXzkzNDQ5OTdlN2U4NTQ2NDRhMDFhNjU4Njc1ODk5ODcwIiBzdHlsZT0id2lkdGg6IDEwMC4wJTsgaGVpZ2h0OiAxMDAuMCU7Ij44IHJlZ2lzdHJvcyBwdWJsaWNhZG9zIGVuIDxhIGhyZWg9J2h0dHA6Ly93d3cud2lraWRhdGEub3JnL2VudGl0eS9RMzAnPlVuaXRlZCBTdGF0ZXMgb2YgQW1lcmljYTwvYT48L2Rpdj5gKVswXTsKICAgICAgICAgICAgcG9wdXBfOWM0ZmI4MWVlMmRiNDY3YjhkNTcxYWM3YmNkN2I2OGYuc2V0Q29udGVudChodG1sXzkzNDQ5OTdlN2U4NTQ2NDRhMDFhNjU4Njc1ODk5ODcwKTsKICAgICAgICAKCiAgICAgICAgbWFya2VyX2U5M2U2NDRmMGZhZjRkOWE5N2FiMzkwYWVhMTRkMDk5LmJpbmRQb3B1cChwb3B1cF85YzRmYjgxZWUyZGI0NjdiOGQ1NzFhYzdiY2Q3YjY4ZikKICAgICAgICA7CgogICAgICAgIAogICAgCiAgICAKICAgICAgICAgICAgdmFyIG1hcmtlcl9iYjBhN2QxZjg1MmM0MTlkOWY4ZjQ4ZWI5MzcyOWNmNyA9IEwubWFya2VyKAogICAgICAgICAgICAgICAgWzUzLjAsIC0xLjBdLAogICAgICAgICAgICAgICAge30KICAgICAgICAgICAgKS5hZGRUbyhtYXBfMThkMjE5MGRhZDk5NGRhZmIzYzRiYzc0YTU3N2E2MzkpOwogICAgICAgIAogICAgCiAgICAgICAgdmFyIHBvcHVwXzRkMWJmYTJmZmYyODQzYjg4YTJhMmQ4M2ZmM2NmMzYzID0gTC5wb3B1cCh7Im1heFdpZHRoIjogIjEwMCUifSk7CgogICAgICAgIAogICAgICAgICAgICB2YXIgaHRtbF83OWE4ZWJjYTU4YWY0MGFkOTgxYzA0MDNjYTYxNGU5MSA9ICQoYDxkaXYgaWQ9Imh0bWxfNzlhOGViY2E1OGFmNDBhZDk4MWMwNDAzY2E2MTRlOTEiIHN0eWxlPSJ3aWR0aDogMTAwLjAlOyBoZWlnaHQ6IDEwMC4wJTsiPjMgcmVnaXN0cm9zIHB1YmxpY2Fkb3MgZW4gPGEgaHJlaD0naHR0cDovL3d3dy53aWtpZGF0YS5vcmcvZW50aXR5L1EyMSc+RW5nbGFuZDwvYT48L2Rpdj5gKVswXTsKICAgICAgICAgICAgcG9wdXBfNGQxYmZhMmZmZjI4NDNiODhhMmEyZDgzZmYzY2YzNjMuc2V0Q29udGVudChodG1sXzc5YThlYmNhNThhZjQwYWQ5ODFjMDQwM2NhNjE0ZTkxKTsKICAgICAgICAKCiAgICAgICAgbWFya2VyX2JiMGE3ZDFmODUyYzQxOWQ5ZjhmNDhlYjkzNzI5Y2Y3LmJpbmRQb3B1cChwb3B1cF80ZDFiZmEyZmZmMjg0M2I4OGEyYTJkODNmZjNjZjM2MykKICAgICAgICA7CgogICAgICAgIAogICAgCjwvc2NyaXB0Pg== onload=\"this.contentDocument.open();this.contentDocument.write(atob(this.getAttribute('data-html')));this.contentDocument.close();\" allowfullscreen webkitallowfullscreen mozallowfullscreen></iframe></div></div>"
      ],
      "text/plain": [
       "<folium.folium.Map at 0x7f7ec767c780>"
      ]
     },
     "execution_count": 18,
     "metadata": {},
     "output_type": "execute_result"
    }
   ],
   "source": [
    "mapa"
   ]
  },
  {
   "cell_type": "markdown",
   "metadata": {},
   "source": [
    "## Añadiendo áreas\n",
    "Folium permite la inserción de áreas para mejorar el aspecto y entendimiento del mapa obtenido como resultado. Multiplicamos el radio por un número que sea representativo y permita visualizar correctamente el área."
   ]
  },
  {
   "cell_type": "code",
   "execution_count": 46,
   "metadata": {},
   "outputs": [
    {
     "name": "stdout",
     "output_type": "stream",
     "text": [
      "3\n",
      "3\n"
     ]
    }
   ],
   "source": [
    "mapa_circulos = folium.Map(location=[20,0], tiles=\"OpenStreetMap\", zoom_start=2)\n",
    "\n",
    "for geo in puntos_geo['results']['bindings']:\n",
    "    \n",
    "    count = lugares_por_recurso[['http://sws.geonames.org/' + idgeonames + '/']][0]\n",
    "    print(count)\n",
    "    \n",
    "    etiqueta = geo['xLabel']['value']\n",
    "    idwikidata = geo['x']['value']\n",
    "    texto_popup = str(count) + \" registros publicados en <a hreh='\" + str(idwikidata) + \"'>\" + etiqueta + \"</a>\"\n",
    "\n",
    "    \n",
    "    folium.Circle(\n",
    "      location=[geo['lat']['value'], geo['lon']['value']],\n",
    "      popup=texto_popup,\n",
    "      radius=float(count)*30000,\n",
    "      color='crimson',\n",
    "      fill=True,\n",
    "      fill_color='crimson'\n",
    "    ).add_to(mapa_circulos)"
   ]
  },
  {
   "cell_type": "code",
   "execution_count": 47,
   "metadata": {},
   "outputs": [
    {
     "data": {
      "text/html": [
       "<div style=\"width:100%;\"><div style=\"position:relative;width:100%;height:0;padding-bottom:60%;\"><iframe src=\"about:blank\" style=\"position:absolute;width:100%;height:100%;left:0;top:0;border:none !important;\" data-html=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 onload=\"this.contentDocument.open();this.contentDocument.write(atob(this.getAttribute('data-html')));this.contentDocument.close();\" allowfullscreen webkitallowfullscreen mozallowfullscreen></iframe></div></div>"
      ],
      "text/plain": [
       "<folium.folium.Map at 0x7f7ec7533710>"
      ]
     },
     "execution_count": 47,
     "metadata": {},
     "output_type": "execute_result"
    }
   ],
   "source": [
    "mapa_circulos"
   ]
  },
  {
   "cell_type": "code",
   "execution_count": null,
   "metadata": {},
   "outputs": [],
   "source": []
  },
  {
   "cell_type": "code",
   "execution_count": null,
   "metadata": {},
   "outputs": [],
   "source": []
  }
 ],
 "metadata": {
  "kernelspec": {
   "display_name": "Python 3",
   "language": "python",
   "name": "python3"
  },
  "language_info": {
   "codemirror_mode": {
    "name": "ipython",
    "version": 3
   },
   "file_extension": ".py",
   "mimetype": "text/x-python",
   "name": "python",
   "nbconvert_exporter": "python",
   "pygments_lexer": "ipython3",
   "version": "3.6.9"
  }
 },
 "nbformat": 4,
 "nbformat_minor": 2
}
